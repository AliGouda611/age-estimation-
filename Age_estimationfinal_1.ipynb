{
 "cells": [
  {
   "cell_type": "code",
   "execution_count": null,
   "metadata": {
    "colab": {
     "base_uri": "https://localhost:8080/"
    },
    "id": "n3DBKKBO0MTW",
    "outputId": "9420a896-adf6-4c67-a779-fcfb3c6d30c2"
   },
   "outputs": [
    {
     "name": "stdout",
     "output_type": "stream",
     "text": [
      "Looking in indexes: https://pypi.org/simple, https://us-python.pkg.dev/colab-wheels/public/simple/\n",
      "Requirement already satisfied: tensorflow in /usr/local/lib/python3.8/dist-packages (2.9.2)\n",
      "Requirement already satisfied: typing-extensions>=3.6.6 in /usr/local/lib/python3.8/dist-packages (from tensorflow) (4.4.0)\n",
      "Requirement already satisfied: packaging in /usr/local/lib/python3.8/dist-packages (from tensorflow) (21.3)\n",
      "Requirement already satisfied: six>=1.12.0 in /usr/local/lib/python3.8/dist-packages (from tensorflow) (1.15.0)\n",
      "Requirement already satisfied: tensorflow-estimator<2.10.0,>=2.9.0rc0 in /usr/local/lib/python3.8/dist-packages (from tensorflow) (2.9.0)\n",
      "Requirement already satisfied: protobuf<3.20,>=3.9.2 in /usr/local/lib/python3.8/dist-packages (from tensorflow) (3.19.6)\n",
      "Requirement already satisfied: gast<=0.4.0,>=0.2.1 in /usr/local/lib/python3.8/dist-packages (from tensorflow) (0.4.0)\n",
      "Requirement already satisfied: h5py>=2.9.0 in /usr/local/lib/python3.8/dist-packages (from tensorflow) (3.1.0)\n",
      "Requirement already satisfied: opt-einsum>=2.3.2 in /usr/local/lib/python3.8/dist-packages (from tensorflow) (3.3.0)\n",
      "Requirement already satisfied: flatbuffers<2,>=1.12 in /usr/local/lib/python3.8/dist-packages (from tensorflow) (1.12)\n",
      "Requirement already satisfied: astunparse>=1.6.0 in /usr/local/lib/python3.8/dist-packages (from tensorflow) (1.6.3)\n",
      "Requirement already satisfied: termcolor>=1.1.0 in /usr/local/lib/python3.8/dist-packages (from tensorflow) (2.1.1)\n",
      "Requirement already satisfied: numpy>=1.20 in /usr/local/lib/python3.8/dist-packages (from tensorflow) (1.21.6)\n",
      "Requirement already satisfied: tensorboard<2.10,>=2.9 in /usr/local/lib/python3.8/dist-packages (from tensorflow) (2.9.1)\n",
      "Requirement already satisfied: libclang>=13.0.0 in /usr/local/lib/python3.8/dist-packages (from tensorflow) (14.0.6)\n",
      "Requirement already satisfied: google-pasta>=0.1.1 in /usr/local/lib/python3.8/dist-packages (from tensorflow) (0.2.0)\n",
      "Requirement already satisfied: grpcio<2.0,>=1.24.3 in /usr/local/lib/python3.8/dist-packages (from tensorflow) (1.51.1)\n",
      "Requirement already satisfied: setuptools in /usr/local/lib/python3.8/dist-packages (from tensorflow) (57.4.0)\n",
      "Requirement already satisfied: keras-preprocessing>=1.1.1 in /usr/local/lib/python3.8/dist-packages (from tensorflow) (1.1.2)\n",
      "Requirement already satisfied: wrapt>=1.11.0 in /usr/local/lib/python3.8/dist-packages (from tensorflow) (1.14.1)\n",
      "Requirement already satisfied: tensorflow-io-gcs-filesystem>=0.23.1 in /usr/local/lib/python3.8/dist-packages (from tensorflow) (0.28.0)\n",
      "Requirement already satisfied: absl-py>=1.0.0 in /usr/local/lib/python3.8/dist-packages (from tensorflow) (1.3.0)\n",
      "Requirement already satisfied: keras<2.10.0,>=2.9.0rc0 in /usr/local/lib/python3.8/dist-packages (from tensorflow) (2.9.0)\n",
      "Requirement already satisfied: wheel<1.0,>=0.23.0 in /usr/local/lib/python3.8/dist-packages (from astunparse>=1.6.0->tensorflow) (0.38.4)\n",
      "Requirement already satisfied: requests<3,>=2.21.0 in /usr/local/lib/python3.8/dist-packages (from tensorboard<2.10,>=2.9->tensorflow) (2.23.0)\n",
      "Requirement already satisfied: google-auth<3,>=1.6.3 in /usr/local/lib/python3.8/dist-packages (from tensorboard<2.10,>=2.9->tensorflow) (2.15.0)\n",
      "Requirement already satisfied: werkzeug>=1.0.1 in /usr/local/lib/python3.8/dist-packages (from tensorboard<2.10,>=2.9->tensorflow) (1.0.1)\n",
      "Requirement already satisfied: tensorboard-plugin-wit>=1.6.0 in /usr/local/lib/python3.8/dist-packages (from tensorboard<2.10,>=2.9->tensorflow) (1.8.1)\n",
      "Requirement already satisfied: google-auth-oauthlib<0.5,>=0.4.1 in /usr/local/lib/python3.8/dist-packages (from tensorboard<2.10,>=2.9->tensorflow) (0.4.6)\n",
      "Requirement already satisfied: markdown>=2.6.8 in /usr/local/lib/python3.8/dist-packages (from tensorboard<2.10,>=2.9->tensorflow) (3.4.1)\n",
      "Requirement already satisfied: tensorboard-data-server<0.7.0,>=0.6.0 in /usr/local/lib/python3.8/dist-packages (from tensorboard<2.10,>=2.9->tensorflow) (0.6.1)\n",
      "Requirement already satisfied: cachetools<6.0,>=2.0.0 in /usr/local/lib/python3.8/dist-packages (from google-auth<3,>=1.6.3->tensorboard<2.10,>=2.9->tensorflow) (5.2.0)\n",
      "Requirement already satisfied: pyasn1-modules>=0.2.1 in /usr/local/lib/python3.8/dist-packages (from google-auth<3,>=1.6.3->tensorboard<2.10,>=2.9->tensorflow) (0.2.8)\n",
      "Requirement already satisfied: rsa<5,>=3.1.4 in /usr/local/lib/python3.8/dist-packages (from google-auth<3,>=1.6.3->tensorboard<2.10,>=2.9->tensorflow) (4.9)\n",
      "Requirement already satisfied: requests-oauthlib>=0.7.0 in /usr/local/lib/python3.8/dist-packages (from google-auth-oauthlib<0.5,>=0.4.1->tensorboard<2.10,>=2.9->tensorflow) (1.3.1)\n",
      "Requirement already satisfied: importlib-metadata>=4.4 in /usr/local/lib/python3.8/dist-packages (from markdown>=2.6.8->tensorboard<2.10,>=2.9->tensorflow) (4.13.0)\n",
      "Requirement already satisfied: zipp>=0.5 in /usr/local/lib/python3.8/dist-packages (from importlib-metadata>=4.4->markdown>=2.6.8->tensorboard<2.10,>=2.9->tensorflow) (3.11.0)\n",
      "Requirement already satisfied: pyasn1<0.5.0,>=0.4.6 in /usr/local/lib/python3.8/dist-packages (from pyasn1-modules>=0.2.1->google-auth<3,>=1.6.3->tensorboard<2.10,>=2.9->tensorflow) (0.4.8)\n",
      "Requirement already satisfied: certifi>=2017.4.17 in /usr/local/lib/python3.8/dist-packages (from requests<3,>=2.21.0->tensorboard<2.10,>=2.9->tensorflow) (2022.9.24)\n",
      "Requirement already satisfied: idna<3,>=2.5 in /usr/local/lib/python3.8/dist-packages (from requests<3,>=2.21.0->tensorboard<2.10,>=2.9->tensorflow) (2.10)\n",
      "Requirement already satisfied: urllib3!=1.25.0,!=1.25.1,<1.26,>=1.21.1 in /usr/local/lib/python3.8/dist-packages (from requests<3,>=2.21.0->tensorboard<2.10,>=2.9->tensorflow) (1.24.3)\n",
      "Requirement already satisfied: chardet<4,>=3.0.2 in /usr/local/lib/python3.8/dist-packages (from requests<3,>=2.21.0->tensorboard<2.10,>=2.9->tensorflow) (3.0.4)\n",
      "Requirement already satisfied: oauthlib>=3.0.0 in /usr/local/lib/python3.8/dist-packages (from requests-oauthlib>=0.7.0->google-auth-oauthlib<0.5,>=0.4.1->tensorboard<2.10,>=2.9->tensorflow) (3.2.2)\n",
      "Requirement already satisfied: pyparsing!=3.0.5,>=2.0.2 in /usr/local/lib/python3.8/dist-packages (from packaging->tensorflow) (3.0.9)\n"
     ]
    }
   ],
   "source": [
    "!pip install tensorflow"
   ]
  },
  {
   "cell_type": "code",
   "execution_count": 1,
   "metadata": {
    "id": "X0reu5Ua3Mv-"
   },
   "outputs": [],
   "source": [
    "import numpy as np\n",
    "import pandas as pd\n",
    "import matplotlib.pyplot as plt\n",
    "import seaborn as sns\n",
    "import os\n",
    "from pathlib import Path\n",
    "from PIL import Image\n",
    "import tensorflow as tf\n",
    "import zipfile\n",
    "from tensorflow.keras.preprocessing.image import load_img\n",
    "from sklearn.model_selection import train_test_split\n",
    "from tensorflow.keras.initializers import random_uniform, glorot_uniform, constant, identity\n",
    "from tensorflow.keras.layers import Dropout, Input, Add, Dense, Activation, BatchNormalization, Flatten, Conv2D, MaxPooling2D, GlobalMaxPooling2D\n",
    "from tensorflow.keras.models import Model, load_model"
   ]
  },
  {
   "cell_type": "code",
   "execution_count": 2,
   "metadata": {
    "id": "H9TjDBTJ3iqG"
   },
   "outputs": [],
   "source": [
    "with zipfile.ZipFile('/content/crop_part1.zip' , 'r') as zip_ref:\n",
    "    zip_ref.extractall()"
   ]
  },
  {
   "cell_type": "code",
   "execution_count": 3,
   "metadata": {
    "id": "e3nLuQHI3-wl"
   },
   "outputs": [],
   "source": [
    "path = Path(\"/content/crop_part1\")\n",
    "filenames = list(map(lambda x: x.name, path.glob('*.jpg')))"
   ]
  },
  {
   "cell_type": "code",
   "execution_count": null,
   "metadata": {
    "colab": {
     "base_uri": "https://localhost:8080/"
    },
    "id": "JYoiBYLH6TV_",
    "outputId": "45574ef0-0924-4e38-8a07-9e1e958acc25"
   },
   "outputs": [
    {
     "name": "stdout",
     "output_type": "stream",
     "text": [
      "9780\n",
      "['17_0_0_20170110231640217.jpg.chip.jpg', '26_1_2_20170104022148861.jpg.chip.jpg', '5_1_0_20170109193708669.jpg.chip.jpg']\n"
     ]
    }
   ],
   "source": [
    "print(len(filenames))\n",
    "print(filenames[:3])"
   ]
  },
  {
   "cell_type": "code",
   "execution_count": null,
   "metadata": {
    "id": "Y65E2C5oIGDC"
   },
   "outputs": [],
   "source": [
    "import glob"
   ]
  },
  {
   "cell_type": "markdown",
   "metadata": {
    "id": "-KQlJEW_Jb1y"
   },
   "source": [
    "creating our dictionary to help us on parsing the information from the dataset, along with some other information"
   ]
  },
  {
   "cell_type": "code",
   "execution_count": null,
   "metadata": {
    "id": "fhKNfRPlIUpk"
   },
   "outputs": [],
   "source": [
    "dataset_dict = {\n",
    "    'race_id': {\n",
    "        0: 'white', \n",
    "        1: 'black', \n",
    "        2: 'asian', \n",
    "        3: 'indian', \n",
    "        4: 'others'\n",
    "    },\n",
    "    'gender_id': {\n",
    "        0: 'male',\n",
    "        1: 'female'\n",
    "    }\n",
    "}\n",
    "\n",
    "dataset_dict['gender_alias'] = dict((g, i) for i, g in dataset_dict['gender_id'].items())\n",
    "dataset_dict['race_alias'] = dict((r, i) for i, r in dataset_dict['race_id'].items())"
   ]
  },
  {
   "cell_type": "markdown",
   "metadata": {
    "id": "V7dg6ygLJejO"
   },
   "source": [
    "Define a function to help us on extracting the data from our dataset. This function will be used to iterate over each file of the UTK dataset and return a Pandas Dataframe containing all the fields (NOW OUR DATASET NAMED DF)"
   ]
  },
  {
   "cell_type": "code",
   "execution_count": null,
   "metadata": {
    "id": "bbqqMT_AHqdP"
   },
   "outputs": [],
   "source": [
    "def parse_dataset(dataset_path, ext='jpg'):\n",
    "    \"\"\"\n",
    "    Used to extract information about our dataset. It does iterate over all images and return a DataFrame with\n",
    "    the data (age, gender and sex) of all files.\n",
    "    \"\"\"\n",
    "    def parse_info_from_file(path):\n",
    "        \"\"\"\n",
    "        Parse information from a single file\n",
    "        \"\"\"\n",
    "        try:\n",
    "            filename = os.path.split(path)[1]\n",
    "            filename = os.path.splitext(filename)[0]\n",
    "            age, gender, race, _ = filename.split('_')\n",
    "\n",
    "            return int(age), dataset_dict['gender_id'][int(gender)], dataset_dict['race_id'][int(race)]\n",
    "        except Exception as ex:\n",
    "            return None, None, None\n",
    "        \n",
    "    files = glob.glob(os.path.join(dataset_path, \"*.%s\" % ext))\n",
    "    \n",
    "    records = []\n",
    "    for file in files:\n",
    "        info = parse_info_from_file(file)\n",
    "        records.append(info)\n",
    "        \n",
    "    df = pd.DataFrame(records)\n",
    "    df['file'] = files\n",
    "    df.columns = ['age', 'gender', 'race', 'file']\n",
    "    df = df.dropna()\n",
    "    \n",
    "    return df"
   ]
  },
  {
   "cell_type": "code",
   "execution_count": null,
   "metadata": {
    "colab": {
     "base_uri": "https://localhost:8080/",
     "height": 206
    },
    "id": "DxN7PKN0H-eL",
    "outputId": "3ca41020-dd01-432e-820e-14508722c6bc"
   },
   "outputs": [
    {
     "data": {
      "text/html": [
       "\n",
       "  <div id=\"df-53c3abbe-aee6-4b84-884e-4be56e076331\">\n",
       "    <div class=\"colab-df-container\">\n",
       "      <div>\n",
       "<style scoped>\n",
       "    .dataframe tbody tr th:only-of-type {\n",
       "        vertical-align: middle;\n",
       "    }\n",
       "\n",
       "    .dataframe tbody tr th {\n",
       "        vertical-align: top;\n",
       "    }\n",
       "\n",
       "    .dataframe thead th {\n",
       "        text-align: right;\n",
       "    }\n",
       "</style>\n",
       "<table border=\"1\" class=\"dataframe\">\n",
       "  <thead>\n",
       "    <tr style=\"text-align: right;\">\n",
       "      <th></th>\n",
       "      <th>age</th>\n",
       "      <th>gender</th>\n",
       "      <th>race</th>\n",
       "      <th>file</th>\n",
       "    </tr>\n",
       "  </thead>\n",
       "  <tbody>\n",
       "    <tr>\n",
       "      <th>0</th>\n",
       "      <td>17.0</td>\n",
       "      <td>male</td>\n",
       "      <td>white</td>\n",
       "      <td>crop_part1/17_0_0_20170110231640217.jpg.chip.jpg</td>\n",
       "    </tr>\n",
       "    <tr>\n",
       "      <th>1</th>\n",
       "      <td>26.0</td>\n",
       "      <td>female</td>\n",
       "      <td>asian</td>\n",
       "      <td>crop_part1/26_1_2_20170104022148861.jpg.chip.jpg</td>\n",
       "    </tr>\n",
       "    <tr>\n",
       "      <th>2</th>\n",
       "      <td>5.0</td>\n",
       "      <td>female</td>\n",
       "      <td>white</td>\n",
       "      <td>crop_part1/5_1_0_20170109193708669.jpg.chip.jpg</td>\n",
       "    </tr>\n",
       "    <tr>\n",
       "      <th>3</th>\n",
       "      <td>36.0</td>\n",
       "      <td>female</td>\n",
       "      <td>white</td>\n",
       "      <td>crop_part1/36_1_0_20170103182523314.jpg.chip.jpg</td>\n",
       "    </tr>\n",
       "    <tr>\n",
       "      <th>4</th>\n",
       "      <td>21.0</td>\n",
       "      <td>female</td>\n",
       "      <td>others</td>\n",
       "      <td>crop_part1/21_1_4_20170103234037067.jpg.chip.jpg</td>\n",
       "    </tr>\n",
       "  </tbody>\n",
       "</table>\n",
       "</div>\n",
       "      <button class=\"colab-df-convert\" onclick=\"convertToInteractive('df-53c3abbe-aee6-4b84-884e-4be56e076331')\"\n",
       "              title=\"Convert this dataframe to an interactive table.\"\n",
       "              style=\"display:none;\">\n",
       "        \n",
       "  <svg xmlns=\"http://www.w3.org/2000/svg\" height=\"24px\"viewBox=\"0 0 24 24\"\n",
       "       width=\"24px\">\n",
       "    <path d=\"M0 0h24v24H0V0z\" fill=\"none\"/>\n",
       "    <path d=\"M18.56 5.44l.94 2.06.94-2.06 2.06-.94-2.06-.94-.94-2.06-.94 2.06-2.06.94zm-11 1L8.5 8.5l.94-2.06 2.06-.94-2.06-.94L8.5 2.5l-.94 2.06-2.06.94zm10 10l.94 2.06.94-2.06 2.06-.94-2.06-.94-.94-2.06-.94 2.06-2.06.94z\"/><path d=\"M17.41 7.96l-1.37-1.37c-.4-.4-.92-.59-1.43-.59-.52 0-1.04.2-1.43.59L10.3 9.45l-7.72 7.72c-.78.78-.78 2.05 0 2.83L4 21.41c.39.39.9.59 1.41.59.51 0 1.02-.2 1.41-.59l7.78-7.78 2.81-2.81c.8-.78.8-2.07 0-2.86zM5.41 20L4 18.59l7.72-7.72 1.47 1.35L5.41 20z\"/>\n",
       "  </svg>\n",
       "      </button>\n",
       "      \n",
       "  <style>\n",
       "    .colab-df-container {\n",
       "      display:flex;\n",
       "      flex-wrap:wrap;\n",
       "      gap: 12px;\n",
       "    }\n",
       "\n",
       "    .colab-df-convert {\n",
       "      background-color: #E8F0FE;\n",
       "      border: none;\n",
       "      border-radius: 50%;\n",
       "      cursor: pointer;\n",
       "      display: none;\n",
       "      fill: #1967D2;\n",
       "      height: 32px;\n",
       "      padding: 0 0 0 0;\n",
       "      width: 32px;\n",
       "    }\n",
       "\n",
       "    .colab-df-convert:hover {\n",
       "      background-color: #E2EBFA;\n",
       "      box-shadow: 0px 1px 2px rgba(60, 64, 67, 0.3), 0px 1px 3px 1px rgba(60, 64, 67, 0.15);\n",
       "      fill: #174EA6;\n",
       "    }\n",
       "\n",
       "    [theme=dark] .colab-df-convert {\n",
       "      background-color: #3B4455;\n",
       "      fill: #D2E3FC;\n",
       "    }\n",
       "\n",
       "    [theme=dark] .colab-df-convert:hover {\n",
       "      background-color: #434B5C;\n",
       "      box-shadow: 0px 1px 3px 1px rgba(0, 0, 0, 0.15);\n",
       "      filter: drop-shadow(0px 1px 2px rgba(0, 0, 0, 0.3));\n",
       "      fill: #FFFFFF;\n",
       "    }\n",
       "  </style>\n",
       "\n",
       "      <script>\n",
       "        const buttonEl =\n",
       "          document.querySelector('#df-53c3abbe-aee6-4b84-884e-4be56e076331 button.colab-df-convert');\n",
       "        buttonEl.style.display =\n",
       "          google.colab.kernel.accessAllowed ? 'block' : 'none';\n",
       "\n",
       "        async function convertToInteractive(key) {\n",
       "          const element = document.querySelector('#df-53c3abbe-aee6-4b84-884e-4be56e076331');\n",
       "          const dataTable =\n",
       "            await google.colab.kernel.invokeFunction('convertToInteractive',\n",
       "                                                     [key], {});\n",
       "          if (!dataTable) return;\n",
       "\n",
       "          const docLinkHtml = 'Like what you see? Visit the ' +\n",
       "            '<a target=\"_blank\" href=https://colab.research.google.com/notebooks/data_table.ipynb>data table notebook</a>'\n",
       "            + ' to learn more about interactive tables.';\n",
       "          element.innerHTML = '';\n",
       "          dataTable['output_type'] = 'display_data';\n",
       "          await google.colab.output.renderOutput(dataTable, element);\n",
       "          const docLink = document.createElement('div');\n",
       "          docLink.innerHTML = docLinkHtml;\n",
       "          element.appendChild(docLink);\n",
       "        }\n",
       "      </script>\n",
       "    </div>\n",
       "  </div>\n",
       "  "
      ],
      "text/plain": [
       "    age  gender    race                                              file\n",
       "0  17.0    male   white  crop_part1/17_0_0_20170110231640217.jpg.chip.jpg\n",
       "1  26.0  female   asian  crop_part1/26_1_2_20170104022148861.jpg.chip.jpg\n",
       "2   5.0  female   white   crop_part1/5_1_0_20170109193708669.jpg.chip.jpg\n",
       "3  36.0  female   white  crop_part1/36_1_0_20170103182523314.jpg.chip.jpg\n",
       "4  21.0  female  others  crop_part1/21_1_4_20170103234037067.jpg.chip.jpg"
      ]
     },
     "execution_count": 89,
     "metadata": {},
     "output_type": "execute_result"
    }
   ],
   "source": [
    "df = parse_dataset('crop_part1')\n",
    "df.head()"
   ]
  },
  {
   "cell_type": "markdown",
   "metadata": {
    "id": "Ostp7grsJp1H"
   },
   "source": [
    "Data visualization To understand the distribution of our dataset\n"
   ]
  },
  {
   "cell_type": "code",
   "execution_count": null,
   "metadata": {
    "id": "RqChnp5xIbvw"
   },
   "outputs": [],
   "source": [
    "import plotly.graph_objects as go\n",
    "\n",
    "def plot_distribution(pd_series):\n",
    "    labels = pd_series.value_counts().index.tolist()\n",
    "    counts = pd_series.value_counts().values.tolist()\n",
    "    \n",
    "    pie_plot = go.Pie(labels=labels, values=counts, hole=.3)\n",
    "    fig = go.Figure(data=[pie_plot])\n",
    "    fig.update_layout(title_text='Distribution for %s' % pd_series.name)\n",
    "    \n",
    "    fig.show()"
   ]
  },
  {
   "cell_type": "markdown",
   "metadata": {
    "id": "vx0K8ZGvJwvx"
   },
   "source": [
    "RACE Distribution"
   ]
  },
  {
   "cell_type": "code",
   "execution_count": null,
   "metadata": {
    "colab": {
     "base_uri": "https://localhost:8080/",
     "height": 542
    },
    "id": "oMbcxRurIgcm",
    "outputId": "d2aa4ac2-3b2a-4691-e50a-87bede87c29c"
   },
   "outputs": [
    {
     "data": {
      "text/html": [
       "<html>\n",
       "<head><meta charset=\"utf-8\" /></head>\n",
       "<body>\n",
       "    <div>            <script src=\"https://cdnjs.cloudflare.com/ajax/libs/mathjax/2.7.5/MathJax.js?config=TeX-AMS-MML_SVG\"></script><script type=\"text/javascript\">if (window.MathJax) {MathJax.Hub.Config({SVG: {font: \"STIX-Web\"}});}</script>                <script type=\"text/javascript\">window.PlotlyConfig = {MathJaxConfig: 'local'};</script>\n",
       "        <script src=\"https://cdn.plot.ly/plotly-2.8.3.min.js\"></script>                <div id=\"dbe9332a-a2f5-437e-9c92-630555eaca0f\" class=\"plotly-graph-div\" style=\"height:525px; width:100%;\"></div>            <script type=\"text/javascript\">                                    window.PLOTLYENV=window.PLOTLYENV || {};                                    if (document.getElementById(\"dbe9332a-a2f5-437e-9c92-630555eaca0f\")) {                    Plotly.newPlot(                        \"dbe9332a-a2f5-437e-9c92-630555eaca0f\",                        [{\"hole\":0.3,\"labels\":[\"white\",\"asian\",\"indian\",\"others\",\"black\"],\"values\":[5265,1553,1452,1103,405],\"type\":\"pie\"}],                        {\"template\":{\"data\":{\"bar\":[{\"error_x\":{\"color\":\"#2a3f5f\"},\"error_y\":{\"color\":\"#2a3f5f\"},\"marker\":{\"line\":{\"color\":\"#E5ECF6\",\"width\":0.5},\"pattern\":{\"fillmode\":\"overlay\",\"size\":10,\"solidity\":0.2}},\"type\":\"bar\"}],\"barpolar\":[{\"marker\":{\"line\":{\"color\":\"#E5ECF6\",\"width\":0.5},\"pattern\":{\"fillmode\":\"overlay\",\"size\":10,\"solidity\":0.2}},\"type\":\"barpolar\"}],\"carpet\":[{\"aaxis\":{\"endlinecolor\":\"#2a3f5f\",\"gridcolor\":\"white\",\"linecolor\":\"white\",\"minorgridcolor\":\"white\",\"startlinecolor\":\"#2a3f5f\"},\"baxis\":{\"endlinecolor\":\"#2a3f5f\",\"gridcolor\":\"white\",\"linecolor\":\"white\",\"minorgridcolor\":\"white\",\"startlinecolor\":\"#2a3f5f\"},\"type\":\"carpet\"}],\"choropleth\":[{\"colorbar\":{\"outlinewidth\":0,\"ticks\":\"\"},\"type\":\"choropleth\"}],\"contour\":[{\"colorbar\":{\"outlinewidth\":0,\"ticks\":\"\"},\"colorscale\":[[0.0,\"#0d0887\"],[0.1111111111111111,\"#46039f\"],[0.2222222222222222,\"#7201a8\"],[0.3333333333333333,\"#9c179e\"],[0.4444444444444444,\"#bd3786\"],[0.5555555555555556,\"#d8576b\"],[0.6666666666666666,\"#ed7953\"],[0.7777777777777778,\"#fb9f3a\"],[0.8888888888888888,\"#fdca26\"],[1.0,\"#f0f921\"]],\"type\":\"contour\"}],\"contourcarpet\":[{\"colorbar\":{\"outlinewidth\":0,\"ticks\":\"\"},\"type\":\"contourcarpet\"}],\"heatmap\":[{\"colorbar\":{\"outlinewidth\":0,\"ticks\":\"\"},\"colorscale\":[[0.0,\"#0d0887\"],[0.1111111111111111,\"#46039f\"],[0.2222222222222222,\"#7201a8\"],[0.3333333333333333,\"#9c179e\"],[0.4444444444444444,\"#bd3786\"],[0.5555555555555556,\"#d8576b\"],[0.6666666666666666,\"#ed7953\"],[0.7777777777777778,\"#fb9f3a\"],[0.8888888888888888,\"#fdca26\"],[1.0,\"#f0f921\"]],\"type\":\"heatmap\"}],\"heatmapgl\":[{\"colorbar\":{\"outlinewidth\":0,\"ticks\":\"\"},\"colorscale\":[[0.0,\"#0d0887\"],[0.1111111111111111,\"#46039f\"],[0.2222222222222222,\"#7201a8\"],[0.3333333333333333,\"#9c179e\"],[0.4444444444444444,\"#bd3786\"],[0.5555555555555556,\"#d8576b\"],[0.6666666666666666,\"#ed7953\"],[0.7777777777777778,\"#fb9f3a\"],[0.8888888888888888,\"#fdca26\"],[1.0,\"#f0f921\"]],\"type\":\"heatmapgl\"}],\"histogram\":[{\"marker\":{\"pattern\":{\"fillmode\":\"overlay\",\"size\":10,\"solidity\":0.2}},\"type\":\"histogram\"}],\"histogram2d\":[{\"colorbar\":{\"outlinewidth\":0,\"ticks\":\"\"},\"colorscale\":[[0.0,\"#0d0887\"],[0.1111111111111111,\"#46039f\"],[0.2222222222222222,\"#7201a8\"],[0.3333333333333333,\"#9c179e\"],[0.4444444444444444,\"#bd3786\"],[0.5555555555555556,\"#d8576b\"],[0.6666666666666666,\"#ed7953\"],[0.7777777777777778,\"#fb9f3a\"],[0.8888888888888888,\"#fdca26\"],[1.0,\"#f0f921\"]],\"type\":\"histogram2d\"}],\"histogram2dcontour\":[{\"colorbar\":{\"outlinewidth\":0,\"ticks\":\"\"},\"colorscale\":[[0.0,\"#0d0887\"],[0.1111111111111111,\"#46039f\"],[0.2222222222222222,\"#7201a8\"],[0.3333333333333333,\"#9c179e\"],[0.4444444444444444,\"#bd3786\"],[0.5555555555555556,\"#d8576b\"],[0.6666666666666666,\"#ed7953\"],[0.7777777777777778,\"#fb9f3a\"],[0.8888888888888888,\"#fdca26\"],[1.0,\"#f0f921\"]],\"type\":\"histogram2dcontour\"}],\"mesh3d\":[{\"colorbar\":{\"outlinewidth\":0,\"ticks\":\"\"},\"type\":\"mesh3d\"}],\"parcoords\":[{\"line\":{\"colorbar\":{\"outlinewidth\":0,\"ticks\":\"\"}},\"type\":\"parcoords\"}],\"pie\":[{\"automargin\":true,\"type\":\"pie\"}],\"scatter\":[{\"marker\":{\"colorbar\":{\"outlinewidth\":0,\"ticks\":\"\"}},\"type\":\"scatter\"}],\"scatter3d\":[{\"line\":{\"colorbar\":{\"outlinewidth\":0,\"ticks\":\"\"}},\"marker\":{\"colorbar\":{\"outlinewidth\":0,\"ticks\":\"\"}},\"type\":\"scatter3d\"}],\"scattercarpet\":[{\"marker\":{\"colorbar\":{\"outlinewidth\":0,\"ticks\":\"\"}},\"type\":\"scattercarpet\"}],\"scattergeo\":[{\"marker\":{\"colorbar\":{\"outlinewidth\":0,\"ticks\":\"\"}},\"type\":\"scattergeo\"}],\"scattergl\":[{\"marker\":{\"colorbar\":{\"outlinewidth\":0,\"ticks\":\"\"}},\"type\":\"scattergl\"}],\"scattermapbox\":[{\"marker\":{\"colorbar\":{\"outlinewidth\":0,\"ticks\":\"\"}},\"type\":\"scattermapbox\"}],\"scatterpolar\":[{\"marker\":{\"colorbar\":{\"outlinewidth\":0,\"ticks\":\"\"}},\"type\":\"scatterpolar\"}],\"scatterpolargl\":[{\"marker\":{\"colorbar\":{\"outlinewidth\":0,\"ticks\":\"\"}},\"type\":\"scatterpolargl\"}],\"scatterternary\":[{\"marker\":{\"colorbar\":{\"outlinewidth\":0,\"ticks\":\"\"}},\"type\":\"scatterternary\"}],\"surface\":[{\"colorbar\":{\"outlinewidth\":0,\"ticks\":\"\"},\"colorscale\":[[0.0,\"#0d0887\"],[0.1111111111111111,\"#46039f\"],[0.2222222222222222,\"#7201a8\"],[0.3333333333333333,\"#9c179e\"],[0.4444444444444444,\"#bd3786\"],[0.5555555555555556,\"#d8576b\"],[0.6666666666666666,\"#ed7953\"],[0.7777777777777778,\"#fb9f3a\"],[0.8888888888888888,\"#fdca26\"],[1.0,\"#f0f921\"]],\"type\":\"surface\"}],\"table\":[{\"cells\":{\"fill\":{\"color\":\"#EBF0F8\"},\"line\":{\"color\":\"white\"}},\"header\":{\"fill\":{\"color\":\"#C8D4E3\"},\"line\":{\"color\":\"white\"}},\"type\":\"table\"}]},\"layout\":{\"annotationdefaults\":{\"arrowcolor\":\"#2a3f5f\",\"arrowhead\":0,\"arrowwidth\":1},\"autotypenumbers\":\"strict\",\"coloraxis\":{\"colorbar\":{\"outlinewidth\":0,\"ticks\":\"\"}},\"colorscale\":{\"diverging\":[[0,\"#8e0152\"],[0.1,\"#c51b7d\"],[0.2,\"#de77ae\"],[0.3,\"#f1b6da\"],[0.4,\"#fde0ef\"],[0.5,\"#f7f7f7\"],[0.6,\"#e6f5d0\"],[0.7,\"#b8e186\"],[0.8,\"#7fbc41\"],[0.9,\"#4d9221\"],[1,\"#276419\"]],\"sequential\":[[0.0,\"#0d0887\"],[0.1111111111111111,\"#46039f\"],[0.2222222222222222,\"#7201a8\"],[0.3333333333333333,\"#9c179e\"],[0.4444444444444444,\"#bd3786\"],[0.5555555555555556,\"#d8576b\"],[0.6666666666666666,\"#ed7953\"],[0.7777777777777778,\"#fb9f3a\"],[0.8888888888888888,\"#fdca26\"],[1.0,\"#f0f921\"]],\"sequentialminus\":[[0.0,\"#0d0887\"],[0.1111111111111111,\"#46039f\"],[0.2222222222222222,\"#7201a8\"],[0.3333333333333333,\"#9c179e\"],[0.4444444444444444,\"#bd3786\"],[0.5555555555555556,\"#d8576b\"],[0.6666666666666666,\"#ed7953\"],[0.7777777777777778,\"#fb9f3a\"],[0.8888888888888888,\"#fdca26\"],[1.0,\"#f0f921\"]]},\"colorway\":[\"#636efa\",\"#EF553B\",\"#00cc96\",\"#ab63fa\",\"#FFA15A\",\"#19d3f3\",\"#FF6692\",\"#B6E880\",\"#FF97FF\",\"#FECB52\"],\"font\":{\"color\":\"#2a3f5f\"},\"geo\":{\"bgcolor\":\"white\",\"lakecolor\":\"white\",\"landcolor\":\"#E5ECF6\",\"showlakes\":true,\"showland\":true,\"subunitcolor\":\"white\"},\"hoverlabel\":{\"align\":\"left\"},\"hovermode\":\"closest\",\"mapbox\":{\"style\":\"light\"},\"paper_bgcolor\":\"white\",\"plot_bgcolor\":\"#E5ECF6\",\"polar\":{\"angularaxis\":{\"gridcolor\":\"white\",\"linecolor\":\"white\",\"ticks\":\"\"},\"bgcolor\":\"#E5ECF6\",\"radialaxis\":{\"gridcolor\":\"white\",\"linecolor\":\"white\",\"ticks\":\"\"}},\"scene\":{\"xaxis\":{\"backgroundcolor\":\"#E5ECF6\",\"gridcolor\":\"white\",\"gridwidth\":2,\"linecolor\":\"white\",\"showbackground\":true,\"ticks\":\"\",\"zerolinecolor\":\"white\"},\"yaxis\":{\"backgroundcolor\":\"#E5ECF6\",\"gridcolor\":\"white\",\"gridwidth\":2,\"linecolor\":\"white\",\"showbackground\":true,\"ticks\":\"\",\"zerolinecolor\":\"white\"},\"zaxis\":{\"backgroundcolor\":\"#E5ECF6\",\"gridcolor\":\"white\",\"gridwidth\":2,\"linecolor\":\"white\",\"showbackground\":true,\"ticks\":\"\",\"zerolinecolor\":\"white\"}},\"shapedefaults\":{\"line\":{\"color\":\"#2a3f5f\"}},\"ternary\":{\"aaxis\":{\"gridcolor\":\"white\",\"linecolor\":\"white\",\"ticks\":\"\"},\"baxis\":{\"gridcolor\":\"white\",\"linecolor\":\"white\",\"ticks\":\"\"},\"bgcolor\":\"#E5ECF6\",\"caxis\":{\"gridcolor\":\"white\",\"linecolor\":\"white\",\"ticks\":\"\"}},\"title\":{\"x\":0.05},\"xaxis\":{\"automargin\":true,\"gridcolor\":\"white\",\"linecolor\":\"white\",\"ticks\":\"\",\"title\":{\"standoff\":15},\"zerolinecolor\":\"white\",\"zerolinewidth\":2},\"yaxis\":{\"automargin\":true,\"gridcolor\":\"white\",\"linecolor\":\"white\",\"ticks\":\"\",\"title\":{\"standoff\":15},\"zerolinecolor\":\"white\",\"zerolinewidth\":2}}},\"title\":{\"text\":\"Distribution for race\"}},                        {\"responsive\": true}                    ).then(function(){\n",
       "                            \n",
       "var gd = document.getElementById('dbe9332a-a2f5-437e-9c92-630555eaca0f');\n",
       "var x = new MutationObserver(function (mutations, observer) {{\n",
       "        var display = window.getComputedStyle(gd).display;\n",
       "        if (!display || display === 'none') {{\n",
       "            console.log([gd, 'removed!']);\n",
       "            Plotly.purge(gd);\n",
       "            observer.disconnect();\n",
       "        }}\n",
       "}});\n",
       "\n",
       "// Listen for the removal of the full notebook cells\n",
       "var notebookContainer = gd.closest('#notebook-container');\n",
       "if (notebookContainer) {{\n",
       "    x.observe(notebookContainer, {childList: true});\n",
       "}}\n",
       "\n",
       "// Listen for the clearing of the current output cell\n",
       "var outputEl = gd.closest('.output');\n",
       "if (outputEl) {{\n",
       "    x.observe(outputEl, {childList: true});\n",
       "}}\n",
       "\n",
       "                        })                };                            </script>        </div>\n",
       "</body>\n",
       "</html>"
      ]
     },
     "metadata": {},
     "output_type": "display_data"
    }
   ],
   "source": [
    "plot_distribution(df['race'])"
   ]
  },
  {
   "cell_type": "markdown",
   "metadata": {
    "id": "3ctNZh3GJzhn"
   },
   "source": [
    "gender distribution"
   ]
  },
  {
   "cell_type": "code",
   "execution_count": null,
   "metadata": {
    "colab": {
     "base_uri": "https://localhost:8080/",
     "height": 542
    },
    "id": "H3zhyWnXIgXm",
    "outputId": "726ae81f-8d05-4b3f-a13b-87a16320a75e"
   },
   "outputs": [
    {
     "data": {
      "text/html": [
       "<html>\n",
       "<head><meta charset=\"utf-8\" /></head>\n",
       "<body>\n",
       "    <div>            <script src=\"https://cdnjs.cloudflare.com/ajax/libs/mathjax/2.7.5/MathJax.js?config=TeX-AMS-MML_SVG\"></script><script type=\"text/javascript\">if (window.MathJax) {MathJax.Hub.Config({SVG: {font: \"STIX-Web\"}});}</script>                <script type=\"text/javascript\">window.PlotlyConfig = {MathJaxConfig: 'local'};</script>\n",
       "        <script src=\"https://cdn.plot.ly/plotly-2.8.3.min.js\"></script>                <div id=\"0a2669f3-2aa4-4eba-af5c-eecf64c1d27c\" class=\"plotly-graph-div\" style=\"height:525px; width:100%;\"></div>            <script type=\"text/javascript\">                                    window.PLOTLYENV=window.PLOTLYENV || {};                                    if (document.getElementById(\"0a2669f3-2aa4-4eba-af5c-eecf64c1d27c\")) {                    Plotly.newPlot(                        \"0a2669f3-2aa4-4eba-af5c-eecf64c1d27c\",                        [{\"hole\":0.3,\"labels\":[\"female\",\"male\"],\"values\":[5406,4372],\"type\":\"pie\"}],                        {\"template\":{\"data\":{\"bar\":[{\"error_x\":{\"color\":\"#2a3f5f\"},\"error_y\":{\"color\":\"#2a3f5f\"},\"marker\":{\"line\":{\"color\":\"#E5ECF6\",\"width\":0.5},\"pattern\":{\"fillmode\":\"overlay\",\"size\":10,\"solidity\":0.2}},\"type\":\"bar\"}],\"barpolar\":[{\"marker\":{\"line\":{\"color\":\"#E5ECF6\",\"width\":0.5},\"pattern\":{\"fillmode\":\"overlay\",\"size\":10,\"solidity\":0.2}},\"type\":\"barpolar\"}],\"carpet\":[{\"aaxis\":{\"endlinecolor\":\"#2a3f5f\",\"gridcolor\":\"white\",\"linecolor\":\"white\",\"minorgridcolor\":\"white\",\"startlinecolor\":\"#2a3f5f\"},\"baxis\":{\"endlinecolor\":\"#2a3f5f\",\"gridcolor\":\"white\",\"linecolor\":\"white\",\"minorgridcolor\":\"white\",\"startlinecolor\":\"#2a3f5f\"},\"type\":\"carpet\"}],\"choropleth\":[{\"colorbar\":{\"outlinewidth\":0,\"ticks\":\"\"},\"type\":\"choropleth\"}],\"contour\":[{\"colorbar\":{\"outlinewidth\":0,\"ticks\":\"\"},\"colorscale\":[[0.0,\"#0d0887\"],[0.1111111111111111,\"#46039f\"],[0.2222222222222222,\"#7201a8\"],[0.3333333333333333,\"#9c179e\"],[0.4444444444444444,\"#bd3786\"],[0.5555555555555556,\"#d8576b\"],[0.6666666666666666,\"#ed7953\"],[0.7777777777777778,\"#fb9f3a\"],[0.8888888888888888,\"#fdca26\"],[1.0,\"#f0f921\"]],\"type\":\"contour\"}],\"contourcarpet\":[{\"colorbar\":{\"outlinewidth\":0,\"ticks\":\"\"},\"type\":\"contourcarpet\"}],\"heatmap\":[{\"colorbar\":{\"outlinewidth\":0,\"ticks\":\"\"},\"colorscale\":[[0.0,\"#0d0887\"],[0.1111111111111111,\"#46039f\"],[0.2222222222222222,\"#7201a8\"],[0.3333333333333333,\"#9c179e\"],[0.4444444444444444,\"#bd3786\"],[0.5555555555555556,\"#d8576b\"],[0.6666666666666666,\"#ed7953\"],[0.7777777777777778,\"#fb9f3a\"],[0.8888888888888888,\"#fdca26\"],[1.0,\"#f0f921\"]],\"type\":\"heatmap\"}],\"heatmapgl\":[{\"colorbar\":{\"outlinewidth\":0,\"ticks\":\"\"},\"colorscale\":[[0.0,\"#0d0887\"],[0.1111111111111111,\"#46039f\"],[0.2222222222222222,\"#7201a8\"],[0.3333333333333333,\"#9c179e\"],[0.4444444444444444,\"#bd3786\"],[0.5555555555555556,\"#d8576b\"],[0.6666666666666666,\"#ed7953\"],[0.7777777777777778,\"#fb9f3a\"],[0.8888888888888888,\"#fdca26\"],[1.0,\"#f0f921\"]],\"type\":\"heatmapgl\"}],\"histogram\":[{\"marker\":{\"pattern\":{\"fillmode\":\"overlay\",\"size\":10,\"solidity\":0.2}},\"type\":\"histogram\"}],\"histogram2d\":[{\"colorbar\":{\"outlinewidth\":0,\"ticks\":\"\"},\"colorscale\":[[0.0,\"#0d0887\"],[0.1111111111111111,\"#46039f\"],[0.2222222222222222,\"#7201a8\"],[0.3333333333333333,\"#9c179e\"],[0.4444444444444444,\"#bd3786\"],[0.5555555555555556,\"#d8576b\"],[0.6666666666666666,\"#ed7953\"],[0.7777777777777778,\"#fb9f3a\"],[0.8888888888888888,\"#fdca26\"],[1.0,\"#f0f921\"]],\"type\":\"histogram2d\"}],\"histogram2dcontour\":[{\"colorbar\":{\"outlinewidth\":0,\"ticks\":\"\"},\"colorscale\":[[0.0,\"#0d0887\"],[0.1111111111111111,\"#46039f\"],[0.2222222222222222,\"#7201a8\"],[0.3333333333333333,\"#9c179e\"],[0.4444444444444444,\"#bd3786\"],[0.5555555555555556,\"#d8576b\"],[0.6666666666666666,\"#ed7953\"],[0.7777777777777778,\"#fb9f3a\"],[0.8888888888888888,\"#fdca26\"],[1.0,\"#f0f921\"]],\"type\":\"histogram2dcontour\"}],\"mesh3d\":[{\"colorbar\":{\"outlinewidth\":0,\"ticks\":\"\"},\"type\":\"mesh3d\"}],\"parcoords\":[{\"line\":{\"colorbar\":{\"outlinewidth\":0,\"ticks\":\"\"}},\"type\":\"parcoords\"}],\"pie\":[{\"automargin\":true,\"type\":\"pie\"}],\"scatter\":[{\"marker\":{\"colorbar\":{\"outlinewidth\":0,\"ticks\":\"\"}},\"type\":\"scatter\"}],\"scatter3d\":[{\"line\":{\"colorbar\":{\"outlinewidth\":0,\"ticks\":\"\"}},\"marker\":{\"colorbar\":{\"outlinewidth\":0,\"ticks\":\"\"}},\"type\":\"scatter3d\"}],\"scattercarpet\":[{\"marker\":{\"colorbar\":{\"outlinewidth\":0,\"ticks\":\"\"}},\"type\":\"scattercarpet\"}],\"scattergeo\":[{\"marker\":{\"colorbar\":{\"outlinewidth\":0,\"ticks\":\"\"}},\"type\":\"scattergeo\"}],\"scattergl\":[{\"marker\":{\"colorbar\":{\"outlinewidth\":0,\"ticks\":\"\"}},\"type\":\"scattergl\"}],\"scattermapbox\":[{\"marker\":{\"colorbar\":{\"outlinewidth\":0,\"ticks\":\"\"}},\"type\":\"scattermapbox\"}],\"scatterpolar\":[{\"marker\":{\"colorbar\":{\"outlinewidth\":0,\"ticks\":\"\"}},\"type\":\"scatterpolar\"}],\"scatterpolargl\":[{\"marker\":{\"colorbar\":{\"outlinewidth\":0,\"ticks\":\"\"}},\"type\":\"scatterpolargl\"}],\"scatterternary\":[{\"marker\":{\"colorbar\":{\"outlinewidth\":0,\"ticks\":\"\"}},\"type\":\"scatterternary\"}],\"surface\":[{\"colorbar\":{\"outlinewidth\":0,\"ticks\":\"\"},\"colorscale\":[[0.0,\"#0d0887\"],[0.1111111111111111,\"#46039f\"],[0.2222222222222222,\"#7201a8\"],[0.3333333333333333,\"#9c179e\"],[0.4444444444444444,\"#bd3786\"],[0.5555555555555556,\"#d8576b\"],[0.6666666666666666,\"#ed7953\"],[0.7777777777777778,\"#fb9f3a\"],[0.8888888888888888,\"#fdca26\"],[1.0,\"#f0f921\"]],\"type\":\"surface\"}],\"table\":[{\"cells\":{\"fill\":{\"color\":\"#EBF0F8\"},\"line\":{\"color\":\"white\"}},\"header\":{\"fill\":{\"color\":\"#C8D4E3\"},\"line\":{\"color\":\"white\"}},\"type\":\"table\"}]},\"layout\":{\"annotationdefaults\":{\"arrowcolor\":\"#2a3f5f\",\"arrowhead\":0,\"arrowwidth\":1},\"autotypenumbers\":\"strict\",\"coloraxis\":{\"colorbar\":{\"outlinewidth\":0,\"ticks\":\"\"}},\"colorscale\":{\"diverging\":[[0,\"#8e0152\"],[0.1,\"#c51b7d\"],[0.2,\"#de77ae\"],[0.3,\"#f1b6da\"],[0.4,\"#fde0ef\"],[0.5,\"#f7f7f7\"],[0.6,\"#e6f5d0\"],[0.7,\"#b8e186\"],[0.8,\"#7fbc41\"],[0.9,\"#4d9221\"],[1,\"#276419\"]],\"sequential\":[[0.0,\"#0d0887\"],[0.1111111111111111,\"#46039f\"],[0.2222222222222222,\"#7201a8\"],[0.3333333333333333,\"#9c179e\"],[0.4444444444444444,\"#bd3786\"],[0.5555555555555556,\"#d8576b\"],[0.6666666666666666,\"#ed7953\"],[0.7777777777777778,\"#fb9f3a\"],[0.8888888888888888,\"#fdca26\"],[1.0,\"#f0f921\"]],\"sequentialminus\":[[0.0,\"#0d0887\"],[0.1111111111111111,\"#46039f\"],[0.2222222222222222,\"#7201a8\"],[0.3333333333333333,\"#9c179e\"],[0.4444444444444444,\"#bd3786\"],[0.5555555555555556,\"#d8576b\"],[0.6666666666666666,\"#ed7953\"],[0.7777777777777778,\"#fb9f3a\"],[0.8888888888888888,\"#fdca26\"],[1.0,\"#f0f921\"]]},\"colorway\":[\"#636efa\",\"#EF553B\",\"#00cc96\",\"#ab63fa\",\"#FFA15A\",\"#19d3f3\",\"#FF6692\",\"#B6E880\",\"#FF97FF\",\"#FECB52\"],\"font\":{\"color\":\"#2a3f5f\"},\"geo\":{\"bgcolor\":\"white\",\"lakecolor\":\"white\",\"landcolor\":\"#E5ECF6\",\"showlakes\":true,\"showland\":true,\"subunitcolor\":\"white\"},\"hoverlabel\":{\"align\":\"left\"},\"hovermode\":\"closest\",\"mapbox\":{\"style\":\"light\"},\"paper_bgcolor\":\"white\",\"plot_bgcolor\":\"#E5ECF6\",\"polar\":{\"angularaxis\":{\"gridcolor\":\"white\",\"linecolor\":\"white\",\"ticks\":\"\"},\"bgcolor\":\"#E5ECF6\",\"radialaxis\":{\"gridcolor\":\"white\",\"linecolor\":\"white\",\"ticks\":\"\"}},\"scene\":{\"xaxis\":{\"backgroundcolor\":\"#E5ECF6\",\"gridcolor\":\"white\",\"gridwidth\":2,\"linecolor\":\"white\",\"showbackground\":true,\"ticks\":\"\",\"zerolinecolor\":\"white\"},\"yaxis\":{\"backgroundcolor\":\"#E5ECF6\",\"gridcolor\":\"white\",\"gridwidth\":2,\"linecolor\":\"white\",\"showbackground\":true,\"ticks\":\"\",\"zerolinecolor\":\"white\"},\"zaxis\":{\"backgroundcolor\":\"#E5ECF6\",\"gridcolor\":\"white\",\"gridwidth\":2,\"linecolor\":\"white\",\"showbackground\":true,\"ticks\":\"\",\"zerolinecolor\":\"white\"}},\"shapedefaults\":{\"line\":{\"color\":\"#2a3f5f\"}},\"ternary\":{\"aaxis\":{\"gridcolor\":\"white\",\"linecolor\":\"white\",\"ticks\":\"\"},\"baxis\":{\"gridcolor\":\"white\",\"linecolor\":\"white\",\"ticks\":\"\"},\"bgcolor\":\"#E5ECF6\",\"caxis\":{\"gridcolor\":\"white\",\"linecolor\":\"white\",\"ticks\":\"\"}},\"title\":{\"x\":0.05},\"xaxis\":{\"automargin\":true,\"gridcolor\":\"white\",\"linecolor\":\"white\",\"ticks\":\"\",\"title\":{\"standoff\":15},\"zerolinecolor\":\"white\",\"zerolinewidth\":2},\"yaxis\":{\"automargin\":true,\"gridcolor\":\"white\",\"linecolor\":\"white\",\"ticks\":\"\",\"title\":{\"standoff\":15},\"zerolinecolor\":\"white\",\"zerolinewidth\":2}}},\"title\":{\"text\":\"Distribution for gender\"}},                        {\"responsive\": true}                    ).then(function(){\n",
       "                            \n",
       "var gd = document.getElementById('0a2669f3-2aa4-4eba-af5c-eecf64c1d27c');\n",
       "var x = new MutationObserver(function (mutations, observer) {{\n",
       "        var display = window.getComputedStyle(gd).display;\n",
       "        if (!display || display === 'none') {{\n",
       "            console.log([gd, 'removed!']);\n",
       "            Plotly.purge(gd);\n",
       "            observer.disconnect();\n",
       "        }}\n",
       "}});\n",
       "\n",
       "// Listen for the removal of the full notebook cells\n",
       "var notebookContainer = gd.closest('#notebook-container');\n",
       "if (notebookContainer) {{\n",
       "    x.observe(notebookContainer, {childList: true});\n",
       "}}\n",
       "\n",
       "// Listen for the clearing of the current output cell\n",
       "var outputEl = gd.closest('.output');\n",
       "if (outputEl) {{\n",
       "    x.observe(outputEl, {childList: true});\n",
       "}}\n",
       "\n",
       "                        })                };                            </script>        </div>\n",
       "</body>\n",
       "</html>"
      ]
     },
     "metadata": {},
     "output_type": "display_data"
    }
   ],
   "source": [
    "plot_distribution(df['gender'])"
   ]
  },
  {
   "cell_type": "markdown",
   "metadata": {
    "id": "1poyP41-J3sv"
   },
   "source": [
    "Age distribution"
   ]
  },
  {
   "cell_type": "code",
   "execution_count": null,
   "metadata": {
    "colab": {
     "base_uri": "https://localhost:8080/",
     "height": 542
    },
    "id": "VDPuKCI8IlEK",
    "outputId": "904977d8-ba7a-4dd1-950c-6ea8aa762f2e"
   },
   "outputs": [
    {
     "data": {
      "text/html": [
       "<html>\n",
       "<head><meta charset=\"utf-8\" /></head>\n",
       "<body>\n",
       "    <div>            <script src=\"https://cdnjs.cloudflare.com/ajax/libs/mathjax/2.7.5/MathJax.js?config=TeX-AMS-MML_SVG\"></script><script type=\"text/javascript\">if (window.MathJax) {MathJax.Hub.Config({SVG: {font: \"STIX-Web\"}});}</script>                <script type=\"text/javascript\">window.PlotlyConfig = {MathJaxConfig: 'local'};</script>\n",
       "        <script src=\"https://cdn.plot.ly/plotly-2.8.3.min.js\"></script>                <div id=\"495c0172-52ac-4e22-aca7-70dc578a3d82\" class=\"plotly-graph-div\" style=\"height:525px; width:100%;\"></div>            <script type=\"text/javascript\">                                    window.PLOTLYENV=window.PLOTLYENV || {};                                    if (document.getElementById(\"495c0172-52ac-4e22-aca7-70dc578a3d82\")) {                    Plotly.newPlot(                        \"495c0172-52ac-4e22-aca7-70dc578a3d82\",                        [{\"alignmentgroup\":\"True\",\"bingroup\":\"x\",\"hovertemplate\":\"age=%{x}<br>count=%{y}<extra></extra>\",\"legendgroup\":\"\",\"marker\":{\"color\":\"#636efa\",\"pattern\":{\"shape\":\"\"}},\"name\":\"\",\"nbinsx\":20,\"offsetgroup\":\"\",\"orientation\":\"v\",\"showlegend\":false,\"x\":[17.0,26.0,5.0,36.0,21.0,3.0,19.0,65.0,74.0,24.0,27.0,56.0,1.0,2.0,17.0,20.0,70.0,3.0,17.0,40.0,48.0,4.0,55.0,42.0,22.0,30.0,2.0,16.0,23.0,27.0,38.0,63.0,72.0,26.0,12.0,67.0,1.0,7.0,14.0,22.0,1.0,45.0,45.0,1.0,1.0,45.0,8.0,38.0,7.0,65.0,43.0,21.0,23.0,55.0,18.0,1.0,52.0,42.0,60.0,36.0,60.0,62.0,54.0,35.0,5.0,1.0,61.0,4.0,56.0,85.0,68.0,75.0,27.0,52.0,27.0,63.0,90.0,1.0,1.0,16.0,38.0,3.0,1.0,3.0,20.0,3.0,6.0,31.0,12.0,15.0,65.0,6.0,14.0,17.0,64.0,1.0,36.0,3.0,49.0,16.0,8.0,32.0,2.0,17.0,55.0,4.0,72.0,62.0,3.0,12.0,1.0,4.0,1.0,85.0,62.0,47.0,56.0,10.0,38.0,18.0,33.0,1.0,76.0,27.0,1.0,1.0,23.0,27.0,8.0,63.0,30.0,7.0,24.0,1.0,12.0,38.0,32.0,25.0,1.0,11.0,62.0,65.0,10.0,7.0,44.0,12.0,59.0,1.0,45.0,5.0,54.0,21.0,32.0,58.0,74.0,2.0,28.0,20.0,18.0,65.0,9.0,5.0,27.0,23.0,4.0,45.0,24.0,59.0,20.0,38.0,58.0,5.0,5.0,1.0,42.0,39.0,40.0,26.0,89.0,33.0,45.0,69.0,3.0,18.0,4.0,4.0,21.0,54.0,4.0,64.0,1.0,89.0,63.0,51.0,69.0,20.0,24.0,5.0,71.0,56.0,7.0,2.0,11.0,2.0,53.0,9.0,18.0,16.0,82.0,4.0,4.0,39.0,38.0,1.0,2.0,28.0,30.0,63.0,52.0,2.0,26.0,1.0,1.0,24.0,32.0,90.0,6.0,21.0,72.0,3.0,2.0,5.0,78.0,5.0,55.0,68.0,29.0,74.0,53.0,47.0,65.0,75.0,15.0,60.0,25.0,2.0,2.0,36.0,2.0,1.0,30.0,29.0,32.0,1.0,9.0,51.0,35.0,85.0,2.0,40.0,27.0,76.0,21.0,18.0,80.0,3.0,62.0,2.0,29.0,12.0,1.0,20.0,4.0,18.0,26.0,42.0,13.0,39.0,68.0,15.0,50.0,38.0,2.0,79.0,1.0,37.0,60.0,5.0,29.0,8.0,1.0,12.0,25.0,26.0,60.0,80.0,13.0,16.0,2.0,3.0,24.0,14.0,39.0,1.0,26.0,1.0,56.0,15.0,3.0,15.0,25.0,62.0,18.0,39.0,16.0,2.0,1.0,20.0,60.0,15.0,1.0,29.0,32.0,1.0,24.0,26.0,25.0,17.0,53.0,1.0,66.0,40.0,27.0,25.0,37.0,48.0,14.0,56.0,10.0,63.0,1.0,8.0,90.0,37.0,10.0,55.0,1.0,85.0,50.0,62.0,25.0,67.0,21.0,90.0,8.0,38.0,1.0,1.0,30.0,18.0,1.0,39.0,1.0,18.0,2.0,63.0,1.0,2.0,45.0,8.0,20.0,1.0,53.0,12.0,27.0,4.0,85.0,9.0,23.0,2.0,4.0,77.0,82.0,49.0,78.0,15.0,4.0,81.0,21.0,32.0,30.0,90.0,56.0,52.0,30.0,16.0,4.0,1.0,9.0,1.0,1.0,26.0,31.0,4.0,1.0,85.0,1.0,1.0,61.0,80.0,37.0,14.0,20.0,30.0,8.0,85.0,62.0,4.0,36.0,1.0,33.0,1.0,90.0,52.0,24.0,31.0,85.0,1.0,41.0,14.0,52.0,66.0,10.0,36.0,26.0,53.0,19.0,25.0,20.0,1.0,28.0,24.0,9.0,19.0,63.0,20.0,31.0,60.0,55.0,6.0,29.0,37.0,2.0,58.0,26.0,39.0,4.0,36.0,18.0,18.0,32.0,16.0,15.0,66.0,1.0,1.0,1.0,2.0,29.0,1.0,81.0,52.0,85.0,90.0,2.0,2.0,69.0,28.0,82.0,9.0,25.0,18.0,13.0,29.0,1.0,16.0,32.0,47.0,1.0,85.0,39.0,47.0,50.0,8.0,50.0,25.0,52.0,21.0,5.0,1.0,8.0,90.0,11.0,28.0,5.0,22.0,5.0,78.0,35.0,35.0,1.0,22.0,3.0,52.0,42.0,47.0,4.0,9.0,38.0,36.0,28.0,56.0,3.0,16.0,14.0,20.0,29.0,32.0,17.0,10.0,82.0,53.0,26.0,47.0,11.0,4.0,16.0,2.0,47.0,20.0,4.0,30.0,38.0,34.0,25.0,5.0,29.0,1.0,37.0,15.0,9.0,1.0,27.0,1.0,63.0,1.0,1.0,31.0,18.0,21.0,1.0,2.0,21.0,1.0,30.0,4.0,1.0,10.0,2.0,1.0,68.0,26.0,3.0,9.0,1.0,59.0,41.0,37.0,39.0,13.0,53.0,29.0,65.0,56.0,18.0,5.0,32.0,26.0,2.0,66.0,2.0,20.0,4.0,61.0,25.0,29.0,53.0,1.0,15.0,26.0,1.0,21.0,1.0,2.0,1.0,22.0,16.0,5.0,69.0,55.0,6.0,56.0,53.0,50.0,1.0,16.0,45.0,67.0,32.0,76.0,58.0,57.0,1.0,42.0,48.0,14.0,4.0,1.0,32.0,11.0,2.0,39.0,52.0,1.0,26.0,3.0,2.0,1.0,40.0,31.0,73.0,21.0,23.0,50.0,14.0,2.0,17.0,16.0,62.0,60.0,1.0,18.0,1.0,17.0,2.0,4.0,5.0,1.0,3.0,7.0,30.0,53.0,16.0,1.0,3.0,15.0,20.0,17.0,4.0,38.0,26.0,15.0,22.0,56.0,3.0,62.0,38.0,25.0,1.0,41.0,7.0,16.0,30.0,75.0,32.0,1.0,2.0,3.0,39.0,26.0,35.0,20.0,29.0,49.0,29.0,28.0,2.0,5.0,1.0,4.0,30.0,24.0,10.0,2.0,3.0,18.0,54.0,12.0,16.0,2.0,26.0,26.0,2.0,75.0,74.0,80.0,1.0,61.0,26.0,25.0,85.0,43.0,56.0,37.0,2.0,3.0,2.0,70.0,28.0,37.0,28.0,73.0,70.0,8.0,50.0,15.0,17.0,39.0,72.0,4.0,20.0,1.0,2.0,26.0,4.0,23.0,21.0,54.0,22.0,73.0,61.0,1.0,7.0,1.0,47.0,39.0,4.0,4.0,29.0,14.0,60.0,78.0,26.0,3.0,23.0,26.0,9.0,8.0,52.0,3.0,6.0,27.0,23.0,2.0,17.0,55.0,16.0,3.0,1.0,1.0,1.0,4.0,3.0,1.0,85.0,30.0,17.0,34.0,25.0,71.0,1.0,21.0,6.0,19.0,25.0,61.0,1.0,25.0,51.0,38.0,15.0,8.0,29.0,85.0,39.0,59.0,1.0,39.0,36.0,1.0,86.0,2.0,56.0,3.0,49.0,1.0,2.0,4.0,2.0,18.0,14.0,1.0,1.0,1.0,60.0,75.0,80.0,65.0,1.0,8.0,17.0,3.0,89.0,79.0,42.0,60.0,49.0,10.0,1.0,1.0,26.0,24.0,17.0,52.0,10.0,2.0,28.0,9.0,28.0,3.0,10.0,67.0,65.0,24.0,13.0,1.0,32.0,1.0,60.0,75.0,38.0,1.0,15.0,21.0,1.0,61.0,3.0,4.0,85.0,1.0,15.0,53.0,58.0,26.0,58.0,33.0,1.0,66.0,77.0,38.0,22.0,60.0,33.0,1.0,72.0,39.0,70.0,1.0,50.0,15.0,59.0,1.0,49.0,57.0,2.0,1.0,17.0,1.0,42.0,31.0,1.0,65.0,5.0,65.0,37.0,1.0,35.0,4.0,4.0,1.0,92.0,1.0,2.0,53.0,78.0,8.0,15.0,17.0,54.0,1.0,54.0,70.0,32.0,50.0,6.0,4.0,37.0,25.0,2.0,32.0,1.0,5.0,16.0,2.0,12.0,29.0,62.0,11.0,1.0,55.0,44.0,26.0,66.0,85.0,2.0,11.0,2.0,55.0,56.0,27.0,36.0,25.0,5.0,39.0,90.0,68.0,83.0,85.0,10.0,53.0,27.0,12.0,3.0,1.0,78.0,31.0,56.0,4.0,52.0,36.0,4.0,37.0,20.0,59.0,1.0,3.0,23.0,24.0,36.0,61.0,2.0,15.0,57.0,1.0,1.0,7.0,1.0,4.0,45.0,21.0,38.0,46.0,58.0,5.0,39.0,26.0,12.0,3.0,62.0,25.0,52.0,1.0,6.0,72.0,25.0,36.0,4.0,26.0,43.0,12.0,26.0,47.0,85.0,4.0,85.0,49.0,35.0,40.0,5.0,64.0,36.0,40.0,49.0,45.0,1.0,37.0,4.0,15.0,37.0,1.0,1.0,72.0,51.0,1.0,1.0,18.0,4.0,3.0,14.0,15.0,40.0,4.0,21.0,10.0,26.0,65.0,52.0,56.0,50.0,78.0,55.0,28.0,53.0,6.0,15.0,20.0,50.0,49.0,1.0,35.0,38.0,20.0,16.0,1.0,50.0,29.0,38.0,35.0,67.0,52.0,39.0,17.0,80.0,9.0,1.0,1.0,12.0,45.0,10.0,78.0,28.0,55.0,9.0,33.0,2.0,13.0,69.0,68.0,40.0,1.0,40.0,1.0,14.0,80.0,51.0,55.0,39.0,52.0,34.0,84.0,37.0,50.0,69.0,16.0,4.0,58.0,10.0,68.0,26.0,35.0,8.0,50.0,20.0,27.0,11.0,72.0,1.0,22.0,38.0,31.0,13.0,52.0,1.0,41.0,59.0,2.0,42.0,29.0,5.0,8.0,20.0,1.0,70.0,92.0,28.0,19.0,33.0,62.0,2.0,29.0,30.0,69.0,20.0,8.0,53.0,81.0,42.0,60.0,1.0,46.0,38.0,65.0,50.0,64.0,65.0,40.0,26.0,8.0,75.0,34.0,1.0,31.0,46.0,53.0,65.0,29.0,1.0,48.0,54.0,9.0,4.0,8.0,34.0,6.0,45.0,26.0,3.0,25.0,23.0,6.0,4.0,48.0,18.0,10.0,1.0,61.0,53.0,31.0,28.0,55.0,88.0,1.0,18.0,96.0,4.0,36.0,54.0,1.0,42.0,42.0,66.0,4.0,29.0,35.0,34.0,18.0,1.0,24.0,1.0,8.0,2.0,22.0,1.0,3.0,7.0,40.0,25.0,26.0,12.0,26.0,2.0,90.0,2.0,49.0,5.0,8.0,53.0,39.0,35.0,2.0,4.0,3.0,39.0,10.0,2.0,1.0,1.0,19.0,7.0,9.0,30.0,2.0,48.0,1.0,8.0,52.0,1.0,29.0,3.0,26.0,7.0,3.0,34.0,23.0,34.0,35.0,38.0,54.0,28.0,14.0,52.0,22.0,5.0,34.0,4.0,42.0,54.0,64.0,62.0,9.0,2.0,55.0,32.0,68.0,1.0,1.0,5.0,4.0,16.0,29.0,22.0,19.0,45.0,52.0,60.0,39.0,2.0,65.0,16.0,75.0,52.0,53.0,20.0,56.0,21.0,90.0,29.0,1.0,37.0,49.0,14.0,26.0,52.0,54.0,45.0,49.0,61.0,78.0,85.0,45.0,44.0,1.0,50.0,50.0,20.0,40.0,54.0,47.0,1.0,35.0,62.0,70.0,24.0,29.0,45.0,16.0,20.0,2.0,26.0,53.0,1.0,56.0,14.0,38.0,37.0,4.0,3.0,64.0,62.0,53.0,4.0,60.0,1.0,26.0,1.0,72.0,5.0,41.0,51.0,4.0,53.0,5.0,22.0,54.0,48.0,41.0,12.0,69.0,43.0,50.0,51.0,12.0,21.0,16.0,31.0,8.0,39.0,13.0,24.0,55.0,3.0,29.0,26.0,2.0,16.0,2.0,26.0,35.0,10.0,26.0,19.0,11.0,2.0,27.0,17.0,1.0,9.0,47.0,3.0,9.0,26.0,17.0,10.0,35.0,19.0,52.0,32.0,50.0,3.0,55.0,1.0,1.0,14.0,57.0,50.0,5.0,43.0,1.0,54.0,4.0,24.0,40.0,12.0,80.0,58.0,2.0,89.0,46.0,2.0,28.0,66.0,13.0,36.0,26.0,47.0,2.0,15.0,3.0,56.0,16.0,53.0,48.0,51.0,2.0,18.0,38.0,1.0,4.0,82.0,18.0,1.0,7.0,1.0,53.0,1.0,33.0,2.0,36.0,61.0,1.0,40.0,56.0,78.0,51.0,65.0,27.0,2.0,28.0,68.0,1.0,38.0,32.0,10.0,75.0,28.0,28.0,62.0,62.0,48.0,24.0,85.0,64.0,12.0,15.0,1.0,3.0,3.0,10.0,58.0,46.0,17.0,16.0,3.0,30.0,40.0,8.0,1.0,10.0,35.0,1.0,2.0,1.0,10.0,32.0,25.0,67.0,54.0,3.0,36.0,28.0,1.0,32.0,18.0,7.0,17.0,53.0,34.0,13.0,49.0,4.0,26.0,29.0,10.0,58.0,3.0,57.0,19.0,75.0,56.0,2.0,12.0,52.0,25.0,1.0,49.0,57.0,52.0,30.0,9.0,1.0,59.0,16.0,1.0,46.0,26.0,2.0,32.0,21.0,15.0,21.0,21.0,65.0,49.0,61.0,54.0,29.0,32.0,56.0,43.0,11.0,39.0,46.0,34.0,30.0,23.0,4.0,40.0,1.0,25.0,25.0,1.0,71.0,23.0,66.0,1.0,37.0,1.0,10.0,20.0,24.0,2.0,28.0,25.0,1.0,36.0,37.0,1.0,11.0,27.0,43.0,59.0,17.0,14.0,23.0,52.0,48.0,24.0,21.0,66.0,90.0,62.0,23.0,1.0,32.0,82.0,51.0,10.0,47.0,22.0,30.0,58.0,37.0,81.0,23.0,55.0,4.0,1.0,18.0,24.0,28.0,8.0,5.0,75.0,24.0,11.0,2.0,1.0,1.0,46.0,72.0,23.0,2.0,2.0,23.0,65.0,12.0,1.0,12.0,53.0,50.0,9.0,1.0,18.0,6.0,26.0,70.0,5.0,6.0,36.0,1.0,7.0,1.0,51.0,57.0,90.0,7.0,4.0,35.0,1.0,24.0,3.0,8.0,4.0,27.0,17.0,15.0,6.0,54.0,68.0,70.0,1.0,4.0,21.0,2.0,1.0,75.0,14.0,2.0,62.0,1.0,29.0,8.0,80.0,80.0,84.0,5.0,53.0,43.0,42.0,4.0,80.0,31.0,7.0,2.0,2.0,11.0,53.0,34.0,26.0,1.0,9.0,31.0,5.0,1.0,67.0,2.0,5.0,34.0,1.0,26.0,53.0,15.0,39.0,56.0,1.0,53.0,24.0,15.0,16.0,24.0,52.0,5.0,27.0,30.0,33.0,40.0,80.0,1.0,1.0,67.0,14.0,4.0,29.0,29.0,11.0,48.0,14.0,65.0,4.0,51.0,4.0,1.0,3.0,2.0,11.0,25.0,68.0,38.0,38.0,13.0,62.0,6.0,40.0,27.0,26.0,58.0,96.0,31.0,16.0,1.0,26.0,62.0,21.0,40.0,20.0,22.0,24.0,1.0,3.0,40.0,80.0,26.0,28.0,2.0,26.0,10.0,52.0,2.0,8.0,22.0,32.0,2.0,2.0,3.0,4.0,53.0,32.0,16.0,1.0,1.0,2.0,42.0,18.0,60.0,18.0,23.0,2.0,8.0,9.0,27.0,26.0,3.0,73.0,39.0,21.0,30.0,1.0,1.0,48.0,24.0,52.0,13.0,3.0,21.0,1.0,6.0,13.0,39.0,2.0,26.0,28.0,1.0,18.0,22.0,10.0,1.0,8.0,29.0,99.0,59.0,33.0,65.0,68.0,27.0,41.0,1.0,18.0,46.0,5.0,30.0,48.0,21.0,57.0,37.0,25.0,16.0,15.0,63.0,6.0,8.0,52.0,32.0,5.0,39.0,9.0,8.0,36.0,14.0,73.0,60.0,1.0,38.0,96.0,27.0,31.0,6.0,23.0,39.0,74.0,2.0,15.0,90.0,15.0,17.0,28.0,23.0,1.0,52.0,75.0,52.0,45.0,40.0,35.0,29.0,1.0,11.0,16.0,26.0,1.0,37.0,17.0,54.0,33.0,10.0,16.0,37.0,82.0,60.0,17.0,39.0,53.0,22.0,21.0,63.0,1.0,24.0,9.0,80.0,27.0,24.0,22.0,16.0,1.0,14.0,15.0,8.0,54.0,30.0,3.0,24.0,10.0,49.0,1.0,68.0,14.0,42.0,47.0,2.0,57.0,3.0,56.0,39.0,82.0,24.0,56.0,51.0,37.0,1.0,72.0,23.0,77.0,39.0,53.0,42.0,1.0,36.0,1.0,4.0,8.0,72.0,16.0,37.0,34.0,77.0,34.0,32.0,57.0,35.0,42.0,63.0,1.0,1.0,47.0,24.0,32.0,3.0,14.0,54.0,28.0,31.0,63.0,24.0,11.0,20.0,35.0,5.0,15.0,14.0,11.0,21.0,22.0,90.0,19.0,2.0,2.0,2.0,1.0,1.0,56.0,56.0,28.0,26.0,56.0,2.0,85.0,47.0,2.0,19.0,50.0,67.0,49.0,24.0,8.0,24.0,85.0,22.0,12.0,2.0,7.0,15.0,72.0,38.0,26.0,46.0,58.0,68.0,16.0,13.0,48.0,45.0,8.0,56.0,2.0,8.0,47.0,40.0,3.0,18.0,28.0,28.0,1.0,16.0,13.0,25.0,17.0,10.0,2.0,60.0,7.0,1.0,45.0,1.0,85.0,60.0,9.0,15.0,26.0,50.0,26.0,1.0,16.0,36.0,50.0,86.0,22.0,8.0,8.0,21.0,52.0,10.0,42.0,61.0,70.0,58.0,85.0,20.0,63.0,29.0,26.0,31.0,5.0,1.0,2.0,34.0,18.0,67.0,48.0,39.0,56.0,3.0,57.0,75.0,86.0,18.0,1.0,1.0,1.0,15.0,37.0,7.0,49.0,59.0,27.0,26.0,1.0,15.0,2.0,31.0,1.0,26.0,21.0,3.0,72.0,73.0,14.0,30.0,1.0,32.0,1.0,18.0,1.0,13.0,24.0,16.0,6.0,2.0,61.0,1.0,29.0,75.0,7.0,1.0,61.0,54.0,1.0,22.0,70.0,83.0,3.0,2.0,45.0,65.0,1.0,10.0,35.0,21.0,55.0,39.0,1.0,31.0,1.0,2.0,1.0,1.0,57.0,31.0,1.0,29.0,17.0,29.0,25.0,34.0,26.0,36.0,53.0,9.0,1.0,26.0,9.0,9.0,54.0,1.0,3.0,50.0,3.0,60.0,22.0,3.0,85.0,72.0,21.0,36.0,40.0,17.0,12.0,4.0,40.0,50.0,72.0,4.0,1.0,2.0,24.0,75.0,55.0,17.0,23.0,53.0,4.0,10.0,24.0,1.0,54.0,9.0,2.0,19.0,44.0,1.0,84.0,1.0,56.0,19.0,51.0,29.0,42.0,12.0,4.0,24.0,27.0,62.0,1.0,35.0,10.0,35.0,3.0,57.0,28.0,2.0,25.0,3.0,16.0,90.0,9.0,1.0,28.0,28.0,28.0,53.0,9.0,6.0,84.0,19.0,24.0,1.0,1.0,30.0,1.0,39.0,56.0,46.0,8.0,4.0,56.0,18.0,51.0,36.0,3.0,1.0,19.0,12.0,18.0,12.0,75.0,4.0,8.0,19.0,90.0,2.0,81.0,1.0,26.0,26.0,4.0,87.0,45.0,18.0,70.0,18.0,62.0,17.0,17.0,41.0,96.0,9.0,20.0,2.0,19.0,1.0,68.0,2.0,31.0,8.0,79.0,60.0,24.0,17.0,2.0,1.0,8.0,8.0,34.0,4.0,14.0,40.0,3.0,49.0,36.0,28.0,1.0,26.0,1.0,68.0,6.0,43.0,56.0,30.0,12.0,8.0,9.0,58.0,7.0,3.0,32.0,27.0,31.0,34.0,20.0,27.0,36.0,29.0,62.0,48.0,84.0,6.0,53.0,1.0,62.0,26.0,27.0,20.0,62.0,1.0,9.0,57.0,20.0,16.0,6.0,1.0,8.0,22.0,28.0,27.0,65.0,5.0,53.0,21.0,22.0,16.0,41.0,1.0,26.0,16.0,52.0,24.0,53.0,10.0,39.0,36.0,45.0,1.0,35.0,51.0,45.0,1.0,14.0,22.0,2.0,76.0,40.0,17.0,1.0,21.0,72.0,1.0,85.0,1.0,1.0,41.0,24.0,39.0,3.0,4.0,46.0,39.0,10.0,8.0,75.0,4.0,42.0,8.0,22.0,6.0,1.0,75.0,15.0,30.0,2.0,39.0,62.0,80.0,75.0,45.0,26.0,46.0,27.0,8.0,25.0,17.0,31.0,59.0,15.0,57.0,18.0,75.0,2.0,8.0,1.0,1.0,52.0,66.0,85.0,18.0,27.0,4.0,18.0,26.0,7.0,37.0,15.0,41.0,18.0,1.0,38.0,23.0,2.0,1.0,1.0,6.0,12.0,1.0,50.0,7.0,2.0,1.0,20.0,6.0,3.0,43.0,47.0,60.0,16.0,15.0,32.0,41.0,10.0,85.0,2.0,12.0,22.0,47.0,8.0,72.0,26.0,2.0,6.0,43.0,75.0,37.0,4.0,35.0,58.0,4.0,23.0,14.0,2.0,52.0,8.0,1.0,18.0,35.0,1.0,14.0,25.0,1.0,13.0,34.0,29.0,16.0,22.0,16.0,27.0,75.0,17.0,49.0,12.0,28.0,53.0,36.0,8.0,67.0,70.0,53.0,1.0,36.0,1.0,52.0,23.0,67.0,28.0,65.0,39.0,24.0,56.0,17.0,70.0,75.0,38.0,38.0,22.0,51.0,68.0,3.0,46.0,26.0,24.0,8.0,36.0,1.0,21.0,24.0,18.0,35.0,35.0,1.0,64.0,1.0,85.0,25.0,25.0,28.0,31.0,13.0,57.0,18.0,12.0,4.0,35.0,17.0,8.0,56.0,8.0,8.0,43.0,57.0,32.0,13.0,26.0,26.0,26.0,1.0,92.0,59.0,6.0,1.0,39.0,57.0,19.0,8.0,1.0,61.0,36.0,79.0,34.0,6.0,3.0,60.0,1.0,25.0,42.0,32.0,69.0,3.0,20.0,58.0,60.0,90.0,26.0,32.0,2.0,52.0,69.0,20.0,1.0,1.0,23.0,39.0,18.0,86.0,65.0,67.0,16.0,37.0,2.0,7.0,1.0,24.0,7.0,63.0,1.0,60.0,78.0,4.0,90.0,18.0,5.0,10.0,14.0,42.0,72.0,11.0,1.0,56.0,37.0,17.0,8.0,42.0,26.0,15.0,41.0,2.0,1.0,24.0,88.0,54.0,53.0,43.0,1.0,63.0,1.0,61.0,55.0,9.0,5.0,1.0,53.0,1.0,4.0,32.0,53.0,21.0,37.0,4.0,1.0,2.0,62.0,2.0,53.0,31.0,16.0,60.0,1.0,51.0,8.0,49.0,14.0,67.0,16.0,85.0,3.0,13.0,29.0,26.0,78.0,66.0,7.0,34.0,15.0,16.0,25.0,1.0,30.0,22.0,16.0,33.0,37.0,53.0,31.0,42.0,5.0,50.0,27.0,1.0,1.0,3.0,86.0,9.0,40.0,3.0,58.0,26.0,90.0,16.0,9.0,37.0,1.0,26.0,7.0,36.0,41.0,24.0,73.0,17.0,44.0,2.0,21.0,37.0,59.0,1.0,75.0,16.0,32.0,2.0,56.0,38.0,54.0,35.0,65.0,53.0,60.0,21.0,35.0,26.0,42.0,8.0,24.0,24.0,39.0,14.0,1.0,34.0,8.0,65.0,1.0,8.0,28.0,21.0,75.0,10.0,67.0,27.0,51.0,6.0,48.0,24.0,1.0,2.0,90.0,10.0,53.0,18.0,14.0,1.0,50.0,2.0,56.0,4.0,23.0,1.0,25.0,7.0,29.0,28.0,35.0,56.0,59.0,4.0,70.0,18.0,5.0,2.0,5.0,50.0,7.0,1.0,8.0,2.0,16.0,9.0,49.0,1.0,1.0,1.0,84.0,24.0,6.0,1.0,52.0,31.0,1.0,43.0,18.0,65.0,1.0,51.0,75.0,33.0,1.0,13.0,80.0,39.0,1.0,1.0,57.0,69.0,11.0,29.0,42.0,35.0,58.0,26.0,25.0,35.0,52.0,16.0,57.0,6.0,31.0,1.0,40.0,32.0,54.0,8.0,2.0,58.0,69.0,30.0,2.0,10.0,48.0,39.0,1.0,1.0,22.0,45.0,47.0,66.0,58.0,49.0,38.0,71.0,1.0,26.0,22.0,19.0,45.0,37.0,1.0,1.0,26.0,47.0,90.0,4.0,41.0,36.0,69.0,40.0,9.0,75.0,40.0,38.0,13.0,6.0,28.0,36.0,28.0,8.0,85.0,1.0,19.0,36.0,24.0,41.0,5.0,17.0,50.0,35.0,7.0,62.0,1.0,1.0,1.0,80.0,40.0,1.0,62.0,4.0,11.0,16.0,52.0,85.0,4.0,24.0,17.0,7.0,68.0,3.0,47.0,68.0,46.0,62.0,4.0,47.0,48.0,3.0,25.0,54.0,1.0,42.0,21.0,57.0,61.0,1.0,16.0,42.0,18.0,18.0,21.0,30.0,15.0,2.0,1.0,3.0,37.0,26.0,65.0,1.0,12.0,16.0,17.0,14.0,34.0,31.0,1.0,22.0,31.0,16.0,3.0,1.0,69.0,1.0,79.0,15.0,51.0,1.0,3.0,65.0,66.0,2.0,60.0,20.0,85.0,31.0,1.0,3.0,1.0,1.0,1.0,72.0,63.0,36.0,85.0,2.0,16.0,50.0,85.0,60.0,27.0,22.0,27.0,54.0,56.0,43.0,8.0,58.0,2.0,15.0,1.0,1.0,52.0,16.0,48.0,3.0,3.0,42.0,5.0,1.0,13.0,31.0,9.0,22.0,1.0,58.0,23.0,1.0,47.0,35.0,8.0,60.0,9.0,12.0,41.0,66.0,17.0,35.0,65.0,74.0,31.0,49.0,52.0,13.0,21.0,5.0,43.0,1.0,1.0,1.0,29.0,16.0,42.0,23.0,16.0,8.0,42.0,52.0,85.0,60.0,51.0,15.0,50.0,26.0,20.0,2.0,3.0,90.0,25.0,75.0,15.0,73.0,60.0,2.0,1.0,61.0,10.0,4.0,85.0,89.0,26.0,36.0,52.0,22.0,21.0,3.0,1.0,3.0,16.0,55.0,16.0,86.0,29.0,26.0,51.0,14.0,67.0,39.0,44.0,5.0,37.0,10.0,8.0,18.0,58.0,54.0,41.0,57.0,18.0,1.0,20.0,26.0,16.0,69.0,28.0,1.0,8.0,1.0,28.0,85.0,42.0,65.0,43.0,10.0,11.0,12.0,5.0,26.0,8.0,26.0,21.0,8.0,12.0,8.0,28.0,12.0,20.0,21.0,2.0,40.0,52.0,3.0,88.0,2.0,4.0,11.0,31.0,9.0,49.0,18.0,15.0,50.0,35.0,49.0,49.0,71.0,1.0,15.0,28.0,2.0,52.0,1.0,1.0,2.0,85.0,3.0,68.0,36.0,24.0,7.0,60.0,13.0,10.0,42.0,26.0,31.0,1.0,1.0,27.0,61.0,49.0,61.0,90.0,64.0,60.0,26.0,32.0,39.0,56.0,100.0,1.0,1.0,2.0,42.0,61.0,53.0,28.0,35.0,1.0,1.0,1.0,1.0,1.0,80.0,60.0,32.0,23.0,5.0,7.0,2.0,21.0,2.0,36.0,1.0,39.0,6.0,8.0,32.0,1.0,49.0,42.0,53.0,8.0,65.0,18.0,60.0,48.0,12.0,21.0,60.0,9.0,64.0,8.0,24.0,1.0,85.0,23.0,4.0,5.0,60.0,7.0,36.0,6.0,23.0,8.0,8.0,2.0,16.0,18.0,38.0,1.0,28.0,65.0,15.0,5.0,37.0,1.0,16.0,5.0,47.0,5.0,42.0,3.0,26.0,68.0,39.0,14.0,66.0,24.0,62.0,5.0,32.0,54.0,1.0,26.0,17.0,48.0,53.0,14.0,40.0,77.0,39.0,15.0,1.0,14.0,80.0,42.0,53.0,28.0,17.0,32.0,65.0,1.0,10.0,14.0,18.0,21.0,2.0,90.0,4.0,24.0,25.0,17.0,1.0,61.0,1.0,16.0,1.0,14.0,77.0,22.0,3.0,27.0,26.0,1.0,16.0,12.0,29.0,7.0,2.0,28.0,28.0,36.0,1.0,8.0,41.0,85.0,26.0,2.0,2.0,62.0,1.0,35.0,37.0,12.0,37.0,60.0,11.0,34.0,2.0,26.0,23.0,3.0,50.0,19.0,90.0,80.0,70.0,59.0,14.0,58.0,2.0,5.0,70.0,3.0,75.0,6.0,15.0,38.0,16.0,57.0,30.0,13.0,16.0,23.0,3.0,65.0,86.0,14.0,75.0,11.0,68.0,2.0,26.0,32.0,10.0,76.0,34.0,25.0,17.0,1.0,29.0,38.0,1.0,1.0,36.0,85.0,6.0,24.0,51.0,1.0,53.0,38.0,35.0,1.0,1.0,75.0,1.0,59.0,56.0,85.0,27.0,25.0,10.0,24.0,60.0,31.0,18.0,67.0,11.0,10.0,60.0,27.0,82.0,30.0,16.0,26.0,50.0,1.0,1.0,2.0,53.0,50.0,48.0,1.0,2.0,69.0,46.0,29.0,65.0,56.0,2.0,2.0,43.0,26.0,56.0,1.0,14.0,72.0,8.0,1.0,31.0,49.0,4.0,92.0,5.0,40.0,53.0,3.0,35.0,24.0,52.0,49.0,66.0,35.0,75.0,3.0,60.0,80.0,31.0,14.0,3.0,3.0,1.0,7.0,67.0,11.0,62.0,30.0,25.0,41.0,3.0,25.0,2.0,46.0,4.0,14.0,58.0,28.0,26.0,8.0,85.0,67.0,27.0,4.0,50.0,1.0,3.0,3.0,42.0,17.0,34.0,6.0,2.0,26.0,2.0,4.0,59.0,1.0,6.0,25.0,1.0,56.0,9.0,1.0,13.0,51.0,22.0,6.0,25.0,6.0,3.0,35.0,31.0,3.0,58.0,11.0,9.0,8.0,56.0,31.0,18.0,48.0,72.0,2.0,53.0,15.0,28.0,80.0,3.0,25.0,17.0,14.0,90.0,25.0,2.0,18.0,58.0,1.0,2.0,7.0,18.0,3.0,34.0,62.0,46.0,35.0,70.0,2.0,1.0,22.0,75.0,53.0,59.0,65.0,66.0,73.0,55.0,3.0,46.0,50.0,10.0,42.0,26.0,21.0,43.0,9.0,1.0,30.0,1.0,72.0,17.0,3.0,62.0,38.0,22.0,1.0,5.0,28.0,59.0,53.0,67.0,16.0,5.0,24.0,4.0,58.0,21.0,31.0,22.0,22.0,80.0,1.0,29.0,85.0,24.0,27.0,2.0,48.0,40.0,38.0,2.0,26.0,16.0,1.0,34.0,24.0,24.0,27.0,54.0,36.0,3.0,21.0,1.0,18.0,4.0,85.0,76.0,10.0,60.0,1.0,34.0,39.0,24.0,18.0,5.0,1.0,15.0,90.0,10.0,5.0,1.0,51.0,28.0,3.0,74.0,10.0,73.0,26.0,54.0,30.0,6.0,68.0,18.0,56.0,57.0,1.0,52.0,2.0,26.0,17.0,16.0,85.0,39.0,1.0,32.0,25.0,7.0,9.0,1.0,1.0,1.0,63.0,29.0,25.0,44.0,78.0,1.0,41.0,33.0,3.0,57.0,2.0,1.0,65.0,6.0,37.0,4.0,1.0,1.0,24.0,1.0,49.0,21.0,25.0,93.0,35.0,50.0,33.0,62.0,80.0,51.0,16.0,6.0,85.0,9.0,5.0,80.0,1.0,32.0,35.0,10.0,1.0,7.0,60.0,11.0,1.0,1.0,86.0,9.0,29.0,1.0,8.0,4.0,50.0,36.0,14.0,17.0,37.0,90.0,8.0,15.0,30.0,7.0,29.0,34.0,7.0,20.0,20.0,14.0,3.0,27.0,63.0,1.0,29.0,1.0,32.0,2.0,14.0,66.0,39.0,14.0,65.0,42.0,39.0,5.0,25.0,10.0,36.0,57.0,45.0,1.0,1.0,6.0,32.0,4.0,25.0,1.0,26.0,56.0,81.0,3.0,42.0,1.0,38.0,65.0,14.0,23.0,2.0,83.0,9.0,29.0,56.0,13.0,20.0,30.0,1.0,24.0,1.0,56.0,52.0,7.0,52.0,14.0,39.0,30.0,54.0,56.0,46.0,1.0,36.0,32.0,2.0,63.0,14.0,56.0,15.0,60.0,49.0,28.0,54.0,1.0,48.0,36.0,2.0,34.0,85.0,2.0,47.0,69.0,24.0,42.0,32.0,85.0,39.0,16.0,50.0,42.0,18.0,29.0,1.0,24.0,5.0,39.0,16.0,4.0,56.0,16.0,36.0,7.0,58.0,24.0,67.0,36.0,86.0,26.0,85.0,39.0,45.0,60.0,16.0,70.0,27.0,56.0,1.0,27.0,31.0,90.0,92.0,1.0,62.0,60.0,6.0,21.0,7.0,4.0,36.0,16.0,12.0,18.0,22.0,4.0,23.0,90.0,15.0,27.0,24.0,9.0,62.0,24.0,65.0,77.0,7.0,33.0,27.0,52.0,72.0,78.0,30.0,85.0,15.0,1.0,78.0,1.0,65.0,68.0,31.0,19.0,59.0,19.0,14.0,8.0,80.0,88.0,22.0,53.0,66.0,21.0,26.0,20.0,21.0,24.0,21.0,65.0,29.0,15.0,18.0,66.0,45.0,51.0,1.0,64.0,36.0,12.0,14.0,1.0,32.0,28.0,6.0,14.0,1.0,56.0,62.0,13.0,7.0,50.0,60.0,69.0,66.0,22.0,7.0,2.0,9.0,73.0,22.0,22.0,68.0,2.0,10.0,4.0,16.0,22.0,42.0,36.0,29.0,32.0,15.0,18.0,4.0,36.0,54.0,81.0,9.0,74.0,33.0,16.0,32.0,3.0,32.0,2.0,18.0,27.0,27.0,72.0,1.0,8.0,6.0,34.0,3.0,2.0,24.0,53.0,22.0,4.0,14.0,5.0,9.0,10.0,88.0,1.0,56.0,37.0,1.0,75.0,26.0,71.0,51.0,45.0,16.0,53.0,48.0,76.0,17.0,47.0,26.0,35.0,4.0,2.0,85.0,18.0,88.0,58.0,60.0,34.0,56.0,9.0,8.0,32.0,39.0,53.0,10.0,5.0,42.0,43.0,15.0,65.0,1.0,26.0,39.0,52.0,1.0,3.0,50.0,90.0,27.0,57.0,1.0,9.0,38.0,14.0,4.0,37.0,3.0,27.0,58.0,37.0,25.0,75.0,28.0,76.0,1.0,39.0,38.0,4.0,30.0,30.0,46.0,87.0,58.0,7.0,82.0,28.0,18.0,7.0,64.0,1.0,16.0,92.0,56.0,1.0,41.0,4.0,5.0,6.0,1.0,29.0,6.0,21.0,68.0,35.0,5.0,26.0,1.0,18.0,1.0,25.0,36.0,86.0,1.0,52.0,55.0,2.0,10.0,38.0,24.0,17.0,17.0,36.0,58.0,62.0,73.0,58.0,8.0,68.0,21.0,80.0,20.0,1.0,54.0,85.0,9.0,40.0,1.0,8.0,8.0,32.0,8.0,63.0,21.0,54.0,38.0,45.0,72.0,54.0,80.0,27.0,46.0,1.0,54.0,59.0,6.0,58.0,3.0,1.0,1.0,45.0,28.0,3.0,42.0,49.0,5.0,13.0,1.0,25.0,40.0,7.0,62.0,32.0,12.0,9.0,1.0,1.0,90.0,1.0,1.0,2.0,7.0,2.0,24.0,1.0,58.0,1.0,25.0,1.0,9.0,18.0,47.0,22.0,15.0,18.0,42.0,5.0,1.0,42.0,69.0,11.0,51.0,23.0,54.0,41.0,48.0,10.0,19.0,1.0,4.0,20.0,10.0,9.0,31.0,22.0,60.0,49.0,58.0,23.0,23.0,19.0,65.0,2.0,5.0,8.0,26.0,39.0,42.0,8.0,16.0,40.0,59.0,65.0,1.0,1.0,2.0,16.0,26.0,61.0,1.0,35.0,45.0,24.0,1.0,9.0,22.0,2.0,25.0,8.0,39.0,2.0,26.0,11.0,27.0,49.0,2.0,16.0,60.0,61.0,49.0,32.0,22.0,11.0,15.0,2.0,7.0,4.0,25.0,53.0,58.0,82.0,80.0,77.0,39.0,51.0,6.0,1.0,3.0,3.0,65.0,16.0,1.0,85.0,2.0,8.0,79.0,33.0,32.0,16.0,39.0,4.0,10.0,4.0,31.0,61.0,2.0,1.0,1.0,85.0,15.0,7.0,1.0,50.0,22.0,27.0,9.0,67.0,50.0,20.0,10.0,50.0,83.0,23.0,1.0,18.0,22.0,22.0,1.0,69.0,1.0,67.0,26.0,52.0,46.0,42.0,3.0,18.0,41.0,75.0,61.0,15.0,63.0,36.0,1.0,36.0,66.0,8.0,2.0,67.0,20.0,76.0,65.0,59.0,14.0,65.0,5.0,6.0,17.0,31.0,12.0,56.0,60.0,4.0,44.0,36.0,12.0,72.0,40.0,1.0,10.0,30.0,36.0,4.0,63.0,72.0,31.0,1.0,1.0,73.0,41.0,32.0,10.0,29.0,10.0,4.0,22.0,41.0,27.0,39.0,35.0,54.0,1.0,56.0,8.0,13.0,19.0,2.0,21.0,5.0,37.0,79.0,55.0,1.0,65.0,28.0,23.0,40.0,5.0,25.0,75.0,16.0,19.0,28.0,26.0,8.0,53.0,17.0,16.0,2.0,1.0,12.0,52.0,75.0,73.0,54.0,3.0,60.0,34.0,31.0,48.0,6.0,3.0,51.0,85.0,1.0,28.0,16.0,69.0,50.0,1.0,8.0,86.0,46.0,3.0,4.0,23.0,32.0,1.0,51.0,28.0,47.0,1.0,47.0,39.0,13.0,1.0,47.0,39.0,50.0,24.0,10.0,25.0,52.0,66.0,1.0,33.0,1.0,1.0,8.0,1.0,37.0,20.0,35.0,16.0,16.0,1.0,49.0,7.0,52.0,51.0,24.0,31.0,3.0,16.0,51.0,20.0,85.0,2.0,49.0,16.0,29.0,23.0,1.0,12.0,1.0,39.0,4.0,5.0,9.0,11.0,1.0,1.0,1.0,3.0,56.0,1.0,82.0,85.0,27.0,36.0,60.0,1.0,2.0,5.0,45.0,21.0,26.0,24.0,36.0,9.0,26.0,2.0,65.0,8.0,2.0,63.0,1.0,21.0,26.0,29.0,72.0,36.0,77.0,10.0,38.0,5.0,26.0,15.0,51.0,3.0,59.0,30.0,60.0,1.0,2.0,85.0,29.0,25.0,8.0,1.0,51.0,5.0,66.0,65.0,13.0,26.0,1.0,22.0,66.0,1.0,2.0,46.0,52.0,48.0,39.0,68.0,24.0,56.0,24.0,85.0,12.0,35.0,29.0,42.0,26.0,27.0,1.0,58.0,33.0,2.0,2.0,14.0,10.0,5.0,24.0,14.0,59.0,50.0,15.0,50.0,79.0,1.0,57.0,3.0,22.0,1.0,3.0,28.0,2.0,56.0,19.0,35.0,12.0,64.0,10.0,25.0,14.0,16.0,35.0,47.0,29.0,26.0,13.0,68.0,26.0,25.0,65.0,22.0,25.0,27.0,37.0,44.0,16.0,1.0,22.0,53.0,65.0,15.0,16.0,2.0,88.0,60.0,2.0,31.0,73.0,26.0,18.0,8.0,58.0,5.0,57.0,68.0,2.0,49.0,1.0,34.0,75.0,45.0,66.0,72.0,8.0,49.0,80.0,26.0,96.0,24.0,11.0,13.0,49.0,13.0,2.0,5.0,26.0,52.0,85.0,30.0,80.0,82.0,58.0,49.0,1.0,2.0,24.0,16.0,12.0,71.0,9.0,1.0,26.0,85.0,31.0,21.0,8.0,80.0,8.0,5.0,26.0,5.0,1.0,26.0,60.0,8.0,18.0,8.0,52.0,26.0,22.0,24.0,2.0,4.0,16.0,2.0,73.0,41.0,80.0,1.0,52.0,9.0,51.0,21.0,7.0,1.0,8.0,82.0,39.0,30.0,69.0,2.0,3.0,28.0,2.0,36.0,25.0,26.0,1.0,27.0,52.0,51.0,26.0,39.0,33.0,22.0,16.0,9.0,50.0,53.0,16.0,2.0,30.0,16.0,50.0,20.0,1.0,40.0,12.0,38.0,35.0,76.0,60.0,5.0,46.0,82.0,1.0,1.0,12.0,1.0,17.0,72.0,30.0,85.0,70.0,29.0,85.0,26.0,1.0,15.0,29.0,9.0,1.0,1.0,56.0,2.0,32.0,53.0,1.0,19.0,20.0,8.0,1.0,54.0,83.0,5.0,2.0,54.0,1.0,25.0,75.0,72.0,78.0,40.0,39.0,5.0,53.0,37.0,75.0,48.0,71.0,8.0,1.0,90.0,13.0,29.0,31.0,20.0,43.0,27.0,27.0,1.0,56.0,19.0,17.0,24.0,29.0,24.0,28.0,15.0,48.0,29.0,2.0,3.0,43.0,61.0,89.0,6.0,58.0,1.0,40.0,80.0,27.0,62.0,34.0,12.0,62.0,13.0,1.0,3.0,1.0,46.0,3.0,23.0,28.0,1.0,18.0,65.0,18.0,52.0,32.0,28.0,16.0,9.0,62.0,5.0,60.0,51.0,15.0,75.0,22.0,6.0,2.0,8.0,29.0,29.0,14.0,45.0,25.0,73.0,39.0,34.0,31.0,21.0,1.0,2.0,56.0,31.0,72.0,1.0,1.0,1.0,52.0,60.0,3.0,28.0,67.0,9.0,3.0,89.0,42.0,53.0,26.0,95.0,22.0,17.0,74.0,28.0,79.0,37.0,50.0,53.0,1.0,1.0,88.0,39.0,34.0,18.0,79.0,34.0,30.0,25.0,27.0,56.0,24.0,2.0,17.0,1.0,12.0,58.0,1.0,44.0,8.0,2.0,40.0,1.0,60.0,70.0,61.0,52.0,31.0,2.0,60.0,1.0,18.0,37.0,47.0,62.0,6.0,25.0,1.0,2.0,42.0,1.0,17.0,54.0,61.0,31.0,21.0,38.0,40.0,42.0,58.0,30.0,59.0,3.0,89.0,26.0,42.0,2.0,11.0,8.0,24.0,14.0,50.0,28.0,32.0,65.0,18.0,20.0,78.0,52.0,13.0,15.0,30.0,6.0,7.0,61.0,96.0,15.0,25.0,45.0,70.0,38.0,20.0,6.0,22.0,26.0,18.0,29.0,31.0,1.0,47.0,2.0,38.0,25.0,37.0,18.0,13.0,22.0,1.0,28.0,37.0,56.0,2.0,2.0,84.0,29.0,58.0,53.0,25.0,8.0,35.0,29.0,18.0,1.0,10.0,2.0,30.0,50.0,12.0,48.0,22.0,53.0,1.0,12.0,14.0,14.0,2.0,4.0,30.0,35.0,1.0,64.0,33.0,52.0,1.0,20.0,15.0,38.0,65.0,28.0,26.0,4.0,42.0,17.0,22.0,30.0,2.0,4.0,56.0,67.0,1.0,1.0,35.0,9.0,2.0,4.0,31.0,50.0,29.0,59.0,60.0,24.0,5.0,1.0,70.0,24.0,1.0,34.0,9.0,1.0,1.0,1.0,7.0,15.0,23.0,1.0,1.0,37.0,54.0,40.0,26.0,58.0,14.0,11.0,2.0,44.0,16.0,47.0,1.0,38.0,14.0,9.0,60.0,54.0,3.0,90.0,46.0,49.0,64.0,2.0,18.0,1.0,39.0,3.0,7.0,80.0,1.0,58.0,12.0,9.0,8.0,52.0,2.0,28.0,80.0,1.0,76.0,53.0,39.0,16.0,5.0,1.0,14.0,8.0,18.0,52.0,53.0,15.0,35.0,3.0,13.0,27.0,13.0,11.0,66.0,12.0,76.0,21.0,4.0,40.0,29.0,53.0,30.0,1.0,85.0,1.0,11.0,7.0,1.0,13.0,31.0,60.0,24.0,3.0,62.0,4.0,46.0,21.0,56.0,34.0,23.0,2.0,16.0,9.0,37.0,65.0,73.0,13.0,1.0,29.0,20.0,1.0,3.0,54.0,1.0,16.0,54.0,1.0,1.0,1.0,71.0,14.0,11.0,32.0,42.0,1.0,9.0,75.0,15.0,85.0,53.0,72.0,48.0,59.0,23.0,2.0,53.0,6.0,60.0,2.0,1.0,60.0,42.0,5.0,38.0,68.0,8.0,24.0,1.0,85.0,17.0,62.0,1.0,11.0,1.0,54.0,10.0,9.0,28.0,1.0,30.0,16.0,29.0,45.0,29.0,38.0,33.0,3.0,37.0,30.0,14.0,8.0,26.0,56.0,23.0,1.0,14.0,4.0,12.0,96.0,18.0,38.0,40.0,47.0,26.0,8.0,16.0,25.0,50.0,8.0,1.0,50.0,9.0,5.0,1.0,13.0,1.0,15.0,1.0,18.0,16.0,1.0,1.0,1.0,16.0,38.0,43.0,2.0,8.0,29.0,1.0,75.0,69.0,1.0,51.0,48.0,41.0,16.0,4.0,2.0,8.0,1.0,36.0,61.0,40.0,1.0,30.0,7.0,12.0,47.0,2.0,42.0,18.0,49.0,1.0,59.0,52.0,26.0,15.0,27.0,1.0,8.0,3.0,1.0,3.0,5.0,30.0,6.0,54.0,32.0,77.0,55.0,58.0,9.0,58.0,69.0,1.0,80.0,26.0,60.0,6.0,43.0,9.0,1.0,6.0,30.0,56.0,2.0,11.0,16.0,1.0,13.0,70.0,28.0,13.0,8.0,34.0,27.0,24.0,76.0,1.0,28.0,14.0,33.0,60.0,16.0,1.0,3.0,1.0,8.0,1.0,8.0,27.0,28.0,86.0,34.0,76.0,32.0,17.0,25.0,1.0,7.0,78.0,18.0,57.0,90.0,50.0,49.0,85.0,55.0,21.0,45.0,16.0,54.0,50.0,13.0,2.0,8.0,8.0,1.0,2.0,1.0,28.0,71.0,35.0,2.0,43.0,68.0,80.0,55.0,75.0,27.0,46.0,14.0,35.0,60.0,4.0,1.0,49.0,2.0,53.0,22.0,34.0,45.0,14.0,14.0,8.0,53.0,18.0,3.0,62.0,20.0,4.0,58.0,10.0,6.0,1.0,14.0,2.0,54.0,4.0,2.0,2.0,3.0,1.0,70.0,24.0,39.0,2.0,9.0,47.0,2.0,27.0,50.0,65.0,86.0,1.0,8.0,35.0,2.0,1.0,25.0,39.0,48.0,1.0,1.0,85.0,30.0,52.0,1.0,1.0,75.0,2.0,15.0,68.0,8.0,24.0,62.0,6.0,29.0,69.0,29.0,54.0,20.0,58.0,5.0,8.0,43.0,55.0,7.0,48.0,1.0,13.0,14.0,77.0,4.0,26.0,57.0,17.0,36.0,6.0,1.0,49.0,12.0,7.0,31.0,31.0,45.0,25.0,48.0,26.0,18.0,56.0,80.0,1.0,65.0,68.0,85.0,24.0,58.0,7.0,15.0,65.0,80.0,49.0,2.0,9.0,1.0,57.0,34.0,31.0,48.0,34.0,21.0,1.0,80.0,52.0,56.0,18.0,16.0,7.0,16.0,48.0,8.0,10.0,27.0,37.0,51.0,85.0,71.0,2.0,4.0,2.0,47.0,50.0,1.0,1.0,21.0,34.0,30.0,3.0,55.0,52.0,54.0,24.0,2.0,21.0,3.0,1.0,59.0,85.0,1.0,48.0,26.0,8.0,8.0,24.0,26.0,21.0,6.0,28.0,1.0,92.0,29.0,21.0,56.0,2.0,7.0,30.0,71.0,60.0,101.0,25.0,1.0,26.0,26.0,54.0,20.0,54.0,65.0,16.0,55.0,6.0,1.0,19.0,2.0,31.0,39.0,47.0,26.0,4.0,36.0,22.0,39.0,36.0,13.0,25.0,12.0,2.0,1.0,26.0,5.0,26.0,67.0,16.0,53.0,26.0,14.0,52.0,83.0,19.0,19.0,29.0,26.0,26.0,1.0,85.0,26.0,55.0,18.0,62.0,31.0,43.0,24.0,32.0,85.0,66.0,54.0,24.0,25.0,3.0,53.0,85.0,85.0,20.0,5.0,30.0,82.0,8.0,32.0,26.0,16.0,34.0,56.0,67.0,49.0,2.0,24.0,60.0,19.0,57.0,57.0,1.0,1.0,22.0,50.0,65.0,85.0,35.0,14.0,78.0,22.0,5.0,9.0,54.0,45.0,23.0,1.0,57.0,3.0,5.0,14.0,24.0,24.0,54.0,10.0,38.0,52.0,22.0,52.0,26.0,22.0,65.0,1.0,23.0,18.0,32.0,43.0,56.0,1.0,25.0,59.0,49.0,86.0,28.0,2.0,48.0,67.0,80.0,70.0,86.0,5.0,14.0,26.0,3.0,9.0,18.0,64.0,41.0,73.0,43.0,43.0,71.0,47.0,45.0,65.0,23.0,65.0,1.0,1.0,1.0,96.0,5.0,58.0,54.0,15.0,40.0,1.0,16.0,1.0,35.0,34.0,2.0,15.0,59.0,1.0,9.0,22.0,90.0,53.0,14.0,4.0,43.0,1.0,20.0,21.0,12.0,56.0,55.0,27.0,30.0,14.0,5.0,32.0,22.0,23.0,5.0,26.0,13.0,92.0,32.0,9.0,53.0,72.0,66.0,22.0,60.0,40.0,2.0,7.0,16.0,1.0,4.0,20.0,2.0,56.0,24.0,1.0,26.0,2.0,56.0,23.0,6.0,2.0,20.0,65.0,49.0,38.0,31.0,4.0,5.0,49.0,27.0,1.0,24.0,18.0,11.0,3.0,25.0,4.0,2.0,8.0,25.0,16.0,29.0,4.0,32.0,66.0,21.0,8.0,3.0,21.0,47.0,25.0,1.0,20.0,12.0,24.0,31.0,8.0,21.0,52.0,43.0,64.0,65.0,35.0,34.0,85.0,17.0,72.0,32.0,50.0,36.0,3.0,5.0,54.0,39.0,1.0,1.0,18.0,3.0,1.0,34.0,15.0,53.0,26.0,62.0,110.0,1.0,61.0,20.0,42.0,66.0,1.0,2.0,24.0,60.0,2.0,35.0,37.0,21.0,4.0,2.0,29.0,18.0,31.0,59.0,80.0,35.0,60.0,28.0,62.0,1.0,13.0,24.0,43.0,5.0,68.0,1.0,41.0,9.0,11.0,2.0,8.0,41.0,90.0,7.0,5.0,79.0,1.0,34.0,72.0,4.0,23.0,2.0,26.0,48.0,69.0,57.0,4.0,25.0,24.0,16.0,80.0,15.0,18.0,85.0,37.0,1.0,2.0,47.0,59.0,10.0,90.0,43.0,1.0,16.0,68.0,44.0,2.0,14.0,8.0,12.0,86.0,1.0,26.0,4.0,1.0,29.0,17.0,4.0,2.0,7.0,58.0,60.0,10.0,25.0,25.0,32.0,18.0,1.0,2.0,1.0,19.0,66.0,2.0,85.0,20.0,5.0,24.0,10.0,44.0,39.0,6.0,12.0,5.0,85.0,1.0,4.0,30.0,85.0,34.0,16.0,60.0,8.0,26.0,21.0,8.0,34.0,5.0,8.0,70.0,4.0,15.0,57.0,2.0,18.0,18.0,46.0,89.0,2.0,6.0,26.0,3.0,2.0,8.0,3.0,26.0,3.0,49.0,53.0,30.0,22.0,9.0,38.0,37.0,35.0,5.0,1.0,80.0,15.0,46.0,2.0,8.0,76.0,1.0,4.0,72.0,3.0,24.0,39.0,1.0,1.0,35.0,90.0,30.0,48.0,18.0,90.0,2.0,18.0,22.0,2.0,16.0,16.0,1.0,38.0,1.0,31.0,3.0,26.0,16.0,34.0,80.0,49.0,50.0,1.0,43.0,21.0,80.0,65.0,52.0,4.0,29.0,32.0,75.0,55.0,14.0,1.0,45.0,1.0,2.0,21.0,50.0,34.0,85.0,17.0,3.0,49.0,80.0,2.0,1.0,26.0,29.0,48.0,15.0,28.0,85.0,58.0,18.0,5.0,3.0,33.0,3.0,2.0,1.0,7.0,1.0,56.0,1.0,13.0,42.0,2.0,6.0,15.0,27.0,40.0,2.0,53.0,10.0,2.0,17.0,53.0,58.0,42.0,1.0,46.0,57.0,2.0,1.0,30.0,61.0,1.0,3.0,2.0,34.0,85.0,70.0,25.0,7.0,28.0,72.0,29.0,15.0,39.0,8.0,34.0,58.0,3.0,60.0,11.0,5.0,15.0,48.0,85.0,85.0,35.0,24.0,60.0,88.0,22.0,13.0,32.0,76.0,1.0,17.0,34.0,15.0,69.0,10.0,1.0,15.0,75.0,26.0,2.0,4.0,42.0,39.0,26.0,9.0,18.0,25.0,24.0,2.0,36.0,10.0,76.0,36.0,68.0,61.0,1.0,20.0,2.0,2.0,32.0,39.0,50.0,14.0,54.0,50.0,1.0,76.0,90.0,12.0,1.0,75.0,29.0,46.0,39.0,37.0,75.0,19.0,85.0,1.0,20.0,5.0,1.0,49.0,1.0,3.0,25.0,2.0,1.0,89.0,80.0,18.0,53.0,9.0,1.0,3.0,48.0,26.0,37.0,33.0,60.0,1.0,2.0,5.0,1.0,6.0,89.0,36.0,67.0,54.0,1.0,5.0,40.0,49.0,53.0,8.0,18.0,55.0,70.0,2.0,48.0,39.0,32.0,25.0,24.0,26.0,29.0,28.0,70.0,64.0,22.0,2.0,1.0,22.0,65.0,71.0,2.0,2.0,9.0,5.0,30.0,1.0,3.0,4.0,16.0,58.0,20.0,16.0,4.0,42.0,25.0,3.0,1.0,16.0,17.0,36.0,85.0,16.0,53.0,42.0,40.0,30.0,14.0,24.0,10.0,25.0,3.0,54.0,20.0,26.0,1.0,15.0,1.0,18.0,26.0,47.0,65.0,61.0,55.0,50.0,7.0,4.0,65.0,47.0,55.0,43.0,8.0,10.0,78.0,26.0,22.0,1.0,52.0,80.0,18.0,71.0,10.0,27.0,56.0,28.0,49.0,60.0,3.0,15.0,40.0,3.0,4.0,89.0,18.0,37.0,7.0,14.0,60.0,25.0,2.0,32.0,5.0,32.0,39.0,7.0,1.0,8.0,29.0,49.0,63.0,57.0,35.0,8.0,55.0,28.0,62.0,32.0,30.0,18.0,24.0,45.0,1.0,11.0,73.0,60.0,18.0,39.0,26.0,29.0,2.0,3.0,66.0,65.0,21.0,16.0,24.0,32.0,1.0,2.0,85.0,45.0,8.0,39.0,42.0,46.0,3.0,69.0,26.0,22.0,46.0,33.0,2.0,51.0,7.0,17.0,8.0,21.0,49.0,25.0,23.0,15.0,2.0,24.0,50.0,75.0,52.0,28.0,73.0,24.0,85.0,26.0,54.0,4.0,54.0,1.0,1.0,80.0,1.0,28.0,11.0,4.0,1.0,65.0,69.0,14.0,22.0,7.0,18.0,3.0,4.0,25.0,12.0,56.0,7.0,1.0,28.0,73.0,1.0,23.0,85.0,77.0,65.0,12.0,1.0,40.0,7.0,12.0,42.0,35.0,17.0,63.0,25.0,43.0,50.0,45.0,58.0,67.0,43.0,4.0,18.0,35.0,3.0,76.0,26.0,1.0,25.0,1.0,41.0,8.0,16.0,2.0,86.0,28.0,1.0,27.0,86.0,26.0,21.0,10.0,1.0,18.0,10.0,80.0,73.0,26.0,85.0,7.0,1.0,31.0,52.0,69.0,75.0,3.0,58.0,8.0,21.0,34.0,39.0,70.0,35.0,41.0,8.0,32.0,1.0,69.0,49.0,67.0,48.0,4.0,12.0,32.0,24.0,10.0,9.0,37.0,13.0,2.0,65.0,37.0,25.0,30.0,9.0,1.0,82.0,39.0,37.0,1.0,14.0,5.0,1.0,26.0,39.0,5.0,1.0,26.0,6.0,29.0,51.0,8.0,22.0,2.0,22.0,2.0,50.0,59.0,49.0,22.0,79.0,3.0,2.0,69.0,69.0,72.0,1.0,59.0,38.0,37.0,16.0,1.0,28.0,21.0,8.0,39.0,1.0,68.0,80.0,14.0,24.0,35.0,14.0,82.0,49.0,3.0,1.0,8.0,56.0,60.0,76.0,3.0,55.0,2.0,2.0,66.0,55.0,24.0,26.0,16.0,35.0,58.0,14.0,10.0,5.0,1.0,52.0,20.0,2.0,52.0,1.0,2.0,52.0,28.0,1.0,39.0,62.0,28.0,10.0,3.0,31.0,14.0,38.0,13.0,2.0,2.0,12.0,3.0,27.0,28.0,1.0,20.0,10.0,1.0,54.0,20.0,2.0,1.0,3.0,37.0,3.0,1.0,15.0,32.0,30.0,72.0,16.0,30.0,1.0,2.0,1.0,7.0,23.0,65.0,59.0,4.0,68.0,1.0,1.0,25.0,26.0,74.0,66.0,3.0,43.0,12.0,36.0,70.0,37.0,15.0,26.0,2.0,25.0,24.0,3.0,18.0,52.0,2.0,1.0,8.0,22.0,16.0,68.0,18.0,52.0,72.0,7.0,9.0,52.0,8.0,10.0,49.0,58.0,10.0,65.0,51.0,84.0,41.0,20.0,45.0,13.0,2.0,25.0,47.0,37.0,18.0,10.0,70.0,24.0,29.0,9.0,2.0,30.0,18.0,35.0,46.0,13.0,5.0,1.0,67.0,1.0,62.0,11.0,14.0,32.0,73.0,2.0,16.0,17.0,21.0,8.0,60.0,51.0,39.0,26.0,2.0,42.0,60.0,63.0,49.0,60.0,2.0,44.0,63.0,14.0,18.0,1.0,24.0,17.0,70.0,58.0,90.0,93.0,1.0,63.0,50.0,10.0,5.0,66.0,75.0,52.0,22.0,66.0,59.0,65.0,51.0,8.0,28.0,2.0,77.0,65.0,49.0,24.0,15.0,7.0,18.0,43.0,8.0,25.0,1.0,32.0,86.0,1.0,24.0,26.0,56.0,58.0,5.0,1.0,37.0,5.0,38.0,58.0,10.0,52.0,3.0,17.0,18.0,1.0,57.0,53.0,21.0,40.0,12.0,10.0,36.0,38.0,53.0,14.0,10.0,37.0,10.0,28.0,63.0,27.0,20.0,48.0,53.0,36.0,1.0,6.0,50.0,39.0,38.0,49.0,19.0,1.0,24.0,33.0,39.0,24.0,10.0,27.0,62.0,24.0,76.0,8.0,26.0,6.0,39.0,16.0,1.0,72.0,32.0,34.0,23.0,30.0,14.0,71.0,11.0,26.0,10.0,35.0,1.0,9.0,45.0,1.0,23.0,36.0,82.0,1.0,85.0,4.0,1.0,24.0,3.0,29.0,1.0,21.0,72.0,40.0,70.0,46.0,33.0,25.0,2.0,60.0,85.0,4.0,1.0,21.0,5.0,1.0,52.0,50.0,8.0,41.0,22.0,51.0,24.0,60.0,57.0,38.0,1.0,3.0,9.0,2.0,72.0,7.0,56.0,18.0,1.0,47.0,1.0,39.0,1.0,52.0,1.0,2.0,53.0,14.0,5.0,2.0,47.0,65.0,1.0,8.0,74.0,72.0,4.0,39.0,3.0,37.0,52.0,60.0,3.0,26.0,1.0,1.0,80.0,32.0,7.0,19.0,1.0,1.0,42.0,9.0,3.0,26.0,15.0,1.0,16.0,36.0,4.0,4.0,14.0,2.0,21.0,1.0,24.0,32.0,57.0,32.0,32.0,21.0,28.0,1.0,36.0,64.0,35.0,8.0,1.0,95.0,2.0,61.0,2.0,24.0,30.0,28.0,22.0,7.0,26.0,54.0,21.0,38.0,51.0,65.0,25.0,27.0,85.0,24.0,18.0,29.0,42.0,4.0,49.0,3.0,1.0,13.0,21.0,96.0,65.0,3.0,1.0,48.0,80.0,23.0,17.0,22.0,10.0,18.0,64.0,4.0,51.0,49.0,33.0,75.0,5.0,2.0,75.0,53.0,6.0,29.0,1.0,46.0,24.0,54.0,56.0,15.0,15.0,52.0,20.0,18.0,10.0,2.0,24.0,16.0,27.0,60.0,2.0,1.0,9.0,52.0,28.0,12.0,15.0,1.0,19.0,70.0,54.0,9.0,9.0,36.0,30.0,1.0,1.0,26.0,35.0,18.0,26.0,28.0,33.0,8.0,26.0,72.0,45.0,26.0,36.0,85.0,51.0,34.0,24.0,16.0,39.0,2.0,1.0,47.0,28.0,18.0,39.0,24.0,17.0,26.0,1.0,39.0,12.0,83.0,65.0,4.0,7.0,50.0,26.0,21.0,9.0,92.0,77.0,45.0,20.0,1.0,7.0,85.0,75.0,80.0,26.0,28.0,19.0,21.0,91.0,18.0,14.0,76.0,3.0,14.0,24.0,18.0,11.0,4.0,35.0,22.0,80.0,38.0,41.0,16.0,59.0,31.0,12.0,2.0,19.0,56.0,25.0,2.0,63.0,32.0,47.0,26.0,45.0,65.0,36.0,24.0,14.0,1.0,2.0,2.0,17.0,24.0,11.0,30.0,40.0,25.0,4.0,49.0,26.0,50.0,3.0,49.0,90.0,5.0,47.0,29.0,60.0,2.0,14.0,54.0,46.0,10.0,12.0,80.0,9.0,1.0,29.0,9.0,42.0,17.0,1.0,9.0,26.0,21.0,19.0,2.0,30.0,26.0,12.0,60.0,70.0,2.0,29.0,1.0,1.0,5.0,1.0,27.0,58.0,70.0,36.0,38.0,9.0,18.0,52.0,26.0,65.0,52.0,76.0,12.0,1.0,72.0,25.0,1.0,1.0,16.0,4.0,36.0,1.0,2.0,85.0,8.0,7.0,34.0,96.0,29.0,1.0,38.0,1.0,34.0,31.0,2.0,1.0,8.0,28.0,2.0,20.0,30.0,1.0,75.0,1.0,37.0,18.0,32.0,2.0,46.0,67.0,1.0,58.0,8.0,44.0,69.0,52.0,57.0,28.0,6.0,48.0,59.0,2.0,59.0,85.0,8.0,8.0,73.0,49.0,54.0,12.0,1.0,29.0,36.0,1.0,32.0,5.0,30.0,56.0,9.0,21.0,21.0,85.0,1.0,26.0,66.0,2.0,69.0,41.0,10.0,16.0,96.0,3.0,52.0,1.0,93.0,1.0,66.0,31.0,38.0,36.0,1.0,3.0,1.0,27.0,8.0,20.0,59.0,16.0,1.0,3.0,79.0,56.0,82.0,3.0,60.0,56.0,57.0,22.0,59.0,41.0,4.0,58.0,10.0,39.0,9.0,8.0,1.0,26.0,90.0,6.0,62.0,56.0,55.0,1.0,25.0,26.0,6.0,81.0,16.0,32.0,37.0,10.0,22.0,68.0,14.0,72.0,71.0,67.0,28.0,12.0,56.0,30.0,54.0,75.0,34.0,1.0,76.0,44.0,21.0,70.0,66.0,53.0,1.0,8.0,27.0,72.0,1.0,23.0,39.0,90.0,17.0,23.0,2.0,14.0,29.0,45.0,45.0,25.0,72.0,1.0,15.0,1.0,2.0,60.0,21.0,18.0,1.0,20.0,4.0,1.0,53.0,9.0,19.0,13.0,15.0,16.0,36.0,67.0,22.0,2.0,1.0,6.0,1.0,4.0,1.0,39.0,10.0,4.0,4.0,24.0,5.0,48.0,8.0,7.0,16.0,1.0,39.0,5.0,48.0,18.0,3.0,4.0,1.0,54.0,80.0,49.0,60.0,6.0,53.0,1.0,50.0,25.0,4.0,2.0,17.0,25.0,1.0,32.0,3.0,2.0,14.0,26.0,3.0,8.0,53.0,17.0,49.0,29.0,37.0,28.0,22.0,3.0,35.0,1.0,20.0,47.0,38.0,2.0,5.0,14.0,73.0,70.0,1.0,24.0,60.0,50.0,26.0,3.0,1.0,2.0,1.0,14.0,40.0,57.0,35.0,1.0,20.0,1.0,1.0,38.0,4.0,63.0,18.0,2.0,71.0,85.0,1.0,32.0,1.0,27.0,1.0,20.0,14.0,26.0,2.0,1.0,41.0,7.0,35.0,19.0,35.0,53.0,1.0,35.0,24.0,18.0,59.0,54.0,1.0,40.0,57.0,24.0,16.0,23.0,25.0,2.0,14.0,1.0,4.0,6.0,35.0,16.0,15.0,80.0,75.0,32.0,63.0,16.0,21.0,3.0,41.0,23.0,72.0,23.0,9.0,53.0,31.0,27.0,1.0,11.0,56.0,25.0,59.0,45.0,29.0,10.0,1.0,6.0,32.0,90.0,24.0,56.0,61.0,85.0,47.0,1.0,1.0,1.0,27.0,60.0,16.0,57.0,46.0,1.0,5.0,42.0,1.0,1.0,1.0,96.0,12.0,20.0,1.0,9.0,78.0,24.0,70.0,9.0,13.0,88.0,72.0,50.0,17.0,39.0,2.0,5.0,8.0,26.0,60.0,9.0,14.0,4.0,36.0,16.0,26.0,88.0,58.0,29.0,27.0,65.0,64.0,1.0,20.0,9.0,1.0,4.0,35.0,66.0,29.0,35.0,85.0,26.0,41.0,3.0,8.0,56.0,34.0,48.0,21.0,40.0,47.0,35.0,1.0,2.0,1.0,3.0,22.0,3.0,15.0,1.0,27.0,20.0,21.0,18.0,1.0,2.0,41.0,56.0,26.0,62.0,34.0,16.0,50.0,68.0,26.0,54.0,1.0,3.0,76.0,72.0,2.0,28.0,78.0,31.0,26.0,1.0,61.0,72.0,3.0,58.0,3.0,2.0,1.0,38.0,2.0,50.0,33.0,39.0,21.0,32.0,1.0,30.0,58.0,14.0,22.0,12.0,27.0,17.0,72.0,1.0,1.0,44.0,21.0,23.0,60.0,21.0,64.0,53.0,29.0,32.0,1.0,28.0,10.0,8.0,10.0,85.0,8.0,4.0,3.0,53.0,35.0,1.0,72.0,4.0,53.0,12.0,60.0,1.0,36.0,18.0,23.0,37.0,2.0,24.0,15.0,56.0,52.0,1.0,26.0,12.0,89.0,29.0,59.0,28.0,71.0,29.0,96.0,60.0,65.0,77.0,75.0,1.0,1.0,13.0,66.0,42.0,75.0,14.0,4.0,3.0,60.0,86.0,39.0,1.0,11.0,62.0,1.0,56.0,18.0,7.0,1.0,1.0,21.0,2.0,39.0,58.0,12.0,31.0,2.0,92.0,11.0,15.0,23.0,1.0,49.0,47.0,7.0,16.0,18.0,72.0,39.0,75.0,49.0,41.0,3.0,16.0,2.0,6.0,46.0,80.0,1.0,2.0,22.0,1.0,28.0,12.0,89.0,1.0,19.0,9.0,65.0,5.0,24.0,7.0,32.0,10.0,1.0,60.0,15.0,35.0,38.0,42.0,61.0,2.0,32.0,25.0,58.0,2.0,60.0,3.0,39.0,35.0,75.0,46.0,4.0,31.0,8.0,20.0,4.0,5.0,3.0,45.0,26.0,28.0,26.0,29.0,58.0,2.0,50.0,29.0,46.0,4.0,12.0,22.0,24.0,8.0,45.0,49.0,25.0,35.0,3.0,1.0,72.0,13.0,9.0,32.0,9.0,36.0,6.0,1.0,3.0,11.0,54.0,22.0,60.0,26.0,27.0,59.0,4.0,24.0,59.0,3.0,8.0,1.0,23.0,52.0,25.0,14.0,28.0,57.0,5.0,37.0,7.0,6.0,5.0,38.0,28.0,42.0,31.0,2.0,37.0,41.0,22.0,2.0,59.0,17.0,3.0,26.0,1.0,36.0,29.0,52.0,35.0,19.0,43.0,3.0,1.0,90.0,63.0,19.0,26.0,8.0,44.0,1.0,64.0,65.0,63.0,52.0,23.0,1.0,51.0,53.0,31.0,56.0,31.0,37.0,6.0,16.0,68.0,25.0,2.0,15.0,2.0,54.0,5.0,43.0,36.0,76.0,46.0,48.0,16.0,76.0,43.0,36.0,58.0,1.0,45.0,26.0,1.0,19.0,30.0,79.0,85.0,50.0,25.0,16.0,27.0,34.0,7.0,8.0,1.0,12.0,16.0,22.0,40.0,9.0,16.0,31.0,75.0,55.0,18.0,59.0,15.0,3.0,30.0,2.0,85.0,52.0,70.0,27.0,45.0,1.0,90.0,10.0,5.0,5.0,15.0,25.0,14.0,61.0,39.0,1.0,1.0,65.0,1.0,77.0,1.0,72.0,4.0,4.0,24.0,1.0,26.0,4.0,4.0,71.0,37.0,17.0,26.0,26.0,39.0,47.0,60.0,27.0,22.0,25.0,3.0,67.0,31.0,50.0,28.0,30.0,9.0,65.0,6.0,1.0,28.0,60.0,30.0,60.0,81.0,56.0,8.0,66.0,12.0,45.0,3.0,26.0,2.0,29.0,28.0,8.0,26.0,18.0,1.0,10.0,25.0,20.0,7.0,1.0,18.0,50.0,67.0,68.0,28.0,1.0,32.0,66.0,53.0,1.0,3.0,2.0,16.0,60.0,18.0,25.0,59.0,5.0,85.0,59.0,96.0,21.0,25.0,40.0,8.0,33.0,21.0,40.0,63.0,45.0,3.0,53.0,40.0,52.0,75.0,9.0,56.0,57.0,31.0,13.0,16.0,15.0,16.0,53.0,19.0,52.0,48.0,32.0,26.0,37.0,90.0,8.0,13.0,1.0,1.0,44.0,28.0,57.0,30.0,30.0,52.0,26.0,18.0,18.0,81.0,3.0,1.0,5.0,82.0,19.0,55.0,1.0,27.0,30.0,89.0,1.0,5.0,6.0,23.0,2.0,53.0,15.0,2.0,8.0,24.0,36.0,45.0,1.0,62.0,7.0,1.0,4.0,40.0,45.0,4.0,11.0,1.0,2.0,12.0,24.0,4.0,39.0,27.0,8.0,61.0,35.0,9.0,34.0,36.0,75.0,27.0,47.0,28.0,16.0,47.0,1.0,62.0,65.0,14.0,2.0,29.0,2.0,56.0,1.0,22.0,2.0,1.0,2.0,3.0,29.0,65.0,10.0,52.0,60.0,61.0,6.0,15.0,26.0,25.0,58.0,56.0,1.0,25.0,1.0,69.0,73.0,24.0,3.0,41.0,57.0,9.0,36.0,3.0,16.0,5.0,1.0,52.0,5.0,23.0,8.0,60.0,3.0,35.0,4.0,24.0,34.0,34.0,63.0,1.0,2.0,1.0,1.0,23.0,23.0,62.0,1.0,73.0,1.0,34.0,58.0,26.0,25.0,75.0,36.0,21.0,28.0,18.0,15.0,7.0,23.0,26.0,20.0,10.0,4.0,51.0,44.0,53.0,54.0,2.0,5.0,1.0,14.0,36.0,15.0,33.0,24.0,11.0,1.0,10.0,54.0,66.0,40.0,43.0,35.0,54.0,2.0,27.0,42.0,2.0,44.0,25.0,2.0,1.0,15.0,35.0,53.0,21.0,20.0,29.0,35.0,8.0,2.0,26.0,35.0,63.0,29.0,8.0,82.0,53.0,47.0,50.0,26.0,29.0,54.0,58.0,25.0,66.0,48.0,27.0,9.0,20.0,82.0,49.0,15.0,62.0,78.0,2.0,1.0,7.0,1.0,10.0,49.0,32.0,18.0,28.0,1.0,2.0,75.0,24.0,2.0,18.0,54.0,1.0,60.0,85.0,14.0,8.0,1.0,54.0,56.0,78.0,12.0,75.0,39.0,4.0,82.0,56.0,31.0,64.0,65.0,1.0,77.0,47.0,39.0,40.0,72.0,16.0,20.0,1.0,1.0,23.0,34.0,75.0,68.0,56.0,67.0,18.0,52.0,59.0,84.0,1.0,1.0,76.0,30.0,11.0,32.0,1.0,9.0,47.0,1.0,14.0,56.0,7.0,1.0,62.0,1.0,26.0,60.0,60.0,3.0,96.0,54.0,60.0,72.0,9.0,56.0,50.0,25.0,23.0,50.0,27.0,1.0,1.0,26.0,38.0,52.0,6.0,14.0,52.0,3.0,78.0,50.0,1.0,3.0,1.0,52.0,50.0,55.0,4.0,37.0,10.0,1.0,6.0,30.0,21.0,18.0,28.0,22.0,10.0,30.0,17.0,3.0,5.0,9.0,13.0,3.0,23.0,5.0,32.0,68.0,4.0,16.0,1.0,2.0,76.0,53.0,15.0,1.0,25.0,22.0,51.0,1.0,9.0,6.0,22.0,65.0,26.0,1.0,18.0,1.0,26.0,45.0,60.0,1.0,18.0,80.0,35.0,17.0,29.0,26.0,2.0,4.0,36.0,57.0,2.0,65.0,80.0,63.0,52.0,24.0,1.0,10.0,11.0,16.0,9.0,19.0,30.0,1.0,3.0,29.0,26.0,3.0,1.0,48.0,2.0,46.0,25.0,37.0,3.0,16.0,38.0,56.0,1.0,1.0,8.0,13.0,5.0,77.0,65.0,32.0,69.0,2.0,26.0,24.0,3.0,52.0,40.0,55.0,33.0,6.0,15.0,32.0,50.0,48.0,27.0,7.0,4.0,49.0,39.0,3.0,1.0,1.0,38.0,64.0,26.0,26.0,6.0,1.0,51.0,49.0,26.0,4.0,33.0,7.0,16.0,8.0,5.0,34.0,1.0,26.0,54.0,27.0,85.0,38.0,4.0,53.0,16.0,70.0,46.0,8.0,53.0,36.0,25.0,1.0,9.0,36.0,27.0,58.0,27.0,13.0,8.0,23.0,62.0,39.0,34.0,51.0,57.0,1.0,8.0,7.0,12.0,21.0,56.0,1.0,1.0,84.0,61.0,68.0,4.0,16.0,43.0,66.0,4.0,95.0,46.0,52.0,26.0,13.0,20.0,3.0,18.0,1.0,79.0,48.0,1.0,70.0,3.0,11.0,35.0,21.0,19.0,63.0,35.0,9.0,29.0,8.0,8.0,1.0,7.0,2.0,1.0,68.0,55.0,1.0,48.0,14.0,28.0,16.0,1.0,3.0,32.0,12.0,12.0,27.0,2.0,110.0,1.0,1.0,45.0,29.0,17.0,2.0,2.0,63.0,39.0,1.0,69.0,16.0,33.0,2.0,2.0,41.0,80.0,46.0,85.0,7.0,1.0,1.0,43.0,42.0,16.0,9.0,26.0,1.0,16.0,75.0,88.0,12.0,65.0,1.0,52.0,15.0,1.0,9.0,2.0,39.0,1.0,53.0,4.0,7.0,9.0,52.0,53.0,80.0,54.0,16.0,53.0,15.0,67.0,4.0,16.0,1.0,16.0,65.0,1.0,90.0,42.0,1.0,28.0,16.0,32.0,49.0,52.0,33.0,63.0,35.0,1.0,26.0,4.0,59.0,49.0,20.0,4.0,42.0,29.0,1.0,32.0,3.0,30.0,1.0,26.0,78.0,27.0,34.0,46.0,1.0,51.0,30.0,34.0,3.0,2.0,63.0,1.0,25.0,57.0,23.0,18.0,30.0,21.0,36.0,40.0,2.0,58.0,20.0,6.0,10.0,21.0,22.0,50.0,4.0,26.0,43.0,3.0,33.0,27.0,3.0,25.0,56.0,39.0,31.0,16.0,1.0,9.0,75.0,30.0,85.0,21.0,27.0,80.0,3.0,52.0,39.0,37.0,10.0,5.0,7.0,49.0,1.0,32.0,26.0,2.0,8.0,2.0,69.0,50.0,15.0,22.0,3.0,1.0,38.0,45.0,34.0,20.0,5.0,54.0,22.0,22.0,62.0,3.0,27.0,1.0,48.0,15.0,59.0,1.0,67.0,28.0,15.0,28.0,2.0,43.0,22.0,3.0,40.0,30.0,88.0,3.0,53.0,23.0,16.0,61.0,85.0,26.0,1.0,30.0,36.0,11.0,46.0,16.0,60.0,17.0,1.0,60.0,35.0,9.0,9.0,22.0,34.0,5.0,9.0,17.0,89.0,6.0,56.0,2.0,1.0,9.0,21.0,1.0,3.0,50.0,24.0,22.0,18.0,2.0,16.0,40.0,18.0,33.0,18.0,37.0,52.0,4.0,21.0,8.0,9.0,52.0,60.0,75.0,1.0,4.0,1.0,40.0,4.0,1.0,1.0,21.0,70.0,50.0,80.0,27.0,7.0,36.0,26.0,53.0,54.0,79.0,1.0,37.0,16.0,2.0,40.0,27.0,36.0,70.0,1.0,14.0,53.0,9.0,60.0,4.0,5.0,21.0,1.0,9.0,67.0,38.0,53.0,29.0,70.0,6.0,22.0,47.0,60.0,2.0,21.0,92.0,55.0,7.0,4.0,31.0,4.0,60.0,1.0,53.0,4.0,62.0,57.0,29.0,4.0,19.0,9.0,18.0,1.0,74.0,63.0,32.0,5.0,45.0,12.0,1.0,85.0,16.0,3.0,33.0,52.0,1.0,50.0,14.0,29.0,4.0,7.0,60.0,26.0,10.0,32.0,75.0,65.0,27.0,3.0,75.0,31.0,1.0,1.0,73.0,3.0,26.0,1.0,8.0,4.0,1.0,67.0,25.0,35.0,1.0,4.0,45.0,88.0,4.0,1.0,15.0,22.0,26.0,1.0,3.0,57.0,22.0,65.0,15.0,7.0,58.0,62.0,47.0,18.0,36.0,7.0,5.0,26.0,3.0,45.0,40.0,52.0,1.0,56.0,49.0,27.0,32.0,1.0,2.0,29.0,65.0,59.0,54.0,54.0,7.0,39.0,70.0,24.0,23.0,24.0,22.0,5.0,30.0,56.0,1.0,65.0,56.0,15.0,9.0,1.0,74.0,23.0,56.0,1.0,38.0,40.0,52.0,52.0,90.0,23.0,53.0,47.0,32.0,2.0,62.0,32.0,90.0,51.0,1.0,58.0,9.0,1.0,77.0,5.0,34.0,4.0,24.0,2.0,57.0,4.0,37.0,35.0,1.0,15.0,29.0,30.0,8.0,3.0,24.0,14.0,85.0,72.0,29.0,9.0,47.0,38.0,50.0,1.0,45.0,2.0,25.0,43.0,26.0,44.0,9.0,4.0,49.0,1.0,21.0,2.0,1.0,80.0,19.0,26.0,67.0,23.0,25.0,1.0,1.0,6.0,28.0,37.0,16.0,28.0,26.0,40.0,67.0,5.0,1.0,49.0,8.0,66.0,25.0,6.0,1.0,72.0,1.0,4.0,16.0,36.0,24.0,50.0,58.0,5.0,80.0,1.0,2.0,41.0,45.0,1.0,30.0,66.0,60.0,29.0,31.0,68.0,1.0,64.0,8.0,1.0,12.0,35.0,31.0,85.0,60.0,64.0,27.0,15.0,2.0,1.0,16.0,35.0,6.0,28.0,27.0,74.0,55.0,25.0,1.0,46.0,74.0,42.0,2.0,6.0,1.0,34.0,65.0,24.0,26.0,60.0,100.0,85.0,1.0,10.0,38.0,16.0,5.0,41.0,52.0,35.0,65.0,10.0,90.0,2.0,43.0,46.0,58.0,52.0,73.0,12.0,1.0,44.0,85.0,58.0,46.0,10.0,13.0,25.0,18.0,1.0,25.0,17.0,56.0,78.0,31.0,49.0,1.0,18.0,52.0,72.0,35.0,12.0,30.0,28.0,1.0,22.0,15.0,56.0,34.0,43.0,2.0,39.0,47.0,58.0,5.0,69.0,69.0,32.0,32.0,4.0,20.0,41.0,1.0,10.0,6.0,8.0,65.0,56.0,2.0,58.0,9.0,70.0,2.0,68.0,15.0,55.0,8.0,1.0,14.0,92.0,15.0,68.0,29.0,1.0,52.0,99.0,26.0,29.0,1.0,24.0,10.0,1.0,3.0,26.0,75.0,60.0,1.0,10.0,21.0,48.0,54.0,6.0,54.0,22.0,56.0,26.0,7.0,2.0,27.0,1.0,32.0,6.0,3.0,5.0,55.0,7.0,23.0,19.0,70.0,24.0,4.0,28.0,5.0,7.0,22.0,29.0,2.0,24.0,9.0,24.0,87.0,62.0,41.0,2.0,47.0,26.0,2.0,4.0,1.0,71.0,76.0,4.0,1.0,78.0,3.0,41.0,1.0,10.0,82.0,9.0,13.0,28.0,55.0,25.0,49.0,26.0,61.0,1.0,25.0,87.0,19.0,34.0,21.0,61.0,15.0,3.0,2.0,75.0,22.0,15.0,29.0,1.0,27.0,4.0,54.0,21.0,63.0,15.0,27.0,18.0,31.0,16.0,85.0,29.0,21.0,88.0,72.0,37.0,67.0,16.0,2.0,1.0,1.0,51.0,2.0,29.0,2.0,1.0,16.0,37.0,24.0,56.0,46.0,30.0,16.0,8.0,1.0,7.0,5.0,2.0,46.0,28.0,78.0,37.0,4.0,32.0,2.0,54.0,28.0,62.0,5.0,72.0,6.0,42.0,2.0,85.0,24.0,17.0,45.0,1.0,96.0,1.0,1.0,58.0,58.0,5.0,17.0,29.0,1.0,1.0,8.0,1.0,75.0,62.0,4.0,8.0,88.0,36.0,85.0,4.0,1.0,9.0,42.0,46.0,75.0,12.0,85.0,85.0,1.0,53.0,36.0,19.0,34.0,49.0,54.0,7.0,2.0,50.0,66.0,41.0,6.0,50.0,27.0,80.0,22.0,22.0,16.0,68.0,33.0,56.0,1.0,3.0,1.0,13.0,2.0,8.0,41.0,5.0,3.0,1.0,32.0,18.0,10.0,5.0,56.0,8.0,17.0,10.0,17.0,1.0,27.0,2.0,8.0,24.0,2.0,1.0,32.0,59.0,1.0,68.0,11.0,32.0,53.0,10.0,69.0,28.0,1.0,7.0,49.0,14.0,32.0,24.0,38.0,33.0,43.0,1.0,22.0,51.0,14.0,1.0,1.0,6.0,1.0,49.0,28.0,52.0,14.0,9.0,24.0,39.0,6.0,32.0,24.0,27.0,1.0,41.0,2.0,60.0,20.0,56.0,1.0,2.0,16.0,1.0,52.0,28.0,58.0,8.0,82.0,46.0,3.0,4.0,35.0,54.0,18.0,22.0,23.0,4.0,68.0,14.0,1.0,29.0,22.0,54.0,3.0,8.0,56.0,63.0,1.0,14.0,31.0,21.0,78.0,90.0,1.0,4.0,56.0,21.0,58.0,8.0,12.0,85.0,32.0,5.0,57.0,30.0,53.0,1.0,18.0,35.0,49.0,35.0,1.0,2.0,57.0,69.0,21.0,85.0,46.0,66.0,49.0,54.0,14.0,2.0,1.0,31.0,4.0,24.0,44.0,4.0,60.0,67.0,54.0,2.0,15.0,49.0,1.0,53.0,24.0,8.0,11.0,4.0,7.0,76.0,10.0,22.0,1.0,2.0,55.0,38.0,65.0,28.0,32.0,64.0,20.0,22.0,9.0,8.0,13.0,75.0,40.0,38.0,8.0,25.0,8.0,28.0,24.0,18.0,1.0,9.0,70.0,49.0,2.0,1.0,85.0,9.0,25.0,2.0,11.0,39.0,58.0,53.0,22.0,49.0,51.0,51.0,38.0,65.0,71.0,1.0,1.0,3.0,76.0,85.0,6.0,33.0,16.0,69.0,35.0,2.0,60.0,1.0,31.0,2.0,33.0,4.0,1.0,5.0,68.0,6.0,60.0,2.0,29.0,4.0,3.0,75.0,35.0,4.0,18.0,16.0,32.0,1.0,75.0,27.0,1.0,29.0,47.0,1.0,2.0,1.0,10.0,72.0,24.0,26.0,37.0,2.0,39.0,8.0,4.0,2.0,60.0,86.0,70.0,72.0,3.0,76.0,40.0,17.0,25.0,7.0,12.0,4.0,29.0,35.0,39.0,29.0,41.0,45.0,2.0,5.0,82.0,54.0,45.0,10.0,14.0,1.0,1.0,42.0,49.0,1.0,26.0,29.0,2.0,1.0,65.0,31.0,68.0,16.0,86.0,75.0,65.0,40.0,82.0,23.0,16.0,64.0,3.0,34.0,58.0,29.0,44.0,2.0,45.0,75.0,3.0,17.0,28.0,8.0,84.0,53.0,3.0,2.0,70.0,2.0,72.0,50.0,40.0,53.0,5.0,76.0,45.0,76.0,75.0,24.0,25.0,29.0,20.0,3.0,7.0,12.0,56.0,7.0,2.0,3.0,38.0,66.0,86.0,3.0,82.0,23.0,25.0,27.0,30.0,2.0,62.0,56.0,16.0,68.0,25.0,7.0,56.0,44.0,28.0,4.0,18.0,15.0,45.0,40.0,68.0,41.0,8.0,4.0,32.0,8.0,54.0,61.0,32.0,66.0,5.0,59.0,65.0,9.0,1.0,32.0,24.0,88.0,44.0,1.0,9.0,18.0,17.0,12.0,8.0,4.0,53.0,13.0,34.0,54.0,10.0,8.0,57.0,24.0,9.0,39.0,7.0,53.0,9.0,1.0,32.0,24.0,1.0,1.0,46.0,2.0,73.0,1.0,10.0,62.0,2.0,24.0,32.0,58.0,15.0,28.0,35.0,29.0,25.0,10.0,14.0,36.0,36.0,85.0,16.0,25.0,37.0,5.0,18.0,80.0,47.0,2.0,2.0,63.0,90.0,27.0,8.0,1.0,1.0,5.0,22.0,3.0,21.0,50.0,20.0,33.0,26.0,4.0,6.0,26.0,18.0,2.0,60.0,22.0,1.0,47.0,3.0,40.0,23.0,75.0,50.0,4.0,1.0,31.0,56.0,92.0,18.0,1.0,54.0,4.0,39.0,15.0,3.0,22.0,32.0,13.0,85.0,18.0,4.0,69.0,5.0,4.0,18.0,74.0,60.0],\"xaxis\":\"x\",\"yaxis\":\"y\",\"type\":\"histogram\"}],                        {\"template\":{\"data\":{\"bar\":[{\"error_x\":{\"color\":\"#2a3f5f\"},\"error_y\":{\"color\":\"#2a3f5f\"},\"marker\":{\"line\":{\"color\":\"#E5ECF6\",\"width\":0.5},\"pattern\":{\"fillmode\":\"overlay\",\"size\":10,\"solidity\":0.2}},\"type\":\"bar\"}],\"barpolar\":[{\"marker\":{\"line\":{\"color\":\"#E5ECF6\",\"width\":0.5},\"pattern\":{\"fillmode\":\"overlay\",\"size\":10,\"solidity\":0.2}},\"type\":\"barpolar\"}],\"carpet\":[{\"aaxis\":{\"endlinecolor\":\"#2a3f5f\",\"gridcolor\":\"white\",\"linecolor\":\"white\",\"minorgridcolor\":\"white\",\"startlinecolor\":\"#2a3f5f\"},\"baxis\":{\"endlinecolor\":\"#2a3f5f\",\"gridcolor\":\"white\",\"linecolor\":\"white\",\"minorgridcolor\":\"white\",\"startlinecolor\":\"#2a3f5f\"},\"type\":\"carpet\"}],\"choropleth\":[{\"colorbar\":{\"outlinewidth\":0,\"ticks\":\"\"},\"type\":\"choropleth\"}],\"contour\":[{\"colorbar\":{\"outlinewidth\":0,\"ticks\":\"\"},\"colorscale\":[[0.0,\"#0d0887\"],[0.1111111111111111,\"#46039f\"],[0.2222222222222222,\"#7201a8\"],[0.3333333333333333,\"#9c179e\"],[0.4444444444444444,\"#bd3786\"],[0.5555555555555556,\"#d8576b\"],[0.6666666666666666,\"#ed7953\"],[0.7777777777777778,\"#fb9f3a\"],[0.8888888888888888,\"#fdca26\"],[1.0,\"#f0f921\"]],\"type\":\"contour\"}],\"contourcarpet\":[{\"colorbar\":{\"outlinewidth\":0,\"ticks\":\"\"},\"type\":\"contourcarpet\"}],\"heatmap\":[{\"colorbar\":{\"outlinewidth\":0,\"ticks\":\"\"},\"colorscale\":[[0.0,\"#0d0887\"],[0.1111111111111111,\"#46039f\"],[0.2222222222222222,\"#7201a8\"],[0.3333333333333333,\"#9c179e\"],[0.4444444444444444,\"#bd3786\"],[0.5555555555555556,\"#d8576b\"],[0.6666666666666666,\"#ed7953\"],[0.7777777777777778,\"#fb9f3a\"],[0.8888888888888888,\"#fdca26\"],[1.0,\"#f0f921\"]],\"type\":\"heatmap\"}],\"heatmapgl\":[{\"colorbar\":{\"outlinewidth\":0,\"ticks\":\"\"},\"colorscale\":[[0.0,\"#0d0887\"],[0.1111111111111111,\"#46039f\"],[0.2222222222222222,\"#7201a8\"],[0.3333333333333333,\"#9c179e\"],[0.4444444444444444,\"#bd3786\"],[0.5555555555555556,\"#d8576b\"],[0.6666666666666666,\"#ed7953\"],[0.7777777777777778,\"#fb9f3a\"],[0.8888888888888888,\"#fdca26\"],[1.0,\"#f0f921\"]],\"type\":\"heatmapgl\"}],\"histogram\":[{\"marker\":{\"pattern\":{\"fillmode\":\"overlay\",\"size\":10,\"solidity\":0.2}},\"type\":\"histogram\"}],\"histogram2d\":[{\"colorbar\":{\"outlinewidth\":0,\"ticks\":\"\"},\"colorscale\":[[0.0,\"#0d0887\"],[0.1111111111111111,\"#46039f\"],[0.2222222222222222,\"#7201a8\"],[0.3333333333333333,\"#9c179e\"],[0.4444444444444444,\"#bd3786\"],[0.5555555555555556,\"#d8576b\"],[0.6666666666666666,\"#ed7953\"],[0.7777777777777778,\"#fb9f3a\"],[0.8888888888888888,\"#fdca26\"],[1.0,\"#f0f921\"]],\"type\":\"histogram2d\"}],\"histogram2dcontour\":[{\"colorbar\":{\"outlinewidth\":0,\"ticks\":\"\"},\"colorscale\":[[0.0,\"#0d0887\"],[0.1111111111111111,\"#46039f\"],[0.2222222222222222,\"#7201a8\"],[0.3333333333333333,\"#9c179e\"],[0.4444444444444444,\"#bd3786\"],[0.5555555555555556,\"#d8576b\"],[0.6666666666666666,\"#ed7953\"],[0.7777777777777778,\"#fb9f3a\"],[0.8888888888888888,\"#fdca26\"],[1.0,\"#f0f921\"]],\"type\":\"histogram2dcontour\"}],\"mesh3d\":[{\"colorbar\":{\"outlinewidth\":0,\"ticks\":\"\"},\"type\":\"mesh3d\"}],\"parcoords\":[{\"line\":{\"colorbar\":{\"outlinewidth\":0,\"ticks\":\"\"}},\"type\":\"parcoords\"}],\"pie\":[{\"automargin\":true,\"type\":\"pie\"}],\"scatter\":[{\"marker\":{\"colorbar\":{\"outlinewidth\":0,\"ticks\":\"\"}},\"type\":\"scatter\"}],\"scatter3d\":[{\"line\":{\"colorbar\":{\"outlinewidth\":0,\"ticks\":\"\"}},\"marker\":{\"colorbar\":{\"outlinewidth\":0,\"ticks\":\"\"}},\"type\":\"scatter3d\"}],\"scattercarpet\":[{\"marker\":{\"colorbar\":{\"outlinewidth\":0,\"ticks\":\"\"}},\"type\":\"scattercarpet\"}],\"scattergeo\":[{\"marker\":{\"colorbar\":{\"outlinewidth\":0,\"ticks\":\"\"}},\"type\":\"scattergeo\"}],\"scattergl\":[{\"marker\":{\"colorbar\":{\"outlinewidth\":0,\"ticks\":\"\"}},\"type\":\"scattergl\"}],\"scattermapbox\":[{\"marker\":{\"colorbar\":{\"outlinewidth\":0,\"ticks\":\"\"}},\"type\":\"scattermapbox\"}],\"scatterpolar\":[{\"marker\":{\"colorbar\":{\"outlinewidth\":0,\"ticks\":\"\"}},\"type\":\"scatterpolar\"}],\"scatterpolargl\":[{\"marker\":{\"colorbar\":{\"outlinewidth\":0,\"ticks\":\"\"}},\"type\":\"scatterpolargl\"}],\"scatterternary\":[{\"marker\":{\"colorbar\":{\"outlinewidth\":0,\"ticks\":\"\"}},\"type\":\"scatterternary\"}],\"surface\":[{\"colorbar\":{\"outlinewidth\":0,\"ticks\":\"\"},\"colorscale\":[[0.0,\"#0d0887\"],[0.1111111111111111,\"#46039f\"],[0.2222222222222222,\"#7201a8\"],[0.3333333333333333,\"#9c179e\"],[0.4444444444444444,\"#bd3786\"],[0.5555555555555556,\"#d8576b\"],[0.6666666666666666,\"#ed7953\"],[0.7777777777777778,\"#fb9f3a\"],[0.8888888888888888,\"#fdca26\"],[1.0,\"#f0f921\"]],\"type\":\"surface\"}],\"table\":[{\"cells\":{\"fill\":{\"color\":\"#EBF0F8\"},\"line\":{\"color\":\"white\"}},\"header\":{\"fill\":{\"color\":\"#C8D4E3\"},\"line\":{\"color\":\"white\"}},\"type\":\"table\"}]},\"layout\":{\"annotationdefaults\":{\"arrowcolor\":\"#2a3f5f\",\"arrowhead\":0,\"arrowwidth\":1},\"autotypenumbers\":\"strict\",\"coloraxis\":{\"colorbar\":{\"outlinewidth\":0,\"ticks\":\"\"}},\"colorscale\":{\"diverging\":[[0,\"#8e0152\"],[0.1,\"#c51b7d\"],[0.2,\"#de77ae\"],[0.3,\"#f1b6da\"],[0.4,\"#fde0ef\"],[0.5,\"#f7f7f7\"],[0.6,\"#e6f5d0\"],[0.7,\"#b8e186\"],[0.8,\"#7fbc41\"],[0.9,\"#4d9221\"],[1,\"#276419\"]],\"sequential\":[[0.0,\"#0d0887\"],[0.1111111111111111,\"#46039f\"],[0.2222222222222222,\"#7201a8\"],[0.3333333333333333,\"#9c179e\"],[0.4444444444444444,\"#bd3786\"],[0.5555555555555556,\"#d8576b\"],[0.6666666666666666,\"#ed7953\"],[0.7777777777777778,\"#fb9f3a\"],[0.8888888888888888,\"#fdca26\"],[1.0,\"#f0f921\"]],\"sequentialminus\":[[0.0,\"#0d0887\"],[0.1111111111111111,\"#46039f\"],[0.2222222222222222,\"#7201a8\"],[0.3333333333333333,\"#9c179e\"],[0.4444444444444444,\"#bd3786\"],[0.5555555555555556,\"#d8576b\"],[0.6666666666666666,\"#ed7953\"],[0.7777777777777778,\"#fb9f3a\"],[0.8888888888888888,\"#fdca26\"],[1.0,\"#f0f921\"]]},\"colorway\":[\"#636efa\",\"#EF553B\",\"#00cc96\",\"#ab63fa\",\"#FFA15A\",\"#19d3f3\",\"#FF6692\",\"#B6E880\",\"#FF97FF\",\"#FECB52\"],\"font\":{\"color\":\"#2a3f5f\"},\"geo\":{\"bgcolor\":\"white\",\"lakecolor\":\"white\",\"landcolor\":\"#E5ECF6\",\"showlakes\":true,\"showland\":true,\"subunitcolor\":\"white\"},\"hoverlabel\":{\"align\":\"left\"},\"hovermode\":\"closest\",\"mapbox\":{\"style\":\"light\"},\"paper_bgcolor\":\"white\",\"plot_bgcolor\":\"#E5ECF6\",\"polar\":{\"angularaxis\":{\"gridcolor\":\"white\",\"linecolor\":\"white\",\"ticks\":\"\"},\"bgcolor\":\"#E5ECF6\",\"radialaxis\":{\"gridcolor\":\"white\",\"linecolor\":\"white\",\"ticks\":\"\"}},\"scene\":{\"xaxis\":{\"backgroundcolor\":\"#E5ECF6\",\"gridcolor\":\"white\",\"gridwidth\":2,\"linecolor\":\"white\",\"showbackground\":true,\"ticks\":\"\",\"zerolinecolor\":\"white\"},\"yaxis\":{\"backgroundcolor\":\"#E5ECF6\",\"gridcolor\":\"white\",\"gridwidth\":2,\"linecolor\":\"white\",\"showbackground\":true,\"ticks\":\"\",\"zerolinecolor\":\"white\"},\"zaxis\":{\"backgroundcolor\":\"#E5ECF6\",\"gridcolor\":\"white\",\"gridwidth\":2,\"linecolor\":\"white\",\"showbackground\":true,\"ticks\":\"\",\"zerolinecolor\":\"white\"}},\"shapedefaults\":{\"line\":{\"color\":\"#2a3f5f\"}},\"ternary\":{\"aaxis\":{\"gridcolor\":\"white\",\"linecolor\":\"white\",\"ticks\":\"\"},\"baxis\":{\"gridcolor\":\"white\",\"linecolor\":\"white\",\"ticks\":\"\"},\"bgcolor\":\"#E5ECF6\",\"caxis\":{\"gridcolor\":\"white\",\"linecolor\":\"white\",\"ticks\":\"\"}},\"title\":{\"x\":0.05},\"xaxis\":{\"automargin\":true,\"gridcolor\":\"white\",\"linecolor\":\"white\",\"ticks\":\"\",\"title\":{\"standoff\":15},\"zerolinecolor\":\"white\",\"zerolinewidth\":2},\"yaxis\":{\"automargin\":true,\"gridcolor\":\"white\",\"linecolor\":\"white\",\"ticks\":\"\",\"title\":{\"standoff\":15},\"zerolinecolor\":\"white\",\"zerolinewidth\":2}}},\"xaxis\":{\"anchor\":\"y\",\"domain\":[0.0,1.0],\"title\":{\"text\":\"age\"}},\"yaxis\":{\"anchor\":\"x\",\"domain\":[0.0,1.0],\"title\":{\"text\":\"count\"}},\"legend\":{\"tracegroupgap\":0},\"margin\":{\"t\":60},\"barmode\":\"relative\",\"title\":{\"text\":\"Age distribution\"}},                        {\"responsive\": true}                    ).then(function(){\n",
       "                            \n",
       "var gd = document.getElementById('495c0172-52ac-4e22-aca7-70dc578a3d82');\n",
       "var x = new MutationObserver(function (mutations, observer) {{\n",
       "        var display = window.getComputedStyle(gd).display;\n",
       "        if (!display || display === 'none') {{\n",
       "            console.log([gd, 'removed!']);\n",
       "            Plotly.purge(gd);\n",
       "            observer.disconnect();\n",
       "        }}\n",
       "}});\n",
       "\n",
       "// Listen for the removal of the full notebook cells\n",
       "var notebookContainer = gd.closest('#notebook-container');\n",
       "if (notebookContainer) {{\n",
       "    x.observe(notebookContainer, {childList: true});\n",
       "}}\n",
       "\n",
       "// Listen for the clearing of the current output cell\n",
       "var outputEl = gd.closest('.output');\n",
       "if (outputEl) {{\n",
       "    x.observe(outputEl, {childList: true});\n",
       "}}\n",
       "\n",
       "                        })                };                            </script>        </div>\n",
       "</body>\n",
       "</html>"
      ]
     },
     "metadata": {},
     "output_type": "display_data"
    }
   ],
   "source": [
    "import plotly.express as px\n",
    "fig = px.histogram(df, x=\"age\", nbins=20)\n",
    "fig.update_layout(title_text='Age distribution')\n",
    "fig.show()"
   ]
  },
  {
   "cell_type": "markdown",
   "metadata": {
    "id": "5GdurtxyJ6F2"
   },
   "source": [
    "Age distribution with pie chart"
   ]
  },
  {
   "cell_type": "code",
   "execution_count": null,
   "metadata": {
    "colab": {
     "base_uri": "https://localhost:8080/",
     "height": 542
    },
    "id": "W0mW7tIKIo8v",
    "outputId": "b0f065a6-da92-4505-f458-ed3a4fc8bd08"
   },
   "outputs": [
    {
     "data": {
      "text/html": [
       "<html>\n",
       "<head><meta charset=\"utf-8\" /></head>\n",
       "<body>\n",
       "    <div>            <script src=\"https://cdnjs.cloudflare.com/ajax/libs/mathjax/2.7.5/MathJax.js?config=TeX-AMS-MML_SVG\"></script><script type=\"text/javascript\">if (window.MathJax) {MathJax.Hub.Config({SVG: {font: \"STIX-Web\"}});}</script>                <script type=\"text/javascript\">window.PlotlyConfig = {MathJaxConfig: 'local'};</script>\n",
       "        <script src=\"https://cdn.plot.ly/plotly-2.8.3.min.js\"></script>                <div id=\"1d643667-88f8-4e16-baf6-9722fca272d9\" class=\"plotly-graph-div\" style=\"height:525px; width:100%;\"></div>            <script type=\"text/javascript\">                                    window.PLOTLYENV=window.PLOTLYENV || {};                                    if (document.getElementById(\"1d643667-88f8-4e16-baf6-9722fca272d9\")) {                    Plotly.newPlot(                        \"1d643667-88f8-4e16-baf6-9722fca272d9\",                        [{\"hole\":0.3,\"labels\":[\"<10\",\"40-60\",\"20-30\",\"10-20\",\"30-40\",\"60-80\",\"80+\"],\"values\":[3086,1665,1523,1181,1010,967,346],\"type\":\"pie\"}],                        {\"template\":{\"data\":{\"bar\":[{\"error_x\":{\"color\":\"#2a3f5f\"},\"error_y\":{\"color\":\"#2a3f5f\"},\"marker\":{\"line\":{\"color\":\"#E5ECF6\",\"width\":0.5},\"pattern\":{\"fillmode\":\"overlay\",\"size\":10,\"solidity\":0.2}},\"type\":\"bar\"}],\"barpolar\":[{\"marker\":{\"line\":{\"color\":\"#E5ECF6\",\"width\":0.5},\"pattern\":{\"fillmode\":\"overlay\",\"size\":10,\"solidity\":0.2}},\"type\":\"barpolar\"}],\"carpet\":[{\"aaxis\":{\"endlinecolor\":\"#2a3f5f\",\"gridcolor\":\"white\",\"linecolor\":\"white\",\"minorgridcolor\":\"white\",\"startlinecolor\":\"#2a3f5f\"},\"baxis\":{\"endlinecolor\":\"#2a3f5f\",\"gridcolor\":\"white\",\"linecolor\":\"white\",\"minorgridcolor\":\"white\",\"startlinecolor\":\"#2a3f5f\"},\"type\":\"carpet\"}],\"choropleth\":[{\"colorbar\":{\"outlinewidth\":0,\"ticks\":\"\"},\"type\":\"choropleth\"}],\"contour\":[{\"colorbar\":{\"outlinewidth\":0,\"ticks\":\"\"},\"colorscale\":[[0.0,\"#0d0887\"],[0.1111111111111111,\"#46039f\"],[0.2222222222222222,\"#7201a8\"],[0.3333333333333333,\"#9c179e\"],[0.4444444444444444,\"#bd3786\"],[0.5555555555555556,\"#d8576b\"],[0.6666666666666666,\"#ed7953\"],[0.7777777777777778,\"#fb9f3a\"],[0.8888888888888888,\"#fdca26\"],[1.0,\"#f0f921\"]],\"type\":\"contour\"}],\"contourcarpet\":[{\"colorbar\":{\"outlinewidth\":0,\"ticks\":\"\"},\"type\":\"contourcarpet\"}],\"heatmap\":[{\"colorbar\":{\"outlinewidth\":0,\"ticks\":\"\"},\"colorscale\":[[0.0,\"#0d0887\"],[0.1111111111111111,\"#46039f\"],[0.2222222222222222,\"#7201a8\"],[0.3333333333333333,\"#9c179e\"],[0.4444444444444444,\"#bd3786\"],[0.5555555555555556,\"#d8576b\"],[0.6666666666666666,\"#ed7953\"],[0.7777777777777778,\"#fb9f3a\"],[0.8888888888888888,\"#fdca26\"],[1.0,\"#f0f921\"]],\"type\":\"heatmap\"}],\"heatmapgl\":[{\"colorbar\":{\"outlinewidth\":0,\"ticks\":\"\"},\"colorscale\":[[0.0,\"#0d0887\"],[0.1111111111111111,\"#46039f\"],[0.2222222222222222,\"#7201a8\"],[0.3333333333333333,\"#9c179e\"],[0.4444444444444444,\"#bd3786\"],[0.5555555555555556,\"#d8576b\"],[0.6666666666666666,\"#ed7953\"],[0.7777777777777778,\"#fb9f3a\"],[0.8888888888888888,\"#fdca26\"],[1.0,\"#f0f921\"]],\"type\":\"heatmapgl\"}],\"histogram\":[{\"marker\":{\"pattern\":{\"fillmode\":\"overlay\",\"size\":10,\"solidity\":0.2}},\"type\":\"histogram\"}],\"histogram2d\":[{\"colorbar\":{\"outlinewidth\":0,\"ticks\":\"\"},\"colorscale\":[[0.0,\"#0d0887\"],[0.1111111111111111,\"#46039f\"],[0.2222222222222222,\"#7201a8\"],[0.3333333333333333,\"#9c179e\"],[0.4444444444444444,\"#bd3786\"],[0.5555555555555556,\"#d8576b\"],[0.6666666666666666,\"#ed7953\"],[0.7777777777777778,\"#fb9f3a\"],[0.8888888888888888,\"#fdca26\"],[1.0,\"#f0f921\"]],\"type\":\"histogram2d\"}],\"histogram2dcontour\":[{\"colorbar\":{\"outlinewidth\":0,\"ticks\":\"\"},\"colorscale\":[[0.0,\"#0d0887\"],[0.1111111111111111,\"#46039f\"],[0.2222222222222222,\"#7201a8\"],[0.3333333333333333,\"#9c179e\"],[0.4444444444444444,\"#bd3786\"],[0.5555555555555556,\"#d8576b\"],[0.6666666666666666,\"#ed7953\"],[0.7777777777777778,\"#fb9f3a\"],[0.8888888888888888,\"#fdca26\"],[1.0,\"#f0f921\"]],\"type\":\"histogram2dcontour\"}],\"mesh3d\":[{\"colorbar\":{\"outlinewidth\":0,\"ticks\":\"\"},\"type\":\"mesh3d\"}],\"parcoords\":[{\"line\":{\"colorbar\":{\"outlinewidth\":0,\"ticks\":\"\"}},\"type\":\"parcoords\"}],\"pie\":[{\"automargin\":true,\"type\":\"pie\"}],\"scatter\":[{\"marker\":{\"colorbar\":{\"outlinewidth\":0,\"ticks\":\"\"}},\"type\":\"scatter\"}],\"scatter3d\":[{\"line\":{\"colorbar\":{\"outlinewidth\":0,\"ticks\":\"\"}},\"marker\":{\"colorbar\":{\"outlinewidth\":0,\"ticks\":\"\"}},\"type\":\"scatter3d\"}],\"scattercarpet\":[{\"marker\":{\"colorbar\":{\"outlinewidth\":0,\"ticks\":\"\"}},\"type\":\"scattercarpet\"}],\"scattergeo\":[{\"marker\":{\"colorbar\":{\"outlinewidth\":0,\"ticks\":\"\"}},\"type\":\"scattergeo\"}],\"scattergl\":[{\"marker\":{\"colorbar\":{\"outlinewidth\":0,\"ticks\":\"\"}},\"type\":\"scattergl\"}],\"scattermapbox\":[{\"marker\":{\"colorbar\":{\"outlinewidth\":0,\"ticks\":\"\"}},\"type\":\"scattermapbox\"}],\"scatterpolar\":[{\"marker\":{\"colorbar\":{\"outlinewidth\":0,\"ticks\":\"\"}},\"type\":\"scatterpolar\"}],\"scatterpolargl\":[{\"marker\":{\"colorbar\":{\"outlinewidth\":0,\"ticks\":\"\"}},\"type\":\"scatterpolargl\"}],\"scatterternary\":[{\"marker\":{\"colorbar\":{\"outlinewidth\":0,\"ticks\":\"\"}},\"type\":\"scatterternary\"}],\"surface\":[{\"colorbar\":{\"outlinewidth\":0,\"ticks\":\"\"},\"colorscale\":[[0.0,\"#0d0887\"],[0.1111111111111111,\"#46039f\"],[0.2222222222222222,\"#7201a8\"],[0.3333333333333333,\"#9c179e\"],[0.4444444444444444,\"#bd3786\"],[0.5555555555555556,\"#d8576b\"],[0.6666666666666666,\"#ed7953\"],[0.7777777777777778,\"#fb9f3a\"],[0.8888888888888888,\"#fdca26\"],[1.0,\"#f0f921\"]],\"type\":\"surface\"}],\"table\":[{\"cells\":{\"fill\":{\"color\":\"#EBF0F8\"},\"line\":{\"color\":\"white\"}},\"header\":{\"fill\":{\"color\":\"#C8D4E3\"},\"line\":{\"color\":\"white\"}},\"type\":\"table\"}]},\"layout\":{\"annotationdefaults\":{\"arrowcolor\":\"#2a3f5f\",\"arrowhead\":0,\"arrowwidth\":1},\"autotypenumbers\":\"strict\",\"coloraxis\":{\"colorbar\":{\"outlinewidth\":0,\"ticks\":\"\"}},\"colorscale\":{\"diverging\":[[0,\"#8e0152\"],[0.1,\"#c51b7d\"],[0.2,\"#de77ae\"],[0.3,\"#f1b6da\"],[0.4,\"#fde0ef\"],[0.5,\"#f7f7f7\"],[0.6,\"#e6f5d0\"],[0.7,\"#b8e186\"],[0.8,\"#7fbc41\"],[0.9,\"#4d9221\"],[1,\"#276419\"]],\"sequential\":[[0.0,\"#0d0887\"],[0.1111111111111111,\"#46039f\"],[0.2222222222222222,\"#7201a8\"],[0.3333333333333333,\"#9c179e\"],[0.4444444444444444,\"#bd3786\"],[0.5555555555555556,\"#d8576b\"],[0.6666666666666666,\"#ed7953\"],[0.7777777777777778,\"#fb9f3a\"],[0.8888888888888888,\"#fdca26\"],[1.0,\"#f0f921\"]],\"sequentialminus\":[[0.0,\"#0d0887\"],[0.1111111111111111,\"#46039f\"],[0.2222222222222222,\"#7201a8\"],[0.3333333333333333,\"#9c179e\"],[0.4444444444444444,\"#bd3786\"],[0.5555555555555556,\"#d8576b\"],[0.6666666666666666,\"#ed7953\"],[0.7777777777777778,\"#fb9f3a\"],[0.8888888888888888,\"#fdca26\"],[1.0,\"#f0f921\"]]},\"colorway\":[\"#636efa\",\"#EF553B\",\"#00cc96\",\"#ab63fa\",\"#FFA15A\",\"#19d3f3\",\"#FF6692\",\"#B6E880\",\"#FF97FF\",\"#FECB52\"],\"font\":{\"color\":\"#2a3f5f\"},\"geo\":{\"bgcolor\":\"white\",\"lakecolor\":\"white\",\"landcolor\":\"#E5ECF6\",\"showlakes\":true,\"showland\":true,\"subunitcolor\":\"white\"},\"hoverlabel\":{\"align\":\"left\"},\"hovermode\":\"closest\",\"mapbox\":{\"style\":\"light\"},\"paper_bgcolor\":\"white\",\"plot_bgcolor\":\"#E5ECF6\",\"polar\":{\"angularaxis\":{\"gridcolor\":\"white\",\"linecolor\":\"white\",\"ticks\":\"\"},\"bgcolor\":\"#E5ECF6\",\"radialaxis\":{\"gridcolor\":\"white\",\"linecolor\":\"white\",\"ticks\":\"\"}},\"scene\":{\"xaxis\":{\"backgroundcolor\":\"#E5ECF6\",\"gridcolor\":\"white\",\"gridwidth\":2,\"linecolor\":\"white\",\"showbackground\":true,\"ticks\":\"\",\"zerolinecolor\":\"white\"},\"yaxis\":{\"backgroundcolor\":\"#E5ECF6\",\"gridcolor\":\"white\",\"gridwidth\":2,\"linecolor\":\"white\",\"showbackground\":true,\"ticks\":\"\",\"zerolinecolor\":\"white\"},\"zaxis\":{\"backgroundcolor\":\"#E5ECF6\",\"gridcolor\":\"white\",\"gridwidth\":2,\"linecolor\":\"white\",\"showbackground\":true,\"ticks\":\"\",\"zerolinecolor\":\"white\"}},\"shapedefaults\":{\"line\":{\"color\":\"#2a3f5f\"}},\"ternary\":{\"aaxis\":{\"gridcolor\":\"white\",\"linecolor\":\"white\",\"ticks\":\"\"},\"baxis\":{\"gridcolor\":\"white\",\"linecolor\":\"white\",\"ticks\":\"\"},\"bgcolor\":\"#E5ECF6\",\"caxis\":{\"gridcolor\":\"white\",\"linecolor\":\"white\",\"ticks\":\"\"}},\"title\":{\"x\":0.05},\"xaxis\":{\"automargin\":true,\"gridcolor\":\"white\",\"linecolor\":\"white\",\"ticks\":\"\",\"title\":{\"standoff\":15},\"zerolinecolor\":\"white\",\"zerolinewidth\":2},\"yaxis\":{\"automargin\":true,\"gridcolor\":\"white\",\"linecolor\":\"white\",\"ticks\":\"\",\"title\":{\"standoff\":15},\"zerolinecolor\":\"white\",\"zerolinewidth\":2}}},\"title\":{\"text\":\"Distribution for age\"}},                        {\"responsive\": true}                    ).then(function(){\n",
       "                            \n",
       "var gd = document.getElementById('1d643667-88f8-4e16-baf6-9722fca272d9');\n",
       "var x = new MutationObserver(function (mutations, observer) {{\n",
       "        var display = window.getComputedStyle(gd).display;\n",
       "        if (!display || display === 'none') {{\n",
       "            console.log([gd, 'removed!']);\n",
       "            Plotly.purge(gd);\n",
       "            observer.disconnect();\n",
       "        }}\n",
       "}});\n",
       "\n",
       "// Listen for the removal of the full notebook cells\n",
       "var notebookContainer = gd.closest('#notebook-container');\n",
       "if (notebookContainer) {{\n",
       "    x.observe(notebookContainer, {childList: true});\n",
       "}}\n",
       "\n",
       "// Listen for the clearing of the current output cell\n",
       "var outputEl = gd.closest('.output');\n",
       "if (outputEl) {{\n",
       "    x.observe(outputEl, {childList: true});\n",
       "}}\n",
       "\n",
       "                        })                };                            </script>        </div>\n",
       "</body>\n",
       "</html>"
      ]
     },
     "metadata": {},
     "output_type": "display_data"
    }
   ],
   "source": [
    "bins = [0, 10, 20, 30, 40, 60, 80, np.inf]\n",
    "names = ['<10', '10-20', '20-30', '30-40', '40-60', '60-80', '80+']\n",
    "\n",
    "age_binned = pd.cut(df['age'], bins, labels=names)\n",
    "plot_distribution(age_binned)"
   ]
  },
  {
   "cell_type": "code",
   "execution_count": 4,
   "metadata": {
    "colab": {
     "base_uri": "https://localhost:8080/"
    },
    "id": "XkcyRB896cjR",
    "outputId": "815a7a5e-479b-484c-ef2c-201ece5902c5"
   },
   "outputs": [
    {
     "name": "stderr",
     "output_type": "stream",
     "text": [
      "/usr/local/lib/python3.8/dist-packages/keras/utils/image_utils.py:382: UserWarning: grayscale is deprecated. Please use color_mode = \"grayscale\"\n",
      "  warnings.warn('grayscale is deprecated. Please use '\n"
     ]
    }
   ],
   "source": [
    "np.random.seed(10)\n",
    "np.random.shuffle(filenames)\n",
    "\n",
    "age_labels, gender_labels, imgs, race_labels = [], [], [], []\n",
    "\n",
    "for filename in filenames:\n",
    "   \n",
    "    img = load_img(\"/content/crop_part1/\"+filename, grayscale=True)\n",
    "    img = img.resize((128,128), Image.ANTIALIAS)\n",
    "    img = np.array(img)\n",
    "    #img=img.flatten()\n",
    "    temp = filename.split('_')\n",
    "    age_labels.append(temp[0])\n",
    "    gender_labels.append(temp[1])\n",
    "    race_labels.append(temp[2])\n",
    "    imgs.append(img)"
   ]
  },
  {
   "cell_type": "code",
   "execution_count": null,
   "metadata": {
    "id": "72I3HDZ-jOHR"
   },
   "outputs": [],
   "source": [
    "# for file in os.listdir(\"/content/crop_part1/\"):\n",
    "  \n",
    "#     imgs.append(img)\n",
    "#     print(img)\n",
    "    "
   ]
  },
  {
   "cell_type": "code",
   "execution_count": 5,
   "metadata": {
    "id": "UTKpS5fUGLZC"
   },
   "outputs": [],
   "source": [
    "df = pd.DataFrame()"
   ]
  },
  {
   "cell_type": "code",
   "execution_count": 6,
   "metadata": {
    "id": "ldlalOHM6-MA"
   },
   "outputs": [],
   "source": [
    "df = pd.DataFrame()\n",
    "df['image'], df['age'], df['gender'] ,df['race']= imgs, age_labels, gender_labels ,race_labels\n",
    "# print(len(imgs))\n",
    "# print(len(age_labels))"
   ]
  },
  {
   "cell_type": "code",
   "execution_count": 7,
   "metadata": {
    "colab": {
     "base_uri": "https://localhost:8080/",
     "height": 206
    },
    "id": "bf83t3vg7TCn",
    "outputId": "8ac05289-4fe2-4cdb-f2b6-11328d0a3cd7"
   },
   "outputs": [
    {
     "data": {
      "text/html": [
       "\n",
       "  <div id=\"df-c9c786b0-d6a5-4dc0-ab6c-afe4d3b148da\">\n",
       "    <div class=\"colab-df-container\">\n",
       "      <div>\n",
       "<style scoped>\n",
       "    .dataframe tbody tr th:only-of-type {\n",
       "        vertical-align: middle;\n",
       "    }\n",
       "\n",
       "    .dataframe tbody tr th {\n",
       "        vertical-align: top;\n",
       "    }\n",
       "\n",
       "    .dataframe thead th {\n",
       "        text-align: right;\n",
       "    }\n",
       "</style>\n",
       "<table border=\"1\" class=\"dataframe\">\n",
       "  <thead>\n",
       "    <tr style=\"text-align: right;\">\n",
       "      <th></th>\n",
       "      <th>image</th>\n",
       "      <th>age</th>\n",
       "      <th>gender</th>\n",
       "      <th>race</th>\n",
       "    </tr>\n",
       "  </thead>\n",
       "  <tbody>\n",
       "    <tr>\n",
       "      <th>0</th>\n",
       "      <td>[[244, 242, 240, 238, 212, 142, 62, 23, 11, 6,...</td>\n",
       "      <td>51</td>\n",
       "      <td>0</td>\n",
       "      <td>2</td>\n",
       "    </tr>\n",
       "    <tr>\n",
       "      <th>1</th>\n",
       "      <td>[[10, 5, 9, 14, 10, 13, 22, 24, 20, 20, 22, 20...</td>\n",
       "      <td>29</td>\n",
       "      <td>1</td>\n",
       "      <td>1</td>\n",
       "    </tr>\n",
       "    <tr>\n",
       "      <th>2</th>\n",
       "      <td>[[78, 73, 73, 75, 88, 98, 118, 135, 155, 174, ...</td>\n",
       "      <td>31</td>\n",
       "      <td>0</td>\n",
       "      <td>0</td>\n",
       "    </tr>\n",
       "    <tr>\n",
       "      <th>3</th>\n",
       "      <td>[[3, 3, 3, 3, 4, 4, 6, 8, 10, 10, 11, 14, 26, ...</td>\n",
       "      <td>21</td>\n",
       "      <td>1</td>\n",
       "      <td>3</td>\n",
       "    </tr>\n",
       "    <tr>\n",
       "      <th>4</th>\n",
       "      <td>[[24, 10, 12, 19, 27, 35, 43, 53, 63, 73, 80, ...</td>\n",
       "      <td>45</td>\n",
       "      <td>0</td>\n",
       "      <td>3</td>\n",
       "    </tr>\n",
       "  </tbody>\n",
       "</table>\n",
       "</div>\n",
       "      <button class=\"colab-df-convert\" onclick=\"convertToInteractive('df-c9c786b0-d6a5-4dc0-ab6c-afe4d3b148da')\"\n",
       "              title=\"Convert this dataframe to an interactive table.\"\n",
       "              style=\"display:none;\">\n",
       "        \n",
       "  <svg xmlns=\"http://www.w3.org/2000/svg\" height=\"24px\"viewBox=\"0 0 24 24\"\n",
       "       width=\"24px\">\n",
       "    <path d=\"M0 0h24v24H0V0z\" fill=\"none\"/>\n",
       "    <path d=\"M18.56 5.44l.94 2.06.94-2.06 2.06-.94-2.06-.94-.94-2.06-.94 2.06-2.06.94zm-11 1L8.5 8.5l.94-2.06 2.06-.94-2.06-.94L8.5 2.5l-.94 2.06-2.06.94zm10 10l.94 2.06.94-2.06 2.06-.94-2.06-.94-.94-2.06-.94 2.06-2.06.94z\"/><path d=\"M17.41 7.96l-1.37-1.37c-.4-.4-.92-.59-1.43-.59-.52 0-1.04.2-1.43.59L10.3 9.45l-7.72 7.72c-.78.78-.78 2.05 0 2.83L4 21.41c.39.39.9.59 1.41.59.51 0 1.02-.2 1.41-.59l7.78-7.78 2.81-2.81c.8-.78.8-2.07 0-2.86zM5.41 20L4 18.59l7.72-7.72 1.47 1.35L5.41 20z\"/>\n",
       "  </svg>\n",
       "      </button>\n",
       "      \n",
       "  <style>\n",
       "    .colab-df-container {\n",
       "      display:flex;\n",
       "      flex-wrap:wrap;\n",
       "      gap: 12px;\n",
       "    }\n",
       "\n",
       "    .colab-df-convert {\n",
       "      background-color: #E8F0FE;\n",
       "      border: none;\n",
       "      border-radius: 50%;\n",
       "      cursor: pointer;\n",
       "      display: none;\n",
       "      fill: #1967D2;\n",
       "      height: 32px;\n",
       "      padding: 0 0 0 0;\n",
       "      width: 32px;\n",
       "    }\n",
       "\n",
       "    .colab-df-convert:hover {\n",
       "      background-color: #E2EBFA;\n",
       "      box-shadow: 0px 1px 2px rgba(60, 64, 67, 0.3), 0px 1px 3px 1px rgba(60, 64, 67, 0.15);\n",
       "      fill: #174EA6;\n",
       "    }\n",
       "\n",
       "    [theme=dark] .colab-df-convert {\n",
       "      background-color: #3B4455;\n",
       "      fill: #D2E3FC;\n",
       "    }\n",
       "\n",
       "    [theme=dark] .colab-df-convert:hover {\n",
       "      background-color: #434B5C;\n",
       "      box-shadow: 0px 1px 3px 1px rgba(0, 0, 0, 0.15);\n",
       "      filter: drop-shadow(0px 1px 2px rgba(0, 0, 0, 0.3));\n",
       "      fill: #FFFFFF;\n",
       "    }\n",
       "  </style>\n",
       "\n",
       "      <script>\n",
       "        const buttonEl =\n",
       "          document.querySelector('#df-c9c786b0-d6a5-4dc0-ab6c-afe4d3b148da button.colab-df-convert');\n",
       "        buttonEl.style.display =\n",
       "          google.colab.kernel.accessAllowed ? 'block' : 'none';\n",
       "\n",
       "        async function convertToInteractive(key) {\n",
       "          const element = document.querySelector('#df-c9c786b0-d6a5-4dc0-ab6c-afe4d3b148da');\n",
       "          const dataTable =\n",
       "            await google.colab.kernel.invokeFunction('convertToInteractive',\n",
       "                                                     [key], {});\n",
       "          if (!dataTable) return;\n",
       "\n",
       "          const docLinkHtml = 'Like what you see? Visit the ' +\n",
       "            '<a target=\"_blank\" href=https://colab.research.google.com/notebooks/data_table.ipynb>data table notebook</a>'\n",
       "            + ' to learn more about interactive tables.';\n",
       "          element.innerHTML = '';\n",
       "          dataTable['output_type'] = 'display_data';\n",
       "          await google.colab.output.renderOutput(dataTable, element);\n",
       "          const docLink = document.createElement('div');\n",
       "          docLink.innerHTML = docLinkHtml;\n",
       "          element.appendChild(docLink);\n",
       "        }\n",
       "      </script>\n",
       "    </div>\n",
       "  </div>\n",
       "  "
      ],
      "text/plain": [
       "                                               image age gender race\n",
       "0  [[244, 242, 240, 238, 212, 142, 62, 23, 11, 6,...  51      0    2\n",
       "1  [[10, 5, 9, 14, 10, 13, 22, 24, 20, 20, 22, 20...  29      1    1\n",
       "2  [[78, 73, 73, 75, 88, 98, 118, 135, 155, 174, ...  31      0    0\n",
       "3  [[3, 3, 3, 3, 4, 4, 6, 8, 10, 10, 11, 14, 26, ...  21      1    3\n",
       "4  [[24, 10, 12, 19, 27, 35, 43, 53, 63, 73, 80, ...  45      0    3"
      ]
     },
     "execution_count": 7,
     "metadata": {},
     "output_type": "execute_result"
    }
   ],
   "source": [
    "df.head()"
   ]
  },
  {
   "cell_type": "code",
   "execution_count": null,
   "metadata": {
    "id": "NbudBoIa7UCy"
   },
   "outputs": [],
   "source": [
    "#gender_dict = {0:\"Male\",1:\"Female\"}"
   ]
  },
  {
   "cell_type": "code",
   "execution_count": null,
   "metadata": {
    "id": "W4VihsutAWBo"
   },
   "outputs": [],
   "source": [
    "#race_dict={'white':0,'black':1,'asian':2,'indian':3,'others':4}"
   ]
  },
  {
   "cell_type": "code",
   "execution_count": null,
   "metadata": {
    "id": "zO8OVxcE7Z1N"
   },
   "outputs": [],
   "source": [
    "df = df.astype({'age':'float32', 'gender': 'int32'})"
   ]
  },
  {
   "cell_type": "code",
   "execution_count": null,
   "metadata": {
    "id": "DEqbXuKQ7cK-"
   },
   "outputs": [],
   "source": [
    "#print(df.dtypes)"
   ]
  },
  {
   "cell_type": "code",
   "execution_count": null,
   "metadata": {
    "id": "HTENmjh97fUj"
   },
   "outputs": [],
   "source": [
    "# img = Image.open(\"/content/crop_part1/\"+df.image[1])\n",
    "# plt.imshow(img)"
   ]
  },
  {
   "cell_type": "code",
   "execution_count": null,
   "metadata": {
    "id": "zQYaPdut7nG5"
   },
   "outputs": [],
   "source": [
    "# sns.distplot(df.age)"
   ]
  },
  {
   "cell_type": "code",
   "execution_count": null,
   "metadata": {
    "id": "rcJUAMss8MDA"
   },
   "outputs": [],
   "source": [
    "# files = df.iloc[0:20]\n",
    "# plt.figure(figsize=(15,15))\n",
    "# for index, file, age, gender, race in files.itertuples():\n",
    "#     plt.subplot(5,5, index+1)\n",
    "#     img = load_img(\"/content/crop_part1/\"+file)\n",
    "#     img = np.array(img)\n",
    "#     plt.imshow(img)\n",
    "#     plt.title(f\"Age: {age} Gender: {gender_dict[gender]}\")\n",
    "#     plt.axis('off')"
   ]
  },
  {
   "cell_type": "code",
   "execution_count": 8,
   "metadata": {
    "id": "NcvdKVme4dH9"
   },
   "outputs": [],
   "source": [
    "from keras import backend as K\n"
   ]
  },
  {
   "cell_type": "code",
   "execution_count": 9,
   "metadata": {
    "colab": {
     "base_uri": "https://localhost:8080/"
    },
    "id": "Jk2yr3Q6CPtb",
    "outputId": "3a5330a8-1584-4c53-904f-8f549d1d6394"
   },
   "outputs": [
    {
     "name": "stdout",
     "output_type": "stream",
     "text": [
      "(128, 128)\n"
     ]
    }
   ],
   "source": [
    "print(df.iloc[0,0].shape)"
   ]
  },
  {
   "cell_type": "code",
   "execution_count": 30,
   "metadata": {
    "id": "2D1T0J68HQie"
   },
   "outputs": [],
   "source": [
    "X=df.drop('age',axis=1)\n",
    "#X=df.iloc[:,0]\n",
    "#X=X.to_list()\n",
    "#tensor = tf.convert_to_tensor(X)\n",
    "#print(tensor)\n",
    "X=X.to_numpy()\n",
    "Y=df['age'].astype('int32').to_numpy()\n",
    "#print(df['image'])\n",
    "#Y=np.asarray(Y).astype(np.float32)\n",
    "# X=np.array(X)\n",
    "# Y=np.array(Y)\n",
    "#print(tensor)\n",
    "#print(Y.shape)"
   ]
  },
  {
   "cell_type": "code",
   "execution_count": null,
   "metadata": {
    "colab": {
     "base_uri": "https://localhost:8080/"
    },
    "id": "3fW4cAW-79xA",
    "outputId": "752195b4-cc6c-4b7c-bafd-f226d0137313"
   },
   "outputs": [
    {
     "name": "stdout",
     "output_type": "stream",
     "text": [
      "tf.Tensor(\n",
      "[[[244 242 240 ...  65  62  61]\n",
      "  [246 243 238 ...  60  59  59]\n",
      "  [247 243 236 ...  58  59  62]\n",
      "  ...\n",
      "  [158 156 155 ...  13  10  10]\n",
      "  [153 147 142 ...  17  15  12]\n",
      "  [137 127 118 ...  22  19  15]]\n",
      "\n",
      " [[ 10   5   9 ...  18  18  21]\n",
      "  [  6   3   7 ...  15  16  19]\n",
      "  [  8   7   9 ...  11  13  18]\n",
      "  ...\n",
      "  [ 19  15   9 ...  25  23  20]\n",
      "  [ 22  19  12 ...  26  23  21]\n",
      "  [ 28  33  32 ...  27  24  22]]\n",
      "\n",
      " [[ 78  73  73 ...  63  67  72]\n",
      "  [ 74  69  70 ...  75  78  82]\n",
      "  [ 69  64  70 ...  86  90  95]\n",
      "  ...\n",
      "  [ 40  40  39 ...  82  77  72]\n",
      "  [ 39  39  38 ...  91  86  81]\n",
      "  [ 38  38  38 ... 101  96  91]]\n",
      "\n",
      " ...\n",
      "\n",
      " [[ 10  18  43 ...  38  24  23]\n",
      "  [ 12  21  43 ...  25  24  27]\n",
      "  [ 18  27  41 ...  20  30  33]\n",
      "  ...\n",
      "  [236 246 246 ... 197 191 195]\n",
      "  [240 246 244 ... 208 202 197]\n",
      "  [243 247 245 ... 206 206 197]]\n",
      "\n",
      " [[239 239 238 ... 136 138 141]\n",
      "  [241 241 240 ... 130 132 133]\n",
      "  [242 242 242 ... 130 131 132]\n",
      "  ...\n",
      "  [112 109 105 ... 134 132 132]\n",
      "  [111 108 105 ... 130 128 129]\n",
      "  [111 108 105 ... 127 126 128]]\n",
      "\n",
      " [[245 248 217 ... 212 227 233]\n",
      "  [249 237 214 ... 217 230 237]\n",
      "  [246 237 227 ... 225 235 239]\n",
      "  ...\n",
      "  [ 49  88 104 ...   1   2   4]\n",
      "  [ 32  62 125 ...   1   2   3]\n",
      "  [ 42  70 151 ...   1   1   3]]], shape=(9780, 128, 128), dtype=int32)\n"
     ]
    }
   ],
   "source": [
    "#print(tensor)"
   ]
  },
  {
   "cell_type": "code",
   "execution_count": 31,
   "metadata": {
    "id": "mQEl2B088P7R"
   },
   "outputs": [],
   "source": [
    "Xtrain,Xtest , Ytrain, Ytest = train_test_split(X,Y, test_size=0.25, random_state=42)"
   ]
  },
  {
   "cell_type": "code",
   "execution_count": 32,
   "metadata": {
    "id": "vHPu1Raup6XW"
   },
   "outputs": [],
   "source": [
    "from keras.applications import VGG16"
   ]
  },
  {
   "cell_type": "code",
   "execution_count": 35,
   "metadata": {
    "colab": {
     "base_uri": "https://localhost:8080/"
    },
    "id": "l2K1KUqRrDAV",
    "outputId": "3c866034-0d55-479c-a5a6-c989b14c598a"
   },
   "outputs": [
    {
     "data": {
      "text/plain": [
       "numpy.ndarray"
      ]
     },
     "execution_count": 35,
     "metadata": {},
     "output_type": "execute_result"
    }
   ],
   "source": [
    "type(X)"
   ]
  },
  {
   "cell_type": "code",
   "execution_count": 36,
   "metadata": {
    "colab": {
     "base_uri": "https://localhost:8080/",
     "height": 1000
    },
    "id": "5xyi-HR2oM3c",
    "outputId": "fd32f1c9-5da0-420d-bee9-ca2104d50bbf"
   },
   "outputs": [
    {
     "name": "stdout",
     "output_type": "stream",
     "text": [
      "Model: \"vgg16\"\n",
      "_________________________________________________________________\n",
      " Layer (type)                Output Shape              Param #   \n",
      "=================================================================\n",
      " input_6 (InputLayer)        [(None, 128, 128, 3)]     0         \n",
      "                                                                 \n",
      " block1_conv1 (Conv2D)       (None, 128, 128, 64)      1792      \n",
      "                                                                 \n",
      " block1_conv2 (Conv2D)       (None, 128, 128, 64)      36928     \n",
      "                                                                 \n",
      " block1_pool (MaxPooling2D)  (None, 64, 64, 64)        0         \n",
      "                                                                 \n",
      " block2_conv1 (Conv2D)       (None, 64, 64, 128)       73856     \n",
      "                                                                 \n",
      " block2_conv2 (Conv2D)       (None, 64, 64, 128)       147584    \n",
      "                                                                 \n",
      " block2_pool (MaxPooling2D)  (None, 32, 32, 128)       0         \n",
      "                                                                 \n",
      " block3_conv1 (Conv2D)       (None, 32, 32, 256)       295168    \n",
      "                                                                 \n",
      " block3_conv2 (Conv2D)       (None, 32, 32, 256)       590080    \n",
      "                                                                 \n",
      " block3_conv3 (Conv2D)       (None, 32, 32, 256)       590080    \n",
      "                                                                 \n",
      " block3_pool (MaxPooling2D)  (None, 16, 16, 256)       0         \n",
      "                                                                 \n",
      " block4_conv1 (Conv2D)       (None, 16, 16, 512)       1180160   \n",
      "                                                                 \n",
      " block4_conv2 (Conv2D)       (None, 16, 16, 512)       2359808   \n",
      "                                                                 \n",
      " block4_conv3 (Conv2D)       (None, 16, 16, 512)       2359808   \n",
      "                                                                 \n",
      " block4_pool (MaxPooling2D)  (None, 8, 8, 512)         0         \n",
      "                                                                 \n",
      " block5_conv1 (Conv2D)       (None, 8, 8, 512)         2359808   \n",
      "                                                                 \n",
      " block5_conv2 (Conv2D)       (None, 8, 8, 512)         2359808   \n",
      "                                                                 \n",
      " block5_conv3 (Conv2D)       (None, 8, 8, 512)         2359808   \n",
      "                                                                 \n",
      " block5_pool (MaxPooling2D)  (None, 4, 4, 512)         0         \n",
      "                                                                 \n",
      "=================================================================\n",
      "Total params: 14,714,688\n",
      "Trainable params: 0\n",
      "Non-trainable params: 14,714,688\n",
      "_________________________________________________________________\n"
     ]
    },
    {
     "ename": "ValueError",
     "evalue": "ignored",
     "output_type": "error",
     "traceback": [
      "\u001b[0;31m---------------------------------------------------------------------------\u001b[0m",
      "\u001b[0;31mValueError\u001b[0m                                Traceback (most recent call last)",
      "\u001b[0;32m<ipython-input-36-bc0518b64faf>\u001b[0m in \u001b[0;36m<module>\u001b[0;34m\u001b[0m\n\u001b[1;32m      5\u001b[0m     \u001b[0mlayer\u001b[0m\u001b[0;34m.\u001b[0m\u001b[0mtrainable\u001b[0m \u001b[0;34m=\u001b[0m \u001b[0;32mFalse\u001b[0m\u001b[0;34m\u001b[0m\u001b[0;34m\u001b[0m\u001b[0m\n\u001b[1;32m      6\u001b[0m \u001b[0mVGG_model\u001b[0m\u001b[0;34m.\u001b[0m\u001b[0msummary\u001b[0m\u001b[0;34m(\u001b[0m\u001b[0;34m)\u001b[0m\u001b[0;34m\u001b[0m\u001b[0;34m\u001b[0m\u001b[0m\n\u001b[0;32m----> 7\u001b[0;31m \u001b[0mfeature_extractor\u001b[0m\u001b[0;34m=\u001b[0m\u001b[0mVGG_model\u001b[0m\u001b[0;34m.\u001b[0m\u001b[0mpredict\u001b[0m\u001b[0;34m(\u001b[0m\u001b[0mX\u001b[0m\u001b[0;34m)\u001b[0m\u001b[0;34m\u001b[0m\u001b[0;34m\u001b[0m\u001b[0m\n\u001b[0m\u001b[1;32m      8\u001b[0m \u001b[0mfeatures\u001b[0m \u001b[0;34m=\u001b[0m \u001b[0mfeature_extractor\u001b[0m\u001b[0;34m.\u001b[0m\u001b[0mreshape\u001b[0m\u001b[0;34m(\u001b[0m\u001b[0mfeature_extractor\u001b[0m\u001b[0;34m.\u001b[0m\u001b[0mshape\u001b[0m\u001b[0;34m[\u001b[0m\u001b[0;36m0\u001b[0m\u001b[0;34m]\u001b[0m\u001b[0;34m,\u001b[0m \u001b[0;34m-\u001b[0m\u001b[0;36m1\u001b[0m\u001b[0;34m)\u001b[0m\u001b[0;34m\u001b[0m\u001b[0;34m\u001b[0m\u001b[0m\n\u001b[1;32m      9\u001b[0m \u001b[0mtest_for_svm\u001b[0m\u001b[0;34m=\u001b[0m\u001b[0mfeatures\u001b[0m\u001b[0;34m\u001b[0m\u001b[0;34m\u001b[0m\u001b[0m\n",
      "\u001b[0;32m/usr/local/lib/python3.8/dist-packages/keras/utils/traceback_utils.py\u001b[0m in \u001b[0;36merror_handler\u001b[0;34m(*args, **kwargs)\u001b[0m\n\u001b[1;32m     65\u001b[0m     \u001b[0;32mexcept\u001b[0m \u001b[0mException\u001b[0m \u001b[0;32mas\u001b[0m \u001b[0me\u001b[0m\u001b[0;34m:\u001b[0m  \u001b[0;31m# pylint: disable=broad-except\u001b[0m\u001b[0;34m\u001b[0m\u001b[0;34m\u001b[0m\u001b[0m\n\u001b[1;32m     66\u001b[0m       \u001b[0mfiltered_tb\u001b[0m \u001b[0;34m=\u001b[0m \u001b[0m_process_traceback_frames\u001b[0m\u001b[0;34m(\u001b[0m\u001b[0me\u001b[0m\u001b[0;34m.\u001b[0m\u001b[0m__traceback__\u001b[0m\u001b[0;34m)\u001b[0m\u001b[0;34m\u001b[0m\u001b[0;34m\u001b[0m\u001b[0m\n\u001b[0;32m---> 67\u001b[0;31m       \u001b[0;32mraise\u001b[0m \u001b[0me\u001b[0m\u001b[0;34m.\u001b[0m\u001b[0mwith_traceback\u001b[0m\u001b[0;34m(\u001b[0m\u001b[0mfiltered_tb\u001b[0m\u001b[0;34m)\u001b[0m \u001b[0;32mfrom\u001b[0m \u001b[0;32mNone\u001b[0m\u001b[0;34m\u001b[0m\u001b[0;34m\u001b[0m\u001b[0m\n\u001b[0m\u001b[1;32m     68\u001b[0m     \u001b[0;32mfinally\u001b[0m\u001b[0;34m:\u001b[0m\u001b[0;34m\u001b[0m\u001b[0;34m\u001b[0m\u001b[0m\n\u001b[1;32m     69\u001b[0m       \u001b[0;32mdel\u001b[0m \u001b[0mfiltered_tb\u001b[0m\u001b[0;34m\u001b[0m\u001b[0;34m\u001b[0m\u001b[0m\n",
      "\u001b[0;32m/usr/local/lib/python3.8/dist-packages/tensorflow/python/framework/constant_op.py\u001b[0m in \u001b[0;36mconvert_to_eager_tensor\u001b[0;34m(value, ctx, dtype)\u001b[0m\n\u001b[1;32m    100\u001b[0m       \u001b[0mdtype\u001b[0m \u001b[0;34m=\u001b[0m \u001b[0mdtypes\u001b[0m\u001b[0;34m.\u001b[0m\u001b[0mas_dtype\u001b[0m\u001b[0;34m(\u001b[0m\u001b[0mdtype\u001b[0m\u001b[0;34m)\u001b[0m\u001b[0;34m.\u001b[0m\u001b[0mas_datatype_enum\u001b[0m\u001b[0;34m\u001b[0m\u001b[0;34m\u001b[0m\u001b[0m\n\u001b[1;32m    101\u001b[0m   \u001b[0mctx\u001b[0m\u001b[0;34m.\u001b[0m\u001b[0mensure_initialized\u001b[0m\u001b[0;34m(\u001b[0m\u001b[0;34m)\u001b[0m\u001b[0;34m\u001b[0m\u001b[0;34m\u001b[0m\u001b[0m\n\u001b[0;32m--> 102\u001b[0;31m   \u001b[0;32mreturn\u001b[0m \u001b[0mops\u001b[0m\u001b[0;34m.\u001b[0m\u001b[0mEagerTensor\u001b[0m\u001b[0;34m(\u001b[0m\u001b[0mvalue\u001b[0m\u001b[0;34m,\u001b[0m \u001b[0mctx\u001b[0m\u001b[0;34m.\u001b[0m\u001b[0mdevice_name\u001b[0m\u001b[0;34m,\u001b[0m \u001b[0mdtype\u001b[0m\u001b[0;34m)\u001b[0m\u001b[0;34m\u001b[0m\u001b[0;34m\u001b[0m\u001b[0m\n\u001b[0m\u001b[1;32m    103\u001b[0m \u001b[0;34m\u001b[0m\u001b[0m\n\u001b[1;32m    104\u001b[0m \u001b[0;34m\u001b[0m\u001b[0m\n",
      "\u001b[0;31mValueError\u001b[0m: Failed to convert a NumPy array to a Tensor (Unsupported object type numpy.ndarray)."
     ]
    }
   ],
   "source": [
    "#feature extraction\n",
    "VGG_model = VGG16(weights='imagenet', include_top=False, input_shape=(128,128, 3))\n",
    " \n",
    "for layer in VGG_model.layers:\n",
    "    layer.trainable = False\n",
    "VGG_model.summary()\n",
    "feature_extractor=VGG_model.predict(X)\n",
    "features = feature_extractor.reshape(feature_extractor.shape[0], -1)\n",
    "test_for_svm=features\n",
    "feature_extractor_test=VGG_model.predict(X)\n",
    "features_test = feature_extractor_test.reshape(feature_extractor_test.shape[0], -1)"
   ]
  },
  {
   "cell_type": "markdown",
   "metadata": {
    "id": "tzdbCM0c2A-i"
   },
   "source": [
    "Creating model"
   ]
  },
  {
   "cell_type": "code",
   "execution_count": null,
   "metadata": {
    "colab": {
     "base_uri": "https://localhost:8080/"
    },
    "id": "gRgbVyfG9ncU",
    "outputId": "8f9d14a1-6f55-4c01-d7f8-2cbd69dbe7df"
   },
   "outputs": [
    {
     "name": "stdout",
     "output_type": "stream",
     "text": [
      "Epoch 1/10\n",
      "392/392 [==============================] - 24s 57ms/step - loss: 1472.8861 - accuracy: 0.0049 - val_loss: 1503.2357 - val_accuracy: 0.0072\n",
      "Epoch 2/10\n",
      "392/392 [==============================] - 22s 56ms/step - loss: 1472.8864 - accuracy: 0.0049 - val_loss: 1503.2357 - val_accuracy: 0.0072\n",
      "Epoch 3/10\n",
      "392/392 [==============================] - 22s 55ms/step - loss: 1472.8867 - accuracy: 0.0049 - val_loss: 1503.2357 - val_accuracy: 0.0072\n",
      "Epoch 4/10\n",
      "392/392 [==============================] - 22s 55ms/step - loss: 1472.8866 - accuracy: 0.0049 - val_loss: 1503.2357 - val_accuracy: 0.0072\n",
      "Epoch 5/10\n",
      "392/392 [==============================] - 22s 55ms/step - loss: 1472.8866 - accuracy: 0.0049 - val_loss: 1503.2357 - val_accuracy: 0.0072\n",
      "Epoch 6/10\n",
      "392/392 [==============================] - 22s 57ms/step - loss: 1472.8867 - accuracy: 0.0049 - val_loss: 1503.2357 - val_accuracy: 0.0072\n",
      "Epoch 7/10\n",
      "392/392 [==============================] - 22s 55ms/step - loss: 1472.8871 - accuracy: 0.0049 - val_loss: 1503.2357 - val_accuracy: 0.0072\n",
      "Epoch 8/10\n",
      "392/392 [==============================] - 21s 54ms/step - loss: 1472.8862 - accuracy: 0.0049 - val_loss: 1503.2357 - val_accuracy: 0.0072\n",
      "Epoch 9/10\n",
      "392/392 [==============================] - 21s 54ms/step - loss: 1472.8873 - accuracy: 0.0049 - val_loss: 1503.2357 - val_accuracy: 0.0072\n",
      "Epoch 10/10\n",
      "392/392 [==============================] - 22s 55ms/step - loss: 1472.8862 - accuracy: 0.0049 - val_loss: 1503.2357 - val_accuracy: 0.0072\n"
     ]
    }
   ],
   "source": [
    "from sklearn.preprocessing import Normalizer\n",
    "from sklearn.neural_network import MLPRegressor\n",
    "from tensorflow import keras\n",
    "from keras.layers import Dense, Dropout, Activation, Flatten, Conv2D, MaxPooling2D\n",
    "model = keras.Sequential()\n",
    "model.add(Flatten(input_shape=(128,128)))\n",
    "# model.add(Activation('relu'))\n",
    "\n",
    "model.add(Dense(500))\n",
    "model.add(Activation('relu'))\n",
    "model.add(Dropout(0.2))\n",
    "\n",
    "model.add(Dense(500))\n",
    "model.add(Activation('relu'))\n",
    "model.add(Dropout(0.2))\n",
    "\n",
    "model.add(Dense(110))\n",
    "model.add(Activation('softmax'))\n",
    "\n",
    "opt = keras.optimizers.Adam(learning_rate=.1)\n",
    "model.compile(loss='mean_squared_error', optimizer=opt, metrics=['accuracy'])\n",
    "\n",
    "# fit model\n",
    "hist = model.fit(tensor,Y,batch_size = 20, epochs=10, verbose=1, validation_split = .2)\n",
    "\n"
   ]
  },
  {
   "cell_type": "code",
   "execution_count": null,
   "metadata": {
    "id": "iUyXjfGIC3pc"
   },
   "outputs": [],
   "source": []
  }
 ],
 "metadata": {
  "colab": {
   "provenance": []
  },
  "kernelspec": {
   "display_name": "Python 3",
   "language": "python",
   "name": "python3"
  },
  "language_info": {
   "codemirror_mode": {
    "name": "ipython",
    "version": 3
   },
   "file_extension": ".py",
   "mimetype": "text/x-python",
   "name": "python",
   "nbconvert_exporter": "python",
   "pygments_lexer": "ipython3",
   "version": "3.8.8"
  }
 },
 "nbformat": 4,
 "nbformat_minor": 1
}
